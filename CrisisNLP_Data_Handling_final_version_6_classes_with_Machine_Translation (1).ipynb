{
  "nbformat": 4,
  "nbformat_minor": 0,
  "metadata": {
    "colab": {
      "name": "CrisisNLP_Data_Handling_final_version_6_classes_with Machine_Translation.ipynb",
      "provenance": [],
      "collapsed_sections": [
        "_g0fWRreEm8K",
        "6opZRxdSW9jE",
        "SrDFDsaussSN",
        "l-GqfFtARZll",
        "VDFxPzhn-t6j",
        "8uajzOmW7Awl"
      ],
      "machine_shape": "hm"
    },
    "kernelspec": {
      "name": "python3",
      "display_name": "Python 3"
    },
    "widgets": {
      "application/vnd.jupyter.widget-state+json": {
        "7240a4a0bd524c34a7f5dcc29fdf618d": {
          "model_module": "@jupyter-widgets/controls",
          "model_name": "HBoxModel",
          "model_module_version": "1.5.0",
          "state": {
            "_view_name": "HBoxView",
            "_dom_classes": [],
            "_model_name": "HBoxModel",
            "_view_module": "@jupyter-widgets/controls",
            "_model_module_version": "1.5.0",
            "_view_count": null,
            "_view_module_version": "1.5.0",
            "box_style": "",
            "layout": "IPY_MODEL_dce04ef880844351a194b759493871db",
            "_model_module": "@jupyter-widgets/controls",
            "children": [
              "IPY_MODEL_d84205626a2a4802bf481c3df7de39d4",
              "IPY_MODEL_cddc5b230dbe4e07810392d2dc00663e",
              "IPY_MODEL_fc5af3212fc04cf488b39c4413a152b7"
            ]
          }
        },
        "dce04ef880844351a194b759493871db": {
          "model_module": "@jupyter-widgets/base",
          "model_name": "LayoutModel",
          "model_module_version": "1.2.0",
          "state": {
            "_view_name": "LayoutView",
            "grid_template_rows": null,
            "right": null,
            "justify_content": null,
            "_view_module": "@jupyter-widgets/base",
            "overflow": null,
            "_model_module_version": "1.2.0",
            "_view_count": null,
            "flex_flow": null,
            "width": null,
            "min_width": null,
            "border": null,
            "align_items": null,
            "bottom": null,
            "_model_module": "@jupyter-widgets/base",
            "top": null,
            "grid_column": null,
            "overflow_y": null,
            "overflow_x": null,
            "grid_auto_flow": null,
            "grid_area": null,
            "grid_template_columns": null,
            "flex": null,
            "_model_name": "LayoutModel",
            "justify_items": null,
            "grid_row": null,
            "max_height": null,
            "align_content": null,
            "visibility": null,
            "align_self": null,
            "height": null,
            "min_height": null,
            "padding": null,
            "grid_auto_rows": null,
            "grid_gap": null,
            "max_width": null,
            "order": null,
            "_view_module_version": "1.2.0",
            "grid_template_areas": null,
            "object_position": null,
            "object_fit": null,
            "grid_auto_columns": null,
            "margin": null,
            "display": null,
            "left": null
          }
        },
        "d84205626a2a4802bf481c3df7de39d4": {
          "model_module": "@jupyter-widgets/controls",
          "model_name": "HTMLModel",
          "model_module_version": "1.5.0",
          "state": {
            "_view_name": "HTMLView",
            "style": "IPY_MODEL_ac85d93d3ea8499da49ed467311f718d",
            "_dom_classes": [],
            "description": "",
            "_model_name": "HTMLModel",
            "placeholder": "​",
            "_view_module": "@jupyter-widgets/controls",
            "_model_module_version": "1.5.0",
            "value": "Downloading: 100%",
            "_view_count": null,
            "_view_module_version": "1.5.0",
            "description_tooltip": null,
            "_model_module": "@jupyter-widgets/controls",
            "layout": "IPY_MODEL_6bba33935edc4609ac45a9497f501eda"
          }
        },
        "cddc5b230dbe4e07810392d2dc00663e": {
          "model_module": "@jupyter-widgets/controls",
          "model_name": "FloatProgressModel",
          "model_module_version": "1.5.0",
          "state": {
            "_view_name": "ProgressView",
            "style": "IPY_MODEL_24fe1f996eb34054babe7cd1b011e0f9",
            "_dom_classes": [],
            "description": "",
            "_model_name": "FloatProgressModel",
            "bar_style": "success",
            "max": 908,
            "_view_module": "@jupyter-widgets/controls",
            "_model_module_version": "1.5.0",
            "value": 908,
            "_view_count": null,
            "_view_module_version": "1.5.0",
            "orientation": "horizontal",
            "min": 0,
            "description_tooltip": null,
            "_model_module": "@jupyter-widgets/controls",
            "layout": "IPY_MODEL_e52047c63d214fd88bfe739d0ed891bb"
          }
        },
        "fc5af3212fc04cf488b39c4413a152b7": {
          "model_module": "@jupyter-widgets/controls",
          "model_name": "HTMLModel",
          "model_module_version": "1.5.0",
          "state": {
            "_view_name": "HTMLView",
            "style": "IPY_MODEL_b16bfbaa57594b48976e7bab3d9d766c",
            "_dom_classes": [],
            "description": "",
            "_model_name": "HTMLModel",
            "placeholder": "​",
            "_view_module": "@jupyter-widgets/controls",
            "_model_module_version": "1.5.0",
            "value": " 908/908 [00:00&lt;00:00, 17.2kB/s]",
            "_view_count": null,
            "_view_module_version": "1.5.0",
            "description_tooltip": null,
            "_model_module": "@jupyter-widgets/controls",
            "layout": "IPY_MODEL_21dbcc40af2e4ec0bb8f1dd6c612c2d6"
          }
        },
        "ac85d93d3ea8499da49ed467311f718d": {
          "model_module": "@jupyter-widgets/controls",
          "model_name": "DescriptionStyleModel",
          "model_module_version": "1.5.0",
          "state": {
            "_view_name": "StyleView",
            "_model_name": "DescriptionStyleModel",
            "description_width": "",
            "_view_module": "@jupyter-widgets/base",
            "_model_module_version": "1.5.0",
            "_view_count": null,
            "_view_module_version": "1.2.0",
            "_model_module": "@jupyter-widgets/controls"
          }
        },
        "6bba33935edc4609ac45a9497f501eda": {
          "model_module": "@jupyter-widgets/base",
          "model_name": "LayoutModel",
          "model_module_version": "1.2.0",
          "state": {
            "_view_name": "LayoutView",
            "grid_template_rows": null,
            "right": null,
            "justify_content": null,
            "_view_module": "@jupyter-widgets/base",
            "overflow": null,
            "_model_module_version": "1.2.0",
            "_view_count": null,
            "flex_flow": null,
            "width": null,
            "min_width": null,
            "border": null,
            "align_items": null,
            "bottom": null,
            "_model_module": "@jupyter-widgets/base",
            "top": null,
            "grid_column": null,
            "overflow_y": null,
            "overflow_x": null,
            "grid_auto_flow": null,
            "grid_area": null,
            "grid_template_columns": null,
            "flex": null,
            "_model_name": "LayoutModel",
            "justify_items": null,
            "grid_row": null,
            "max_height": null,
            "align_content": null,
            "visibility": null,
            "align_self": null,
            "height": null,
            "min_height": null,
            "padding": null,
            "grid_auto_rows": null,
            "grid_gap": null,
            "max_width": null,
            "order": null,
            "_view_module_version": "1.2.0",
            "grid_template_areas": null,
            "object_position": null,
            "object_fit": null,
            "grid_auto_columns": null,
            "margin": null,
            "display": null,
            "left": null
          }
        },
        "24fe1f996eb34054babe7cd1b011e0f9": {
          "model_module": "@jupyter-widgets/controls",
          "model_name": "ProgressStyleModel",
          "model_module_version": "1.5.0",
          "state": {
            "_view_name": "StyleView",
            "_model_name": "ProgressStyleModel",
            "description_width": "",
            "_view_module": "@jupyter-widgets/base",
            "_model_module_version": "1.5.0",
            "_view_count": null,
            "_view_module_version": "1.2.0",
            "bar_color": null,
            "_model_module": "@jupyter-widgets/controls"
          }
        },
        "e52047c63d214fd88bfe739d0ed891bb": {
          "model_module": "@jupyter-widgets/base",
          "model_name": "LayoutModel",
          "model_module_version": "1.2.0",
          "state": {
            "_view_name": "LayoutView",
            "grid_template_rows": null,
            "right": null,
            "justify_content": null,
            "_view_module": "@jupyter-widgets/base",
            "overflow": null,
            "_model_module_version": "1.2.0",
            "_view_count": null,
            "flex_flow": null,
            "width": null,
            "min_width": null,
            "border": null,
            "align_items": null,
            "bottom": null,
            "_model_module": "@jupyter-widgets/base",
            "top": null,
            "grid_column": null,
            "overflow_y": null,
            "overflow_x": null,
            "grid_auto_flow": null,
            "grid_area": null,
            "grid_template_columns": null,
            "flex": null,
            "_model_name": "LayoutModel",
            "justify_items": null,
            "grid_row": null,
            "max_height": null,
            "align_content": null,
            "visibility": null,
            "align_self": null,
            "height": null,
            "min_height": null,
            "padding": null,
            "grid_auto_rows": null,
            "grid_gap": null,
            "max_width": null,
            "order": null,
            "_view_module_version": "1.2.0",
            "grid_template_areas": null,
            "object_position": null,
            "object_fit": null,
            "grid_auto_columns": null,
            "margin": null,
            "display": null,
            "left": null
          }
        },
        "b16bfbaa57594b48976e7bab3d9d766c": {
          "model_module": "@jupyter-widgets/controls",
          "model_name": "DescriptionStyleModel",
          "model_module_version": "1.5.0",
          "state": {
            "_view_name": "StyleView",
            "_model_name": "DescriptionStyleModel",
            "description_width": "",
            "_view_module": "@jupyter-widgets/base",
            "_model_module_version": "1.5.0",
            "_view_count": null,
            "_view_module_version": "1.2.0",
            "_model_module": "@jupyter-widgets/controls"
          }
        },
        "21dbcc40af2e4ec0bb8f1dd6c612c2d6": {
          "model_module": "@jupyter-widgets/base",
          "model_name": "LayoutModel",
          "model_module_version": "1.2.0",
          "state": {
            "_view_name": "LayoutView",
            "grid_template_rows": null,
            "right": null,
            "justify_content": null,
            "_view_module": "@jupyter-widgets/base",
            "overflow": null,
            "_model_module_version": "1.2.0",
            "_view_count": null,
            "flex_flow": null,
            "width": null,
            "min_width": null,
            "border": null,
            "align_items": null,
            "bottom": null,
            "_model_module": "@jupyter-widgets/base",
            "top": null,
            "grid_column": null,
            "overflow_y": null,
            "overflow_x": null,
            "grid_auto_flow": null,
            "grid_area": null,
            "grid_template_columns": null,
            "flex": null,
            "_model_name": "LayoutModel",
            "justify_items": null,
            "grid_row": null,
            "max_height": null,
            "align_content": null,
            "visibility": null,
            "align_self": null,
            "height": null,
            "min_height": null,
            "padding": null,
            "grid_auto_rows": null,
            "grid_gap": null,
            "max_width": null,
            "order": null,
            "_view_module_version": "1.2.0",
            "grid_template_areas": null,
            "object_position": null,
            "object_fit": null,
            "grid_auto_columns": null,
            "margin": null,
            "display": null,
            "left": null
          }
        },
        "8b83da600bfe435f93dfa9bd5641460a": {
          "model_module": "@jupyter-widgets/controls",
          "model_name": "HBoxModel",
          "model_module_version": "1.5.0",
          "state": {
            "_view_name": "HBoxView",
            "_dom_classes": [],
            "_model_name": "HBoxModel",
            "_view_module": "@jupyter-widgets/controls",
            "_model_module_version": "1.5.0",
            "_view_count": null,
            "_view_module_version": "1.5.0",
            "box_style": "",
            "layout": "IPY_MODEL_7396cb2eeaab4005a18b1c6fcccee790",
            "_model_module": "@jupyter-widgets/controls",
            "children": [
              "IPY_MODEL_0184b276a3f845538a5f6c1d3d208054",
              "IPY_MODEL_d067182b6ef844ad9fa47545813f43e9",
              "IPY_MODEL_7c6480c1f7a84fb38ec6388ce7904dc1"
            ]
          }
        },
        "7396cb2eeaab4005a18b1c6fcccee790": {
          "model_module": "@jupyter-widgets/base",
          "model_name": "LayoutModel",
          "model_module_version": "1.2.0",
          "state": {
            "_view_name": "LayoutView",
            "grid_template_rows": null,
            "right": null,
            "justify_content": null,
            "_view_module": "@jupyter-widgets/base",
            "overflow": null,
            "_model_module_version": "1.2.0",
            "_view_count": null,
            "flex_flow": null,
            "width": null,
            "min_width": null,
            "border": null,
            "align_items": null,
            "bottom": null,
            "_model_module": "@jupyter-widgets/base",
            "top": null,
            "grid_column": null,
            "overflow_y": null,
            "overflow_x": null,
            "grid_auto_flow": null,
            "grid_area": null,
            "grid_template_columns": null,
            "flex": null,
            "_model_name": "LayoutModel",
            "justify_items": null,
            "grid_row": null,
            "max_height": null,
            "align_content": null,
            "visibility": null,
            "align_self": null,
            "height": null,
            "min_height": null,
            "padding": null,
            "grid_auto_rows": null,
            "grid_gap": null,
            "max_width": null,
            "order": null,
            "_view_module_version": "1.2.0",
            "grid_template_areas": null,
            "object_position": null,
            "object_fit": null,
            "grid_auto_columns": null,
            "margin": null,
            "display": null,
            "left": null
          }
        },
        "0184b276a3f845538a5f6c1d3d208054": {
          "model_module": "@jupyter-widgets/controls",
          "model_name": "HTMLModel",
          "model_module_version": "1.5.0",
          "state": {
            "_view_name": "HTMLView",
            "style": "IPY_MODEL_47864a363fa04a40a26f1c39eefc00c5",
            "_dom_classes": [],
            "description": "",
            "_model_name": "HTMLModel",
            "placeholder": "​",
            "_view_module": "@jupyter-widgets/controls",
            "_model_module_version": "1.5.0",
            "value": "Downloading: 100%",
            "_view_count": null,
            "_view_module_version": "1.5.0",
            "description_tooltip": null,
            "_model_module": "@jupyter-widgets/controls",
            "layout": "IPY_MODEL_5fcf523663bb4051b1ca556f278d7103"
          }
        },
        "d067182b6ef844ad9fa47545813f43e9": {
          "model_module": "@jupyter-widgets/controls",
          "model_name": "FloatProgressModel",
          "model_module_version": "1.5.0",
          "state": {
            "_view_name": "ProgressView",
            "style": "IPY_MODEL_1ca83cbfe61844e286e83ba2d84ecdc7",
            "_dom_classes": [],
            "description": "",
            "_model_name": "FloatProgressModel",
            "bar_style": "success",
            "max": 1935796948,
            "_view_module": "@jupyter-widgets/controls",
            "_model_module_version": "1.5.0",
            "value": 1935796948,
            "_view_count": null,
            "_view_module_version": "1.5.0",
            "orientation": "horizontal",
            "min": 0,
            "description_tooltip": null,
            "_model_module": "@jupyter-widgets/controls",
            "layout": "IPY_MODEL_3b3da94cb47f4bc68a4d3f4e0ad9a6cd"
          }
        },
        "7c6480c1f7a84fb38ec6388ce7904dc1": {
          "model_module": "@jupyter-widgets/controls",
          "model_name": "HTMLModel",
          "model_module_version": "1.5.0",
          "state": {
            "_view_name": "HTMLView",
            "style": "IPY_MODEL_ade4396815f7488ca84281fc8c313c99",
            "_dom_classes": [],
            "description": "",
            "_model_name": "HTMLModel",
            "placeholder": "​",
            "_view_module": "@jupyter-widgets/controls",
            "_model_module_version": "1.5.0",
            "value": " 1.80G/1.80G [01:03&lt;00:00, 34.0MB/s]",
            "_view_count": null,
            "_view_module_version": "1.5.0",
            "description_tooltip": null,
            "_model_module": "@jupyter-widgets/controls",
            "layout": "IPY_MODEL_d5cdd9fdf2b84e30b3b39fd751eba815"
          }
        },
        "47864a363fa04a40a26f1c39eefc00c5": {
          "model_module": "@jupyter-widgets/controls",
          "model_name": "DescriptionStyleModel",
          "model_module_version": "1.5.0",
          "state": {
            "_view_name": "StyleView",
            "_model_name": "DescriptionStyleModel",
            "description_width": "",
            "_view_module": "@jupyter-widgets/base",
            "_model_module_version": "1.5.0",
            "_view_count": null,
            "_view_module_version": "1.2.0",
            "_model_module": "@jupyter-widgets/controls"
          }
        },
        "5fcf523663bb4051b1ca556f278d7103": {
          "model_module": "@jupyter-widgets/base",
          "model_name": "LayoutModel",
          "model_module_version": "1.2.0",
          "state": {
            "_view_name": "LayoutView",
            "grid_template_rows": null,
            "right": null,
            "justify_content": null,
            "_view_module": "@jupyter-widgets/base",
            "overflow": null,
            "_model_module_version": "1.2.0",
            "_view_count": null,
            "flex_flow": null,
            "width": null,
            "min_width": null,
            "border": null,
            "align_items": null,
            "bottom": null,
            "_model_module": "@jupyter-widgets/base",
            "top": null,
            "grid_column": null,
            "overflow_y": null,
            "overflow_x": null,
            "grid_auto_flow": null,
            "grid_area": null,
            "grid_template_columns": null,
            "flex": null,
            "_model_name": "LayoutModel",
            "justify_items": null,
            "grid_row": null,
            "max_height": null,
            "align_content": null,
            "visibility": null,
            "align_self": null,
            "height": null,
            "min_height": null,
            "padding": null,
            "grid_auto_rows": null,
            "grid_gap": null,
            "max_width": null,
            "order": null,
            "_view_module_version": "1.2.0",
            "grid_template_areas": null,
            "object_position": null,
            "object_fit": null,
            "grid_auto_columns": null,
            "margin": null,
            "display": null,
            "left": null
          }
        },
        "1ca83cbfe61844e286e83ba2d84ecdc7": {
          "model_module": "@jupyter-widgets/controls",
          "model_name": "ProgressStyleModel",
          "model_module_version": "1.5.0",
          "state": {
            "_view_name": "StyleView",
            "_model_name": "ProgressStyleModel",
            "description_width": "",
            "_view_module": "@jupyter-widgets/base",
            "_model_module_version": "1.5.0",
            "_view_count": null,
            "_view_module_version": "1.2.0",
            "bar_color": null,
            "_model_module": "@jupyter-widgets/controls"
          }
        },
        "3b3da94cb47f4bc68a4d3f4e0ad9a6cd": {
          "model_module": "@jupyter-widgets/base",
          "model_name": "LayoutModel",
          "model_module_version": "1.2.0",
          "state": {
            "_view_name": "LayoutView",
            "grid_template_rows": null,
            "right": null,
            "justify_content": null,
            "_view_module": "@jupyter-widgets/base",
            "overflow": null,
            "_model_module_version": "1.2.0",
            "_view_count": null,
            "flex_flow": null,
            "width": null,
            "min_width": null,
            "border": null,
            "align_items": null,
            "bottom": null,
            "_model_module": "@jupyter-widgets/base",
            "top": null,
            "grid_column": null,
            "overflow_y": null,
            "overflow_x": null,
            "grid_auto_flow": null,
            "grid_area": null,
            "grid_template_columns": null,
            "flex": null,
            "_model_name": "LayoutModel",
            "justify_items": null,
            "grid_row": null,
            "max_height": null,
            "align_content": null,
            "visibility": null,
            "align_self": null,
            "height": null,
            "min_height": null,
            "padding": null,
            "grid_auto_rows": null,
            "grid_gap": null,
            "max_width": null,
            "order": null,
            "_view_module_version": "1.2.0",
            "grid_template_areas": null,
            "object_position": null,
            "object_fit": null,
            "grid_auto_columns": null,
            "margin": null,
            "display": null,
            "left": null
          }
        },
        "ade4396815f7488ca84281fc8c313c99": {
          "model_module": "@jupyter-widgets/controls",
          "model_name": "DescriptionStyleModel",
          "model_module_version": "1.5.0",
          "state": {
            "_view_name": "StyleView",
            "_model_name": "DescriptionStyleModel",
            "description_width": "",
            "_view_module": "@jupyter-widgets/base",
            "_model_module_version": "1.5.0",
            "_view_count": null,
            "_view_module_version": "1.2.0",
            "_model_module": "@jupyter-widgets/controls"
          }
        },
        "d5cdd9fdf2b84e30b3b39fd751eba815": {
          "model_module": "@jupyter-widgets/base",
          "model_name": "LayoutModel",
          "model_module_version": "1.2.0",
          "state": {
            "_view_name": "LayoutView",
            "grid_template_rows": null,
            "right": null,
            "justify_content": null,
            "_view_module": "@jupyter-widgets/base",
            "overflow": null,
            "_model_module_version": "1.2.0",
            "_view_count": null,
            "flex_flow": null,
            "width": null,
            "min_width": null,
            "border": null,
            "align_items": null,
            "bottom": null,
            "_model_module": "@jupyter-widgets/base",
            "top": null,
            "grid_column": null,
            "overflow_y": null,
            "overflow_x": null,
            "grid_auto_flow": null,
            "grid_area": null,
            "grid_template_columns": null,
            "flex": null,
            "_model_name": "LayoutModel",
            "justify_items": null,
            "grid_row": null,
            "max_height": null,
            "align_content": null,
            "visibility": null,
            "align_self": null,
            "height": null,
            "min_height": null,
            "padding": null,
            "grid_auto_rows": null,
            "grid_gap": null,
            "max_width": null,
            "order": null,
            "_view_module_version": "1.2.0",
            "grid_template_areas": null,
            "object_position": null,
            "object_fit": null,
            "grid_auto_columns": null,
            "margin": null,
            "display": null,
            "left": null
          }
        },
        "2000c8f0dd5348ae9d120c97115fa938": {
          "model_module": "@jupyter-widgets/controls",
          "model_name": "HBoxModel",
          "model_module_version": "1.5.0",
          "state": {
            "_view_name": "HBoxView",
            "_dom_classes": [],
            "_model_name": "HBoxModel",
            "_view_module": "@jupyter-widgets/controls",
            "_model_module_version": "1.5.0",
            "_view_count": null,
            "_view_module_version": "1.5.0",
            "box_style": "",
            "layout": "IPY_MODEL_5931520224354862ac014f47292bb42b",
            "_model_module": "@jupyter-widgets/controls",
            "children": [
              "IPY_MODEL_622b14e9730f40bfb94ae2f58c951bd0",
              "IPY_MODEL_a9613cb53156403e9765987c4ef3c5f5",
              "IPY_MODEL_7fc5a05020be45179257785f7383a520"
            ]
          }
        },
        "5931520224354862ac014f47292bb42b": {
          "model_module": "@jupyter-widgets/base",
          "model_name": "LayoutModel",
          "model_module_version": "1.2.0",
          "state": {
            "_view_name": "LayoutView",
            "grid_template_rows": null,
            "right": null,
            "justify_content": null,
            "_view_module": "@jupyter-widgets/base",
            "overflow": null,
            "_model_module_version": "1.2.0",
            "_view_count": null,
            "flex_flow": null,
            "width": null,
            "min_width": null,
            "border": null,
            "align_items": null,
            "bottom": null,
            "_model_module": "@jupyter-widgets/base",
            "top": null,
            "grid_column": null,
            "overflow_y": null,
            "overflow_x": null,
            "grid_auto_flow": null,
            "grid_area": null,
            "grid_template_columns": null,
            "flex": null,
            "_model_name": "LayoutModel",
            "justify_items": null,
            "grid_row": null,
            "max_height": null,
            "align_content": null,
            "visibility": null,
            "align_self": null,
            "height": null,
            "min_height": null,
            "padding": null,
            "grid_auto_rows": null,
            "grid_gap": null,
            "max_width": null,
            "order": null,
            "_view_module_version": "1.2.0",
            "grid_template_areas": null,
            "object_position": null,
            "object_fit": null,
            "grid_auto_columns": null,
            "margin": null,
            "display": null,
            "left": null
          }
        },
        "622b14e9730f40bfb94ae2f58c951bd0": {
          "model_module": "@jupyter-widgets/controls",
          "model_name": "HTMLModel",
          "model_module_version": "1.5.0",
          "state": {
            "_view_name": "HTMLView",
            "style": "IPY_MODEL_ba4d151456794fc79a31c13c1b0e122c",
            "_dom_classes": [],
            "description": "",
            "_model_name": "HTMLModel",
            "placeholder": "​",
            "_view_module": "@jupyter-widgets/controls",
            "_model_module_version": "1.5.0",
            "value": "Downloading: 100%",
            "_view_count": null,
            "_view_module_version": "1.5.0",
            "description_tooltip": null,
            "_model_module": "@jupyter-widgets/controls",
            "layout": "IPY_MODEL_bf6815f277b54674ac0ee761d58cdb68"
          }
        },
        "a9613cb53156403e9765987c4ef3c5f5": {
          "model_module": "@jupyter-widgets/controls",
          "model_name": "FloatProgressModel",
          "model_module_version": "1.5.0",
          "state": {
            "_view_name": "ProgressView",
            "style": "IPY_MODEL_f442145858c248b6a69f973622ffe87f",
            "_dom_classes": [],
            "description": "",
            "_model_name": "FloatProgressModel",
            "bar_style": "success",
            "max": 3708092,
            "_view_module": "@jupyter-widgets/controls",
            "_model_module_version": "1.5.0",
            "value": 3708092,
            "_view_count": null,
            "_view_module_version": "1.5.0",
            "orientation": "horizontal",
            "min": 0,
            "description_tooltip": null,
            "_model_module": "@jupyter-widgets/controls",
            "layout": "IPY_MODEL_a4564499f9ac4e5a9b500fa7497ae8c5"
          }
        },
        "7fc5a05020be45179257785f7383a520": {
          "model_module": "@jupyter-widgets/controls",
          "model_name": "HTMLModel",
          "model_module_version": "1.5.0",
          "state": {
            "_view_name": "HTMLView",
            "style": "IPY_MODEL_a30e7a8afb5743488d4e71871fc688ea",
            "_dom_classes": [],
            "description": "",
            "_model_name": "HTMLModel",
            "placeholder": "​",
            "_view_module": "@jupyter-widgets/controls",
            "_model_module_version": "1.5.0",
            "value": " 3.54M/3.54M [00:00&lt;00:00, 5.09MB/s]",
            "_view_count": null,
            "_view_module_version": "1.5.0",
            "description_tooltip": null,
            "_model_module": "@jupyter-widgets/controls",
            "layout": "IPY_MODEL_a72b6438c85345c38630b5b893451532"
          }
        },
        "ba4d151456794fc79a31c13c1b0e122c": {
          "model_module": "@jupyter-widgets/controls",
          "model_name": "DescriptionStyleModel",
          "model_module_version": "1.5.0",
          "state": {
            "_view_name": "StyleView",
            "_model_name": "DescriptionStyleModel",
            "description_width": "",
            "_view_module": "@jupyter-widgets/base",
            "_model_module_version": "1.5.0",
            "_view_count": null,
            "_view_module_version": "1.2.0",
            "_model_module": "@jupyter-widgets/controls"
          }
        },
        "bf6815f277b54674ac0ee761d58cdb68": {
          "model_module": "@jupyter-widgets/base",
          "model_name": "LayoutModel",
          "model_module_version": "1.2.0",
          "state": {
            "_view_name": "LayoutView",
            "grid_template_rows": null,
            "right": null,
            "justify_content": null,
            "_view_module": "@jupyter-widgets/base",
            "overflow": null,
            "_model_module_version": "1.2.0",
            "_view_count": null,
            "flex_flow": null,
            "width": null,
            "min_width": null,
            "border": null,
            "align_items": null,
            "bottom": null,
            "_model_module": "@jupyter-widgets/base",
            "top": null,
            "grid_column": null,
            "overflow_y": null,
            "overflow_x": null,
            "grid_auto_flow": null,
            "grid_area": null,
            "grid_template_columns": null,
            "flex": null,
            "_model_name": "LayoutModel",
            "justify_items": null,
            "grid_row": null,
            "max_height": null,
            "align_content": null,
            "visibility": null,
            "align_self": null,
            "height": null,
            "min_height": null,
            "padding": null,
            "grid_auto_rows": null,
            "grid_gap": null,
            "max_width": null,
            "order": null,
            "_view_module_version": "1.2.0",
            "grid_template_areas": null,
            "object_position": null,
            "object_fit": null,
            "grid_auto_columns": null,
            "margin": null,
            "display": null,
            "left": null
          }
        },
        "f442145858c248b6a69f973622ffe87f": {
          "model_module": "@jupyter-widgets/controls",
          "model_name": "ProgressStyleModel",
          "model_module_version": "1.5.0",
          "state": {
            "_view_name": "StyleView",
            "_model_name": "ProgressStyleModel",
            "description_width": "",
            "_view_module": "@jupyter-widgets/base",
            "_model_module_version": "1.5.0",
            "_view_count": null,
            "_view_module_version": "1.2.0",
            "bar_color": null,
            "_model_module": "@jupyter-widgets/controls"
          }
        },
        "a4564499f9ac4e5a9b500fa7497ae8c5": {
          "model_module": "@jupyter-widgets/base",
          "model_name": "LayoutModel",
          "model_module_version": "1.2.0",
          "state": {
            "_view_name": "LayoutView",
            "grid_template_rows": null,
            "right": null,
            "justify_content": null,
            "_view_module": "@jupyter-widgets/base",
            "overflow": null,
            "_model_module_version": "1.2.0",
            "_view_count": null,
            "flex_flow": null,
            "width": null,
            "min_width": null,
            "border": null,
            "align_items": null,
            "bottom": null,
            "_model_module": "@jupyter-widgets/base",
            "top": null,
            "grid_column": null,
            "overflow_y": null,
            "overflow_x": null,
            "grid_auto_flow": null,
            "grid_area": null,
            "grid_template_columns": null,
            "flex": null,
            "_model_name": "LayoutModel",
            "justify_items": null,
            "grid_row": null,
            "max_height": null,
            "align_content": null,
            "visibility": null,
            "align_self": null,
            "height": null,
            "min_height": null,
            "padding": null,
            "grid_auto_rows": null,
            "grid_gap": null,
            "max_width": null,
            "order": null,
            "_view_module_version": "1.2.0",
            "grid_template_areas": null,
            "object_position": null,
            "object_fit": null,
            "grid_auto_columns": null,
            "margin": null,
            "display": null,
            "left": null
          }
        },
        "a30e7a8afb5743488d4e71871fc688ea": {
          "model_module": "@jupyter-widgets/controls",
          "model_name": "DescriptionStyleModel",
          "model_module_version": "1.5.0",
          "state": {
            "_view_name": "StyleView",
            "_model_name": "DescriptionStyleModel",
            "description_width": "",
            "_view_module": "@jupyter-widgets/base",
            "_model_module_version": "1.5.0",
            "_view_count": null,
            "_view_module_version": "1.2.0",
            "_model_module": "@jupyter-widgets/controls"
          }
        },
        "a72b6438c85345c38630b5b893451532": {
          "model_module": "@jupyter-widgets/base",
          "model_name": "LayoutModel",
          "model_module_version": "1.2.0",
          "state": {
            "_view_name": "LayoutView",
            "grid_template_rows": null,
            "right": null,
            "justify_content": null,
            "_view_module": "@jupyter-widgets/base",
            "overflow": null,
            "_model_module_version": "1.2.0",
            "_view_count": null,
            "flex_flow": null,
            "width": null,
            "min_width": null,
            "border": null,
            "align_items": null,
            "bottom": null,
            "_model_module": "@jupyter-widgets/base",
            "top": null,
            "grid_column": null,
            "overflow_y": null,
            "overflow_x": null,
            "grid_auto_flow": null,
            "grid_area": null,
            "grid_template_columns": null,
            "flex": null,
            "_model_name": "LayoutModel",
            "justify_items": null,
            "grid_row": null,
            "max_height": null,
            "align_content": null,
            "visibility": null,
            "align_self": null,
            "height": null,
            "min_height": null,
            "padding": null,
            "grid_auto_rows": null,
            "grid_gap": null,
            "max_width": null,
            "order": null,
            "_view_module_version": "1.2.0",
            "grid_template_areas": null,
            "object_position": null,
            "object_fit": null,
            "grid_auto_columns": null,
            "margin": null,
            "display": null,
            "left": null
          }
        },
        "a0fd9af5d2b64c30830ee9472b64d20d": {
          "model_module": "@jupyter-widgets/controls",
          "model_name": "HBoxModel",
          "model_module_version": "1.5.0",
          "state": {
            "_view_name": "HBoxView",
            "_dom_classes": [],
            "_model_name": "HBoxModel",
            "_view_module": "@jupyter-widgets/controls",
            "_model_module_version": "1.5.0",
            "_view_count": null,
            "_view_module_version": "1.5.0",
            "box_style": "",
            "layout": "IPY_MODEL_175a7887fa9f4234a05cd551ecafb9ff",
            "_model_module": "@jupyter-widgets/controls",
            "children": [
              "IPY_MODEL_078d9d8ad9174ce0be6e46bc3850553f",
              "IPY_MODEL_49d8960a3a424572af1ee9512698617a",
              "IPY_MODEL_8f2ff85de4654fe5a1a0380cc81d466c"
            ]
          }
        },
        "175a7887fa9f4234a05cd551ecafb9ff": {
          "model_module": "@jupyter-widgets/base",
          "model_name": "LayoutModel",
          "model_module_version": "1.2.0",
          "state": {
            "_view_name": "LayoutView",
            "grid_template_rows": null,
            "right": null,
            "justify_content": null,
            "_view_module": "@jupyter-widgets/base",
            "overflow": null,
            "_model_module_version": "1.2.0",
            "_view_count": null,
            "flex_flow": null,
            "width": null,
            "min_width": null,
            "border": null,
            "align_items": null,
            "bottom": null,
            "_model_module": "@jupyter-widgets/base",
            "top": null,
            "grid_column": null,
            "overflow_y": null,
            "overflow_x": null,
            "grid_auto_flow": null,
            "grid_area": null,
            "grid_template_columns": null,
            "flex": null,
            "_model_name": "LayoutModel",
            "justify_items": null,
            "grid_row": null,
            "max_height": null,
            "align_content": null,
            "visibility": null,
            "align_self": null,
            "height": null,
            "min_height": null,
            "padding": null,
            "grid_auto_rows": null,
            "grid_gap": null,
            "max_width": null,
            "order": null,
            "_view_module_version": "1.2.0",
            "grid_template_areas": null,
            "object_position": null,
            "object_fit": null,
            "grid_auto_columns": null,
            "margin": null,
            "display": null,
            "left": null
          }
        },
        "078d9d8ad9174ce0be6e46bc3850553f": {
          "model_module": "@jupyter-widgets/controls",
          "model_name": "HTMLModel",
          "model_module_version": "1.5.0",
          "state": {
            "_view_name": "HTMLView",
            "style": "IPY_MODEL_290b7658059243129cbaee01bb2171e0",
            "_dom_classes": [],
            "description": "",
            "_model_name": "HTMLModel",
            "placeholder": "​",
            "_view_module": "@jupyter-widgets/controls",
            "_model_module_version": "1.5.0",
            "value": "Downloading: 100%",
            "_view_count": null,
            "_view_module_version": "1.5.0",
            "description_tooltip": null,
            "_model_module": "@jupyter-widgets/controls",
            "layout": "IPY_MODEL_d4ec3f5aa6e947ec86ef3c656c704761"
          }
        },
        "49d8960a3a424572af1ee9512698617a": {
          "model_module": "@jupyter-widgets/controls",
          "model_name": "FloatProgressModel",
          "model_module_version": "1.5.0",
          "state": {
            "_view_name": "ProgressView",
            "style": "IPY_MODEL_4963174715e345a58b596bb293f5a4b1",
            "_dom_classes": [],
            "description": "",
            "_model_name": "FloatProgressModel",
            "bar_style": "success",
            "max": 2423393,
            "_view_module": "@jupyter-widgets/controls",
            "_model_module_version": "1.5.0",
            "value": 2423393,
            "_view_count": null,
            "_view_module_version": "1.5.0",
            "orientation": "horizontal",
            "min": 0,
            "description_tooltip": null,
            "_model_module": "@jupyter-widgets/controls",
            "layout": "IPY_MODEL_4728ae65df8a4ddc8e2ca77268e3fba8"
          }
        },
        "8f2ff85de4654fe5a1a0380cc81d466c": {
          "model_module": "@jupyter-widgets/controls",
          "model_name": "HTMLModel",
          "model_module_version": "1.5.0",
          "state": {
            "_view_name": "HTMLView",
            "style": "IPY_MODEL_4638643b0a7c41479ba19ddc10dd3cd2",
            "_dom_classes": [],
            "description": "",
            "_model_name": "HTMLModel",
            "placeholder": "​",
            "_view_module": "@jupyter-widgets/controls",
            "_model_module_version": "1.5.0",
            "value": " 2.31M/2.31M [00:00&lt;00:00, 5.06MB/s]",
            "_view_count": null,
            "_view_module_version": "1.5.0",
            "description_tooltip": null,
            "_model_module": "@jupyter-widgets/controls",
            "layout": "IPY_MODEL_07c844ce1ac3443da07f04daf747b36f"
          }
        },
        "290b7658059243129cbaee01bb2171e0": {
          "model_module": "@jupyter-widgets/controls",
          "model_name": "DescriptionStyleModel",
          "model_module_version": "1.5.0",
          "state": {
            "_view_name": "StyleView",
            "_model_name": "DescriptionStyleModel",
            "description_width": "",
            "_view_module": "@jupyter-widgets/base",
            "_model_module_version": "1.5.0",
            "_view_count": null,
            "_view_module_version": "1.2.0",
            "_model_module": "@jupyter-widgets/controls"
          }
        },
        "d4ec3f5aa6e947ec86ef3c656c704761": {
          "model_module": "@jupyter-widgets/base",
          "model_name": "LayoutModel",
          "model_module_version": "1.2.0",
          "state": {
            "_view_name": "LayoutView",
            "grid_template_rows": null,
            "right": null,
            "justify_content": null,
            "_view_module": "@jupyter-widgets/base",
            "overflow": null,
            "_model_module_version": "1.2.0",
            "_view_count": null,
            "flex_flow": null,
            "width": null,
            "min_width": null,
            "border": null,
            "align_items": null,
            "bottom": null,
            "_model_module": "@jupyter-widgets/base",
            "top": null,
            "grid_column": null,
            "overflow_y": null,
            "overflow_x": null,
            "grid_auto_flow": null,
            "grid_area": null,
            "grid_template_columns": null,
            "flex": null,
            "_model_name": "LayoutModel",
            "justify_items": null,
            "grid_row": null,
            "max_height": null,
            "align_content": null,
            "visibility": null,
            "align_self": null,
            "height": null,
            "min_height": null,
            "padding": null,
            "grid_auto_rows": null,
            "grid_gap": null,
            "max_width": null,
            "order": null,
            "_view_module_version": "1.2.0",
            "grid_template_areas": null,
            "object_position": null,
            "object_fit": null,
            "grid_auto_columns": null,
            "margin": null,
            "display": null,
            "left": null
          }
        },
        "4963174715e345a58b596bb293f5a4b1": {
          "model_module": "@jupyter-widgets/controls",
          "model_name": "ProgressStyleModel",
          "model_module_version": "1.5.0",
          "state": {
            "_view_name": "StyleView",
            "_model_name": "ProgressStyleModel",
            "description_width": "",
            "_view_module": "@jupyter-widgets/base",
            "_model_module_version": "1.5.0",
            "_view_count": null,
            "_view_module_version": "1.2.0",
            "bar_color": null,
            "_model_module": "@jupyter-widgets/controls"
          }
        },
        "4728ae65df8a4ddc8e2ca77268e3fba8": {
          "model_module": "@jupyter-widgets/base",
          "model_name": "LayoutModel",
          "model_module_version": "1.2.0",
          "state": {
            "_view_name": "LayoutView",
            "grid_template_rows": null,
            "right": null,
            "justify_content": null,
            "_view_module": "@jupyter-widgets/base",
            "overflow": null,
            "_model_module_version": "1.2.0",
            "_view_count": null,
            "flex_flow": null,
            "width": null,
            "min_width": null,
            "border": null,
            "align_items": null,
            "bottom": null,
            "_model_module": "@jupyter-widgets/base",
            "top": null,
            "grid_column": null,
            "overflow_y": null,
            "overflow_x": null,
            "grid_auto_flow": null,
            "grid_area": null,
            "grid_template_columns": null,
            "flex": null,
            "_model_name": "LayoutModel",
            "justify_items": null,
            "grid_row": null,
            "max_height": null,
            "align_content": null,
            "visibility": null,
            "align_self": null,
            "height": null,
            "min_height": null,
            "padding": null,
            "grid_auto_rows": null,
            "grid_gap": null,
            "max_width": null,
            "order": null,
            "_view_module_version": "1.2.0",
            "grid_template_areas": null,
            "object_position": null,
            "object_fit": null,
            "grid_auto_columns": null,
            "margin": null,
            "display": null,
            "left": null
          }
        },
        "4638643b0a7c41479ba19ddc10dd3cd2": {
          "model_module": "@jupyter-widgets/controls",
          "model_name": "DescriptionStyleModel",
          "model_module_version": "1.5.0",
          "state": {
            "_view_name": "StyleView",
            "_model_name": "DescriptionStyleModel",
            "description_width": "",
            "_view_module": "@jupyter-widgets/base",
            "_model_module_version": "1.5.0",
            "_view_count": null,
            "_view_module_version": "1.2.0",
            "_model_module": "@jupyter-widgets/controls"
          }
        },
        "07c844ce1ac3443da07f04daf747b36f": {
          "model_module": "@jupyter-widgets/base",
          "model_name": "LayoutModel",
          "model_module_version": "1.2.0",
          "state": {
            "_view_name": "LayoutView",
            "grid_template_rows": null,
            "right": null,
            "justify_content": null,
            "_view_module": "@jupyter-widgets/base",
            "overflow": null,
            "_model_module_version": "1.2.0",
            "_view_count": null,
            "flex_flow": null,
            "width": null,
            "min_width": null,
            "border": null,
            "align_items": null,
            "bottom": null,
            "_model_module": "@jupyter-widgets/base",
            "top": null,
            "grid_column": null,
            "overflow_y": null,
            "overflow_x": null,
            "grid_auto_flow": null,
            "grid_area": null,
            "grid_template_columns": null,
            "flex": null,
            "_model_name": "LayoutModel",
            "justify_items": null,
            "grid_row": null,
            "max_height": null,
            "align_content": null,
            "visibility": null,
            "align_self": null,
            "height": null,
            "min_height": null,
            "padding": null,
            "grid_auto_rows": null,
            "grid_gap": null,
            "max_width": null,
            "order": null,
            "_view_module_version": "1.2.0",
            "grid_template_areas": null,
            "object_position": null,
            "object_fit": null,
            "grid_auto_columns": null,
            "margin": null,
            "display": null,
            "left": null
          }
        },
        "21aaa84af9d14b468a67c7e9d37fc5ba": {
          "model_module": "@jupyter-widgets/controls",
          "model_name": "HBoxModel",
          "model_module_version": "1.5.0",
          "state": {
            "_view_name": "HBoxView",
            "_dom_classes": [],
            "_model_name": "HBoxModel",
            "_view_module": "@jupyter-widgets/controls",
            "_model_module_version": "1.5.0",
            "_view_count": null,
            "_view_module_version": "1.5.0",
            "box_style": "",
            "layout": "IPY_MODEL_9ec13d41e7ba419bab84fbd2284a933a",
            "_model_module": "@jupyter-widgets/controls",
            "children": [
              "IPY_MODEL_1c8ae9c2b89144fbb90a9d89ad6e77ec",
              "IPY_MODEL_5997f3b9d18c4f9c9ea47f6f90b394ea",
              "IPY_MODEL_24ae4d8925014a0182b41723f1fa352a"
            ]
          }
        },
        "9ec13d41e7ba419bab84fbd2284a933a": {
          "model_module": "@jupyter-widgets/base",
          "model_name": "LayoutModel",
          "model_module_version": "1.2.0",
          "state": {
            "_view_name": "LayoutView",
            "grid_template_rows": null,
            "right": null,
            "justify_content": null,
            "_view_module": "@jupyter-widgets/base",
            "overflow": null,
            "_model_module_version": "1.2.0",
            "_view_count": null,
            "flex_flow": null,
            "width": null,
            "min_width": null,
            "border": null,
            "align_items": null,
            "bottom": null,
            "_model_module": "@jupyter-widgets/base",
            "top": null,
            "grid_column": null,
            "overflow_y": null,
            "overflow_x": null,
            "grid_auto_flow": null,
            "grid_area": null,
            "grid_template_columns": null,
            "flex": null,
            "_model_name": "LayoutModel",
            "justify_items": null,
            "grid_row": null,
            "max_height": null,
            "align_content": null,
            "visibility": null,
            "align_self": null,
            "height": null,
            "min_height": null,
            "padding": null,
            "grid_auto_rows": null,
            "grid_gap": null,
            "max_width": null,
            "order": null,
            "_view_module_version": "1.2.0",
            "grid_template_areas": null,
            "object_position": null,
            "object_fit": null,
            "grid_auto_columns": null,
            "margin": null,
            "display": null,
            "left": null
          }
        },
        "1c8ae9c2b89144fbb90a9d89ad6e77ec": {
          "model_module": "@jupyter-widgets/controls",
          "model_name": "HTMLModel",
          "model_module_version": "1.5.0",
          "state": {
            "_view_name": "HTMLView",
            "style": "IPY_MODEL_6ef70d0d62b540d89f3ac27c604a6460",
            "_dom_classes": [],
            "description": "",
            "_model_name": "HTMLModel",
            "placeholder": "​",
            "_view_module": "@jupyter-widgets/controls",
            "_model_module_version": "1.5.0",
            "value": "Downloading: 100%",
            "_view_count": null,
            "_view_module_version": "1.5.0",
            "description_tooltip": null,
            "_model_module": "@jupyter-widgets/controls",
            "layout": "IPY_MODEL_32c8a1f442ff4fe7bb938304bcfc6146"
          }
        },
        "5997f3b9d18c4f9c9ea47f6f90b394ea": {
          "model_module": "@jupyter-widgets/controls",
          "model_name": "FloatProgressModel",
          "model_module_version": "1.5.0",
          "state": {
            "_view_name": "ProgressView",
            "style": "IPY_MODEL_707c26c9b80e49b9af58ce7926e9e3ed",
            "_dom_classes": [],
            "description": "",
            "_model_name": "FloatProgressModel",
            "bar_style": "success",
            "max": 272,
            "_view_module": "@jupyter-widgets/controls",
            "_model_module_version": "1.5.0",
            "value": 272,
            "_view_count": null,
            "_view_module_version": "1.5.0",
            "orientation": "horizontal",
            "min": 0,
            "description_tooltip": null,
            "_model_module": "@jupyter-widgets/controls",
            "layout": "IPY_MODEL_d7c5011a7e6c4acbac5e531a53257c7b"
          }
        },
        "24ae4d8925014a0182b41723f1fa352a": {
          "model_module": "@jupyter-widgets/controls",
          "model_name": "HTMLModel",
          "model_module_version": "1.5.0",
          "state": {
            "_view_name": "HTMLView",
            "style": "IPY_MODEL_a51b5bb853ce49f9a2734039f92d092f",
            "_dom_classes": [],
            "description": "",
            "_model_name": "HTMLModel",
            "placeholder": "​",
            "_view_module": "@jupyter-widgets/controls",
            "_model_module_version": "1.5.0",
            "value": " 272/272 [00:00&lt;00:00, 6.38kB/s]",
            "_view_count": null,
            "_view_module_version": "1.5.0",
            "description_tooltip": null,
            "_model_module": "@jupyter-widgets/controls",
            "layout": "IPY_MODEL_fcae69b7e998434699ec528c47ef60cd"
          }
        },
        "6ef70d0d62b540d89f3ac27c604a6460": {
          "model_module": "@jupyter-widgets/controls",
          "model_name": "DescriptionStyleModel",
          "model_module_version": "1.5.0",
          "state": {
            "_view_name": "StyleView",
            "_model_name": "DescriptionStyleModel",
            "description_width": "",
            "_view_module": "@jupyter-widgets/base",
            "_model_module_version": "1.5.0",
            "_view_count": null,
            "_view_module_version": "1.2.0",
            "_model_module": "@jupyter-widgets/controls"
          }
        },
        "32c8a1f442ff4fe7bb938304bcfc6146": {
          "model_module": "@jupyter-widgets/base",
          "model_name": "LayoutModel",
          "model_module_version": "1.2.0",
          "state": {
            "_view_name": "LayoutView",
            "grid_template_rows": null,
            "right": null,
            "justify_content": null,
            "_view_module": "@jupyter-widgets/base",
            "overflow": null,
            "_model_module_version": "1.2.0",
            "_view_count": null,
            "flex_flow": null,
            "width": null,
            "min_width": null,
            "border": null,
            "align_items": null,
            "bottom": null,
            "_model_module": "@jupyter-widgets/base",
            "top": null,
            "grid_column": null,
            "overflow_y": null,
            "overflow_x": null,
            "grid_auto_flow": null,
            "grid_area": null,
            "grid_template_columns": null,
            "flex": null,
            "_model_name": "LayoutModel",
            "justify_items": null,
            "grid_row": null,
            "max_height": null,
            "align_content": null,
            "visibility": null,
            "align_self": null,
            "height": null,
            "min_height": null,
            "padding": null,
            "grid_auto_rows": null,
            "grid_gap": null,
            "max_width": null,
            "order": null,
            "_view_module_version": "1.2.0",
            "grid_template_areas": null,
            "object_position": null,
            "object_fit": null,
            "grid_auto_columns": null,
            "margin": null,
            "display": null,
            "left": null
          }
        },
        "707c26c9b80e49b9af58ce7926e9e3ed": {
          "model_module": "@jupyter-widgets/controls",
          "model_name": "ProgressStyleModel",
          "model_module_version": "1.5.0",
          "state": {
            "_view_name": "StyleView",
            "_model_name": "ProgressStyleModel",
            "description_width": "",
            "_view_module": "@jupyter-widgets/base",
            "_model_module_version": "1.5.0",
            "_view_count": null,
            "_view_module_version": "1.2.0",
            "bar_color": null,
            "_model_module": "@jupyter-widgets/controls"
          }
        },
        "d7c5011a7e6c4acbac5e531a53257c7b": {
          "model_module": "@jupyter-widgets/base",
          "model_name": "LayoutModel",
          "model_module_version": "1.2.0",
          "state": {
            "_view_name": "LayoutView",
            "grid_template_rows": null,
            "right": null,
            "justify_content": null,
            "_view_module": "@jupyter-widgets/base",
            "overflow": null,
            "_model_module_version": "1.2.0",
            "_view_count": null,
            "flex_flow": null,
            "width": null,
            "min_width": null,
            "border": null,
            "align_items": null,
            "bottom": null,
            "_model_module": "@jupyter-widgets/base",
            "top": null,
            "grid_column": null,
            "overflow_y": null,
            "overflow_x": null,
            "grid_auto_flow": null,
            "grid_area": null,
            "grid_template_columns": null,
            "flex": null,
            "_model_name": "LayoutModel",
            "justify_items": null,
            "grid_row": null,
            "max_height": null,
            "align_content": null,
            "visibility": null,
            "align_self": null,
            "height": null,
            "min_height": null,
            "padding": null,
            "grid_auto_rows": null,
            "grid_gap": null,
            "max_width": null,
            "order": null,
            "_view_module_version": "1.2.0",
            "grid_template_areas": null,
            "object_position": null,
            "object_fit": null,
            "grid_auto_columns": null,
            "margin": null,
            "display": null,
            "left": null
          }
        },
        "a51b5bb853ce49f9a2734039f92d092f": {
          "model_module": "@jupyter-widgets/controls",
          "model_name": "DescriptionStyleModel",
          "model_module_version": "1.5.0",
          "state": {
            "_view_name": "StyleView",
            "_model_name": "DescriptionStyleModel",
            "description_width": "",
            "_view_module": "@jupyter-widgets/base",
            "_model_module_version": "1.5.0",
            "_view_count": null,
            "_view_module_version": "1.2.0",
            "_model_module": "@jupyter-widgets/controls"
          }
        },
        "fcae69b7e998434699ec528c47ef60cd": {
          "model_module": "@jupyter-widgets/base",
          "model_name": "LayoutModel",
          "model_module_version": "1.2.0",
          "state": {
            "_view_name": "LayoutView",
            "grid_template_rows": null,
            "right": null,
            "justify_content": null,
            "_view_module": "@jupyter-widgets/base",
            "overflow": null,
            "_model_module_version": "1.2.0",
            "_view_count": null,
            "flex_flow": null,
            "width": null,
            "min_width": null,
            "border": null,
            "align_items": null,
            "bottom": null,
            "_model_module": "@jupyter-widgets/base",
            "top": null,
            "grid_column": null,
            "overflow_y": null,
            "overflow_x": null,
            "grid_auto_flow": null,
            "grid_area": null,
            "grid_template_columns": null,
            "flex": null,
            "_model_name": "LayoutModel",
            "justify_items": null,
            "grid_row": null,
            "max_height": null,
            "align_content": null,
            "visibility": null,
            "align_self": null,
            "height": null,
            "min_height": null,
            "padding": null,
            "grid_auto_rows": null,
            "grid_gap": null,
            "max_width": null,
            "order": null,
            "_view_module_version": "1.2.0",
            "grid_template_areas": null,
            "object_position": null,
            "object_fit": null,
            "grid_auto_columns": null,
            "margin": null,
            "display": null,
            "left": null
          }
        },
        "1d4e67778efb44549d190c1be60b1af1": {
          "model_module": "@jupyter-widgets/controls",
          "model_name": "HBoxModel",
          "model_module_version": "1.5.0",
          "state": {
            "_view_name": "HBoxView",
            "_dom_classes": [],
            "_model_name": "HBoxModel",
            "_view_module": "@jupyter-widgets/controls",
            "_model_module_version": "1.5.0",
            "_view_count": null,
            "_view_module_version": "1.5.0",
            "box_style": "",
            "layout": "IPY_MODEL_5905fcb2d4c74ffab34e850a321636f2",
            "_model_module": "@jupyter-widgets/controls",
            "children": [
              "IPY_MODEL_96a097bca4f5444692fb39050837e29b",
              "IPY_MODEL_162c7651eb5644438bd0467e7ee68153",
              "IPY_MODEL_c457f65da16e4ce899f770b8e53c947e"
            ]
          }
        },
        "5905fcb2d4c74ffab34e850a321636f2": {
          "model_module": "@jupyter-widgets/base",
          "model_name": "LayoutModel",
          "model_module_version": "1.2.0",
          "state": {
            "_view_name": "LayoutView",
            "grid_template_rows": null,
            "right": null,
            "justify_content": null,
            "_view_module": "@jupyter-widgets/base",
            "overflow": null,
            "_model_module_version": "1.2.0",
            "_view_count": null,
            "flex_flow": null,
            "width": null,
            "min_width": null,
            "border": null,
            "align_items": null,
            "bottom": null,
            "_model_module": "@jupyter-widgets/base",
            "top": null,
            "grid_column": null,
            "overflow_y": null,
            "overflow_x": null,
            "grid_auto_flow": null,
            "grid_area": null,
            "grid_template_columns": null,
            "flex": null,
            "_model_name": "LayoutModel",
            "justify_items": null,
            "grid_row": null,
            "max_height": null,
            "align_content": null,
            "visibility": null,
            "align_self": null,
            "height": null,
            "min_height": null,
            "padding": null,
            "grid_auto_rows": null,
            "grid_gap": null,
            "max_width": null,
            "order": null,
            "_view_module_version": "1.2.0",
            "grid_template_areas": null,
            "object_position": null,
            "object_fit": null,
            "grid_auto_columns": null,
            "margin": null,
            "display": null,
            "left": null
          }
        },
        "96a097bca4f5444692fb39050837e29b": {
          "model_module": "@jupyter-widgets/controls",
          "model_name": "HTMLModel",
          "model_module_version": "1.5.0",
          "state": {
            "_view_name": "HTMLView",
            "style": "IPY_MODEL_4b265f69673244eab864945fb42c7d10",
            "_dom_classes": [],
            "description": "",
            "_model_name": "HTMLModel",
            "placeholder": "​",
            "_view_module": "@jupyter-widgets/controls",
            "_model_module_version": "1.5.0",
            "value": "Downloading: 100%",
            "_view_count": null,
            "_view_module_version": "1.5.0",
            "description_tooltip": null,
            "_model_module": "@jupyter-widgets/controls",
            "layout": "IPY_MODEL_4f44af3368d94a608c62608735e667ea"
          }
        },
        "162c7651eb5644438bd0467e7ee68153": {
          "model_module": "@jupyter-widgets/controls",
          "model_name": "FloatProgressModel",
          "model_module_version": "1.5.0",
          "state": {
            "_view_name": "ProgressView",
            "style": "IPY_MODEL_273fcbf9b6924e84b6bab65b49010b96",
            "_dom_classes": [],
            "description": "",
            "_model_name": "FloatProgressModel",
            "bar_style": "success",
            "max": 1140,
            "_view_module": "@jupyter-widgets/controls",
            "_model_module_version": "1.5.0",
            "value": 1140,
            "_view_count": null,
            "_view_module_version": "1.5.0",
            "orientation": "horizontal",
            "min": 0,
            "description_tooltip": null,
            "_model_module": "@jupyter-widgets/controls",
            "layout": "IPY_MODEL_8acbabf639ef44738e17da9426aa7d11"
          }
        },
        "c457f65da16e4ce899f770b8e53c947e": {
          "model_module": "@jupyter-widgets/controls",
          "model_name": "HTMLModel",
          "model_module_version": "1.5.0",
          "state": {
            "_view_name": "HTMLView",
            "style": "IPY_MODEL_ee50c287df5a4122bf1effe4778d8d28",
            "_dom_classes": [],
            "description": "",
            "_model_name": "HTMLModel",
            "placeholder": "​",
            "_view_module": "@jupyter-widgets/controls",
            "_model_module_version": "1.5.0",
            "value": " 1.11k/1.11k [00:00&lt;00:00, 25.3kB/s]",
            "_view_count": null,
            "_view_module_version": "1.5.0",
            "description_tooltip": null,
            "_model_module": "@jupyter-widgets/controls",
            "layout": "IPY_MODEL_5b19d0b9a9d941b9a4a1c2fd44ddd2fa"
          }
        },
        "4b265f69673244eab864945fb42c7d10": {
          "model_module": "@jupyter-widgets/controls",
          "model_name": "DescriptionStyleModel",
          "model_module_version": "1.5.0",
          "state": {
            "_view_name": "StyleView",
            "_model_name": "DescriptionStyleModel",
            "description_width": "",
            "_view_module": "@jupyter-widgets/base",
            "_model_module_version": "1.5.0",
            "_view_count": null,
            "_view_module_version": "1.2.0",
            "_model_module": "@jupyter-widgets/controls"
          }
        },
        "4f44af3368d94a608c62608735e667ea": {
          "model_module": "@jupyter-widgets/base",
          "model_name": "LayoutModel",
          "model_module_version": "1.2.0",
          "state": {
            "_view_name": "LayoutView",
            "grid_template_rows": null,
            "right": null,
            "justify_content": null,
            "_view_module": "@jupyter-widgets/base",
            "overflow": null,
            "_model_module_version": "1.2.0",
            "_view_count": null,
            "flex_flow": null,
            "width": null,
            "min_width": null,
            "border": null,
            "align_items": null,
            "bottom": null,
            "_model_module": "@jupyter-widgets/base",
            "top": null,
            "grid_column": null,
            "overflow_y": null,
            "overflow_x": null,
            "grid_auto_flow": null,
            "grid_area": null,
            "grid_template_columns": null,
            "flex": null,
            "_model_name": "LayoutModel",
            "justify_items": null,
            "grid_row": null,
            "max_height": null,
            "align_content": null,
            "visibility": null,
            "align_self": null,
            "height": null,
            "min_height": null,
            "padding": null,
            "grid_auto_rows": null,
            "grid_gap": null,
            "max_width": null,
            "order": null,
            "_view_module_version": "1.2.0",
            "grid_template_areas": null,
            "object_position": null,
            "object_fit": null,
            "grid_auto_columns": null,
            "margin": null,
            "display": null,
            "left": null
          }
        },
        "273fcbf9b6924e84b6bab65b49010b96": {
          "model_module": "@jupyter-widgets/controls",
          "model_name": "ProgressStyleModel",
          "model_module_version": "1.5.0",
          "state": {
            "_view_name": "StyleView",
            "_model_name": "ProgressStyleModel",
            "description_width": "",
            "_view_module": "@jupyter-widgets/base",
            "_model_module_version": "1.5.0",
            "_view_count": null,
            "_view_module_version": "1.2.0",
            "bar_color": null,
            "_model_module": "@jupyter-widgets/controls"
          }
        },
        "8acbabf639ef44738e17da9426aa7d11": {
          "model_module": "@jupyter-widgets/base",
          "model_name": "LayoutModel",
          "model_module_version": "1.2.0",
          "state": {
            "_view_name": "LayoutView",
            "grid_template_rows": null,
            "right": null,
            "justify_content": null,
            "_view_module": "@jupyter-widgets/base",
            "overflow": null,
            "_model_module_version": "1.2.0",
            "_view_count": null,
            "flex_flow": null,
            "width": null,
            "min_width": null,
            "border": null,
            "align_items": null,
            "bottom": null,
            "_model_module": "@jupyter-widgets/base",
            "top": null,
            "grid_column": null,
            "overflow_y": null,
            "overflow_x": null,
            "grid_auto_flow": null,
            "grid_area": null,
            "grid_template_columns": null,
            "flex": null,
            "_model_name": "LayoutModel",
            "justify_items": null,
            "grid_row": null,
            "max_height": null,
            "align_content": null,
            "visibility": null,
            "align_self": null,
            "height": null,
            "min_height": null,
            "padding": null,
            "grid_auto_rows": null,
            "grid_gap": null,
            "max_width": null,
            "order": null,
            "_view_module_version": "1.2.0",
            "grid_template_areas": null,
            "object_position": null,
            "object_fit": null,
            "grid_auto_columns": null,
            "margin": null,
            "display": null,
            "left": null
          }
        },
        "ee50c287df5a4122bf1effe4778d8d28": {
          "model_module": "@jupyter-widgets/controls",
          "model_name": "DescriptionStyleModel",
          "model_module_version": "1.5.0",
          "state": {
            "_view_name": "StyleView",
            "_model_name": "DescriptionStyleModel",
            "description_width": "",
            "_view_module": "@jupyter-widgets/base",
            "_model_module_version": "1.5.0",
            "_view_count": null,
            "_view_module_version": "1.2.0",
            "_model_module": "@jupyter-widgets/controls"
          }
        },
        "5b19d0b9a9d941b9a4a1c2fd44ddd2fa": {
          "model_module": "@jupyter-widgets/base",
          "model_name": "LayoutModel",
          "model_module_version": "1.2.0",
          "state": {
            "_view_name": "LayoutView",
            "grid_template_rows": null,
            "right": null,
            "justify_content": null,
            "_view_module": "@jupyter-widgets/base",
            "overflow": null,
            "_model_module_version": "1.2.0",
            "_view_count": null,
            "flex_flow": null,
            "width": null,
            "min_width": null,
            "border": null,
            "align_items": null,
            "bottom": null,
            "_model_module": "@jupyter-widgets/base",
            "top": null,
            "grid_column": null,
            "overflow_y": null,
            "overflow_x": null,
            "grid_auto_flow": null,
            "grid_area": null,
            "grid_template_columns": null,
            "flex": null,
            "_model_name": "LayoutModel",
            "justify_items": null,
            "grid_row": null,
            "max_height": null,
            "align_content": null,
            "visibility": null,
            "align_self": null,
            "height": null,
            "min_height": null,
            "padding": null,
            "grid_auto_rows": null,
            "grid_gap": null,
            "max_width": null,
            "order": null,
            "_view_module_version": "1.2.0",
            "grid_template_areas": null,
            "object_position": null,
            "object_fit": null,
            "grid_auto_columns": null,
            "margin": null,
            "display": null,
            "left": null
          }
        }
      }
    }
  },
  "cells": [
    {
      "cell_type": "markdown",
      "metadata": {
        "id": "PSgSBTL3lui7"
      },
      "source": [
        "#CrisisNLP Code"
      ]
    },
    {
      "cell_type": "markdown",
      "metadata": {
        "id": "_g0fWRreEm8K"
      },
      "source": [
        "#Steps to Follow to Create Final Dataset\n",
        "1. Read data files\n",
        "2. Binarize them\n",
        "3. Use the binarized dataframe (tweet_df) to balance the dataset\n",
        "4. Use TextAttack functions to create more irrel data\n",
        "5. Oversample irrel data 10 times\n",
        "6. Append original rel data and newly created oversampled irrel data inro a full dataframe and save it in drive\n",
        "7. Read this file to the do the text pre-processing(punctuation removal)\n",
        "8. Save the final pre-processed dataframe as acsv in drive\n",
        "\n",
        "After steps 1-8 is done for all the crisis datasets then we will append all of them into a final large dataset.\n",
        "\n",
        "On this final merged dataset we will create the train, val and test sets as nedded by our model."
      ]
    },
    {
      "cell_type": "markdown",
      "metadata": {
        "id": "6opZRxdSW9jE"
      },
      "source": [
        "#CrisisNLP Dataset Handling"
      ]
    },
    {
      "cell_type": "code",
      "metadata": {
        "colab": {
          "base_uri": "https://localhost:8080/"
        },
        "id": "KTuPJrKGXF0W",
        "outputId": "8548e226-b00f-4146-acf2-5771e0081cfc"
      },
      "source": [
        "from google.colab import drive\n",
        "drive.mount('/content/drive')"
      ],
      "execution_count": 1,
      "outputs": [
        {
          "output_type": "stream",
          "name": "stdout",
          "text": [
            "Mounted at /content/drive\n"
          ]
        }
      ]
    },
    {
      "cell_type": "code",
      "metadata": {
        "id": "csewHJdmQ_mH"
      },
      "source": [
        "import pandas as pd\n",
        "import numpy as np\n",
        "import seaborn as sns\n",
        "import matplotlib.pyplot as plt\n",
        "from sklearn.feature_extraction.text import CountVectorizer\n",
        "import nltk \n",
        "import string\n",
        "import re\n",
        "%matplotlib inline\n",
        "pd.set_option('display.max_colwidth', 100)"
      ],
      "execution_count": 2,
      "outputs": []
    },
    {
      "cell_type": "code",
      "metadata": {
        "id": "342Vsak0XHhK"
      },
      "source": [
        "path= \"/content/drive/MyDrive/ChiSquareX_NLP_Tutoring/Multi_Lingual/CrisisNLP_labeled_data/CrisisNLP_labeled_data_crowdflower/2014_India_floods\""
      ],
      "execution_count": 3,
      "outputs": []
    },
    {
      "cell_type": "code",
      "metadata": {
        "colab": {
          "base_uri": "https://localhost:8080/"
        },
        "id": "1AopLttIRU8G",
        "outputId": "a6e94121-65db-4cbb-f3c0-197118ae758b"
      },
      "source": [
        "cd \"/content/drive/MyDrive/ChiSquareX_NLP_Tutoring/Multi_Lingual/CrisisNLP_labeled_data/CrisisNLP_labeled_data_crowdflower/2014_India_floods\""
      ],
      "execution_count": 4,
      "outputs": [
        {
          "output_type": "stream",
          "name": "stdout",
          "text": [
            "/content/drive/MyDrive/ChiSquareX_NLP_Tutoring/Multi_Lingual/CrisisNLP_labeled_data/CrisisNLP_labeled_data_crowdflower/2014_India_floods\n"
          ]
        }
      ]
    },
    {
      "cell_type": "code",
      "metadata": {
        "colab": {
          "base_uri": "https://localhost:8080/",
          "height": 35
        },
        "id": "kB17wOIkRX4N",
        "outputId": "a6d9c18c-95a0-468c-deca-e3aae3cf5783"
      },
      "source": [
        "pwd"
      ],
      "execution_count": 5,
      "outputs": [
        {
          "output_type": "execute_result",
          "data": {
            "application/vnd.google.colaboratory.intrinsic+json": {
              "type": "string"
            },
            "text/plain": [
              "'/content/drive/MyDrive/ChiSquareX_NLP_Tutoring/Multi_Lingual/CrisisNLP_labeled_data/CrisisNLP_labeled_data_crowdflower/2014_India_floods'"
            ]
          },
          "metadata": {},
          "execution_count": 5
        }
      ]
    },
    {
      "cell_type": "code",
      "metadata": {
        "colab": {
          "base_uri": "https://localhost:8080/"
        },
        "id": "0WJTLyhcRw9P",
        "outputId": "fe93e3c3-3d6e-4a2a-fb88-b5d3a583097c"
      },
      "source": [
        "ls"
      ],
      "execution_count": 6,
      "outputs": [
        {
          "output_type": "stream",
          "name": "stdout",
          "text": [
            "2014_India_floods_CF_labeled_data.tsv  labeling-instructions.txt\n"
          ]
        }
      ]
    },
    {
      "cell_type": "code",
      "metadata": {
        "id": "jObNsaVGR5hf"
      },
      "source": [
        "filename= \"2014_India_floods_CF_labeled_data.tsv\""
      ],
      "execution_count": 7,
      "outputs": []
    },
    {
      "cell_type": "code",
      "metadata": {
        "id": "nAeqY9X1R-Yf"
      },
      "source": [
        "file_path= path+'/'+filename"
      ],
      "execution_count": 8,
      "outputs": []
    },
    {
      "cell_type": "code",
      "metadata": {
        "id": "YrN8bwtCRasW"
      },
      "source": [
        "# Load dataset\n",
        "def load_data(path):\n",
        "    data = pd.read_csv(path, error_bad_lines=False, sep='\\t')\n",
        "    return data"
      ],
      "execution_count": 9,
      "outputs": []
    },
    {
      "cell_type": "code",
      "metadata": {
        "id": "yMeCZc_hSd5o"
      },
      "source": [
        "'''\n",
        "\n",
        "def binarize_labels(data_frame):\n",
        "  data_frame[\"label\"].replace({\"not_related_or_irrelevant\": '0'}, inplace=True)\n",
        "  data_frame.loc[data_frame.label != '0', 'label'] = '1'\n",
        "  return data_frame\n",
        "\n",
        "'''"
      ],
      "execution_count": null,
      "outputs": []
    },
    {
      "cell_type": "code",
      "metadata": {
        "id": "4orJOq3GYop9",
        "colab": {
          "base_uri": "https://localhost:8080/",
          "height": 206
        },
        "outputId": "c3f6df1a-f443-4ef8-a8ca-d634031d94ba"
      },
      "source": [
        "tweet_df = load_data(file_path)\n",
        "tweet_df.head()"
      ],
      "execution_count": 10,
      "outputs": [
        {
          "output_type": "execute_result",
          "data": {
            "text/html": [
              "<div>\n",
              "<style scoped>\n",
              "    .dataframe tbody tr th:only-of-type {\n",
              "        vertical-align: middle;\n",
              "    }\n",
              "\n",
              "    .dataframe tbody tr th {\n",
              "        vertical-align: top;\n",
              "    }\n",
              "\n",
              "    .dataframe thead th {\n",
              "        text-align: right;\n",
              "    }\n",
              "</style>\n",
              "<table border=\"1\" class=\"dataframe\">\n",
              "  <thead>\n",
              "    <tr style=\"text-align: right;\">\n",
              "      <th></th>\n",
              "      <th>tweet_id</th>\n",
              "      <th>tweet_text</th>\n",
              "      <th>label</th>\n",
              "    </tr>\n",
              "  </thead>\n",
              "  <tbody>\n",
              "    <tr>\n",
              "      <th>0</th>\n",
              "      <td>'501222299685888000'</td>\n",
              "      <td>RT @lilid426: Everyone has all these intense relationship goals when my goal is just getting in ...</td>\n",
              "      <td>not_related_or_irrelevant</td>\n",
              "    </tr>\n",
              "    <tr>\n",
              "      <th>1</th>\n",
              "      <td>'501203294409457664'</td>\n",
              "      <td>@kkfred12 @StayDvpper oh yea I would like to that damn K and shove it up their ass sideways just...</td>\n",
              "      <td>not_related_or_irrelevant</td>\n",
              "    </tr>\n",
              "    <tr>\n",
              "      <th>2</th>\n",
              "      <td>'501157833996767233'</td>\n",
              "      <td>RT @fruitpopniall: \"1D are about to split up\"  #1DToLiveOnForever http://t.co/4nHQIq03Io</td>\n",
              "      <td>not_related_or_irrelevant</td>\n",
              "    </tr>\n",
              "    <tr>\n",
              "      <th>3</th>\n",
              "      <td>'501136832957259776'</td>\n",
              "      <td>@Harry_Styles   You are my ☀   You 💡 up my whole day  You are my entire 🌎  So please follow me, ...</td>\n",
              "      <td>not_related_or_irrelevant</td>\n",
              "    </tr>\n",
              "    <tr>\n",
              "      <th>4</th>\n",
              "      <td>'501049468511596544'</td>\n",
              "      <td>RT @abonetti420: Swinging blunts round, sun up till sun down</td>\n",
              "      <td>not_related_or_irrelevant</td>\n",
              "    </tr>\n",
              "  </tbody>\n",
              "</table>\n",
              "</div>"
            ],
            "text/plain": [
              "               tweet_id  ...                      label\n",
              "0  '501222299685888000'  ...  not_related_or_irrelevant\n",
              "1  '501203294409457664'  ...  not_related_or_irrelevant\n",
              "2  '501157833996767233'  ...  not_related_or_irrelevant\n",
              "3  '501136832957259776'  ...  not_related_or_irrelevant\n",
              "4  '501049468511596544'  ...  not_related_or_irrelevant\n",
              "\n",
              "[5 rows x 3 columns]"
            ]
          },
          "metadata": {},
          "execution_count": 10
        }
      ]
    },
    {
      "cell_type": "code",
      "metadata": {
        "colab": {
          "base_uri": "https://localhost:8080/"
        },
        "id": "_2TlX3klxZvW",
        "outputId": "7d4227f4-e77d-4c51-86ac-814964bbe029"
      },
      "source": [
        "label_list = tweet_df.label.unique()\n",
        "label_list"
      ],
      "execution_count": 11,
      "outputs": [
        {
          "output_type": "execute_result",
          "data": {
            "text/plain": [
              "array(['not_related_or_irrelevant', 'other_useful_information',\n",
              "       'sympathy_and_emotional_support',\n",
              "       'donation_needs_or_offers_or_volunteering_services',\n",
              "       'missing_trapped_or_found_people', 'injured_or_dead_people',\n",
              "       'displaced_people_and_evacuations',\n",
              "       'infrastructure_and_utilities_damage', 'caution_and_advice'],\n",
              "      dtype=object)"
            ]
          },
          "metadata": {},
          "execution_count": 11
        }
      ]
    },
    {
      "cell_type": "code",
      "metadata": {
        "colab": {
          "base_uri": "https://localhost:8080/",
          "height": 53
        },
        "id": "P_pIhIPMyDqW",
        "outputId": "2c4a18f9-1d0a-4bbb-c9cc-f04ac8c78eee"
      },
      "source": [
        "'''\n",
        "not_related_or_irrelevant == 0\n",
        "sympathy_and_emotional_support == 1\n",
        "infrastructure_and_utilities_damage == 2\n",
        "displaced_people_and_evacuations == 3\n",
        "donation_needs_or_offers_or_volunteering_services == 4\n",
        "missing_trapped_or_found_people == 5\n",
        "injured_or_dead_people == 6\n",
        "caution_and_advice == 7\n",
        "other_useful_information == 8\n",
        "'''"
      ],
      "execution_count": 12,
      "outputs": [
        {
          "output_type": "execute_result",
          "data": {
            "application/vnd.google.colaboratory.intrinsic+json": {
              "type": "string"
            },
            "text/plain": [
              "'\\nnot_related_or_irrelevant == 0\\nsympathy_and_emotional_support == 1\\ninfrastructure_and_utilities_damage == 2\\ndisplaced_people_and_evacuations == 3\\ndonation_needs_or_offers_or_volunteering_services == 4\\nmissing_trapped_or_found_people == 5\\ninjured_or_dead_people == 6\\ncaution_and_advice == 7\\nother_useful_information == 8\\n'"
            ]
          },
          "metadata": {},
          "execution_count": 12
        }
      ]
    },
    {
      "cell_type": "code",
      "metadata": {
        "id": "gZyy2ZrzyB4G"
      },
      "source": [
        "def create_class_labels(data_frame):\n",
        "  data_frame[\"label\"].replace({\"not_related_or_irrelevant\": 0}, inplace=True)\n",
        "  data_frame[\"label\"].replace({\"sympathy_and_emotional_support\": 1}, inplace=True)\n",
        "  data_frame[\"label\"].replace({\"infrastructure_and_utilities_damage\": 2}, inplace=True)\n",
        "  data_frame[\"label\"].replace({\"displaced_people_and_evacuations\": 3}, inplace=True)\n",
        "  data_frame[\"label\"].replace({\"donation_needs_or_offers_or_volunteering_services\": 4}, inplace=True)\n",
        "  data_frame[\"label\"].replace({\"missing_trapped_or_found_people\": 5}, inplace=True)\n",
        "  data_frame[\"label\"].replace({\"injured_or_dead_people\": 6}, inplace=True)\n",
        "  data_frame[\"label\"].replace({\"caution_and_advice\": 7}, inplace=True)\n",
        "  data_frame[\"label\"].replace({\"other_useful_information\": 8}, inplace=True)\n",
        "  return data_frame"
      ],
      "execution_count": 13,
      "outputs": []
    },
    {
      "cell_type": "code",
      "metadata": {
        "id": "8LfFAgWJzAwC"
      },
      "source": [
        "tweet_df = create_class_labels(tweet_df)"
      ],
      "execution_count": 14,
      "outputs": []
    },
    {
      "cell_type": "code",
      "metadata": {
        "id": "fbUqHAEbS7F4"
      },
      "source": [
        "#tweet_df = binarize_labels(tweet_df)"
      ],
      "execution_count": null,
      "outputs": []
    },
    {
      "cell_type": "code",
      "metadata": {
        "colab": {
          "base_uri": "https://localhost:8080/",
          "height": 424
        },
        "id": "NPWGP1oOxs6d",
        "outputId": "e85d3b46-40c8-4a3a-dd5e-0e47a74d9bf5"
      },
      "source": [
        "tweet_df"
      ],
      "execution_count": 15,
      "outputs": [
        {
          "output_type": "execute_result",
          "data": {
            "text/html": [
              "<div>\n",
              "<style scoped>\n",
              "    .dataframe tbody tr th:only-of-type {\n",
              "        vertical-align: middle;\n",
              "    }\n",
              "\n",
              "    .dataframe tbody tr th {\n",
              "        vertical-align: top;\n",
              "    }\n",
              "\n",
              "    .dataframe thead th {\n",
              "        text-align: right;\n",
              "    }\n",
              "</style>\n",
              "<table border=\"1\" class=\"dataframe\">\n",
              "  <thead>\n",
              "    <tr style=\"text-align: right;\">\n",
              "      <th></th>\n",
              "      <th>tweet_id</th>\n",
              "      <th>tweet_text</th>\n",
              "      <th>label</th>\n",
              "    </tr>\n",
              "  </thead>\n",
              "  <tbody>\n",
              "    <tr>\n",
              "      <th>0</th>\n",
              "      <td>'501222299685888000'</td>\n",
              "      <td>RT @lilid426: Everyone has all these intense relationship goals when my goal is just getting in ...</td>\n",
              "      <td>0</td>\n",
              "    </tr>\n",
              "    <tr>\n",
              "      <th>1</th>\n",
              "      <td>'501203294409457664'</td>\n",
              "      <td>@kkfred12 @StayDvpper oh yea I would like to that damn K and shove it up their ass sideways just...</td>\n",
              "      <td>0</td>\n",
              "    </tr>\n",
              "    <tr>\n",
              "      <th>2</th>\n",
              "      <td>'501157833996767233'</td>\n",
              "      <td>RT @fruitpopniall: \"1D are about to split up\"  #1DToLiveOnForever http://t.co/4nHQIq03Io</td>\n",
              "      <td>0</td>\n",
              "    </tr>\n",
              "    <tr>\n",
              "      <th>3</th>\n",
              "      <td>'501136832957259776'</td>\n",
              "      <td>@Harry_Styles   You are my ☀   You 💡 up my whole day  You are my entire 🌎  So please follow me, ...</td>\n",
              "      <td>0</td>\n",
              "    </tr>\n",
              "    <tr>\n",
              "      <th>4</th>\n",
              "      <td>'501049468511596544'</td>\n",
              "      <td>RT @abonetti420: Swinging blunts round, sun up till sun down</td>\n",
              "      <td>0</td>\n",
              "    </tr>\n",
              "    <tr>\n",
              "      <th>...</th>\n",
              "      <td>...</td>\n",
              "      <td>...</td>\n",
              "      <td>...</td>\n",
              "    </tr>\n",
              "    <tr>\n",
              "      <th>1815</th>\n",
              "      <td>'501317494762504192'</td>\n",
              "      <td>Flood Fury in North India: Dozens Killed, Lakhs Affected Read Story: http://t.co/gASE5SMgJ6</td>\n",
              "      <td>6</td>\n",
              "    </tr>\n",
              "    <tr>\n",
              "      <th>1816</th>\n",
              "      <td>'501260900402089987'</td>\n",
              "      <td>RT @ndtv: Flood fury in North India: dozens killed, lakhs affected http://t.co/qKpL8sYnUV</td>\n",
              "      <td>6</td>\n",
              "    </tr>\n",
              "    <tr>\n",
              "      <th>1817</th>\n",
              "      <td>'501264470711099392'</td>\n",
              "      <td>Many dead in Nepal and India floods: At least 160 people are reported to have been killed in flo...</td>\n",
              "      <td>6</td>\n",
              "    </tr>\n",
              "    <tr>\n",
              "      <th>1818</th>\n",
              "      <td>'501299024859643905'</td>\n",
              "      <td>Deadly monsoon hits India, Nepal: Dozens of people have been killed in flooding in northern and ...</td>\n",
              "      <td>6</td>\n",
              "    </tr>\n",
              "    <tr>\n",
              "      <th>1819</th>\n",
              "      <td>'501347044632436736'</td>\n",
              "      <td>RT @timesofindia: Nepal flood toll hits 101, fears of disease rise http://t.co/sgobu7cYpv http:/...</td>\n",
              "      <td>6</td>\n",
              "    </tr>\n",
              "  </tbody>\n",
              "</table>\n",
              "<p>1820 rows × 3 columns</p>\n",
              "</div>"
            ],
            "text/plain": [
              "                  tweet_id  ... label\n",
              "0     '501222299685888000'  ...     0\n",
              "1     '501203294409457664'  ...     0\n",
              "2     '501157833996767233'  ...     0\n",
              "3     '501136832957259776'  ...     0\n",
              "4     '501049468511596544'  ...     0\n",
              "...                    ...  ...   ...\n",
              "1815  '501317494762504192'  ...     6\n",
              "1816  '501260900402089987'  ...     6\n",
              "1817  '501264470711099392'  ...     6\n",
              "1818  '501299024859643905'  ...     6\n",
              "1819  '501347044632436736'  ...     6\n",
              "\n",
              "[1820 rows x 3 columns]"
            ]
          },
          "metadata": {},
          "execution_count": 15
        }
      ]
    },
    {
      "cell_type": "code",
      "metadata": {
        "colab": {
          "base_uri": "https://localhost:8080/"
        },
        "id": "XT6o6TItzNbY",
        "outputId": "ed6242f5-507b-4343-c34e-d29065060511"
      },
      "source": [
        "len(tweet_df[tweet_df.label==0]), len(tweet_df[tweet_df.label==1]), len(tweet_df[tweet_df.label==2]), len(tweet_df[tweet_df.label==3]), len(tweet_df[tweet_df.label==4]), len(tweet_df[tweet_df.label==5]), len(tweet_df[tweet_df.label==6]), len(tweet_df[tweet_df.label==7]), len(tweet_df[tweet_df.label==8])"
      ],
      "execution_count": 16,
      "outputs": [
        {
          "output_type": "execute_result",
          "data": {
            "text/plain": [
              "(498, 30, 66, 27, 45, 14, 893, 41, 206)"
            ]
          },
          "metadata": {},
          "execution_count": 16
        }
      ]
    },
    {
      "cell_type": "code",
      "metadata": {
        "id": "fJ49_K9BDS7H"
      },
      "source": [
        "#To count the number of examples with a particular column value\n",
        "#len(tweet_df[tweet_df.label==1])"
      ],
      "execution_count": 17,
      "outputs": []
    },
    {
      "cell_type": "code",
      "metadata": {
        "id": "gZu5V9rI1EVe"
      },
      "source": [
        "def combine_human_classes(data_frame):\n",
        "  data_frame[\"label\"].replace({5:3}, inplace=True)\n",
        "  data_frame[\"label\"].replace({6:3}, inplace=True)\n",
        "  return data_frame\n",
        "\n",
        "def combine_advice_and_empathy_classes(data_frame):\n",
        "  data_frame[\"label\"].replace({7:1}, inplace=True)\n",
        "  return data_frame\n",
        "\n",
        "def other_useful_information(data_frame):\n",
        "  data_frame[\"label\"].replace({8:5}, inplace=True)\n",
        "  return data_frame\n"
      ],
      "execution_count": 18,
      "outputs": []
    },
    {
      "cell_type": "code",
      "metadata": {
        "id": "9Gt1VB2_S9Oq"
      },
      "source": [
        "tweet_df = combine_human_classes(tweet_df)\n",
        "\n",
        "tweet_df = combine_advice_and_empathy_classes(tweet_df)\n",
        "\n",
        "tweet_df = other_useful_information(tweet_df)"
      ],
      "execution_count": null,
      "outputs": []
    },
    {
      "cell_type": "code",
      "metadata": {
        "id": "Cj9de2xtTLct"
      },
      "source": [
        ""
      ],
      "execution_count": null,
      "outputs": []
    },
    {
      "cell_type": "code",
      "metadata": {
        "colab": {
          "base_uri": "https://localhost:8080/"
        },
        "id": "qnakGCKI123_",
        "outputId": "aa8d1071-765a-4380-df98-b1d9c95d8f09"
      },
      "source": [
        "len(tweet_df[tweet_df.label==0]), len(tweet_df[tweet_df.label==1]), len(tweet_df[tweet_df.label==2]), len(tweet_df[tweet_df.label==3]), len(tweet_df[tweet_df.label==4]), len(tweet_df[tweet_df.label==5])"
      ],
      "execution_count": 24,
      "outputs": [
        {
          "output_type": "execute_result",
          "data": {
            "text/plain": [
              "(498, 71, 66, 934, 45, 206)"
            ]
          },
          "metadata": {},
          "execution_count": 24
        }
      ]
    },
    {
      "cell_type": "code",
      "metadata": {
        "id": "CoC9LNi2Li0_"
      },
      "source": [
        "'''\n",
        "class 1 and 2 oversample 3 times"
      ],
      "execution_count": null,
      "outputs": []
    },
    {
      "cell_type": "code",
      "metadata": {
        "id": "nHqZlbBh4pIP"
      },
      "source": [
        "# Code to undersample\n",
        "df1 = tweet_df.drop(tweet_df[tweet_df['label'].eq(3)].sample(460).index)"
      ],
      "execution_count": 25,
      "outputs": []
    },
    {
      "cell_type": "code",
      "metadata": {
        "colab": {
          "base_uri": "https://localhost:8080/"
        },
        "id": "XRZllSp244wk",
        "outputId": "341540d3-2fc7-4cd3-bd24-d0a931af361b"
      },
      "source": [
        "len(df1[df1.label==0]), len(df1[df1.label==1]), len(df1[df1.label==2]), len(df1[df1.label==3]), len(df1[df1.label==4]), len(df1[df1.label==5])"
      ],
      "execution_count": 26,
      "outputs": [
        {
          "output_type": "execute_result",
          "data": {
            "text/plain": [
              "(498, 71, 66, 474, 45, 206)"
            ]
          },
          "metadata": {},
          "execution_count": 26
        }
      ]
    },
    {
      "cell_type": "code",
      "metadata": {
        "colab": {
          "base_uri": "https://localhost:8080/",
          "height": 53
        },
        "id": "RTGFghGg3Oju",
        "outputId": "6db13c6a-78d3-4f98-c8d3-f1e7bd28685e"
      },
      "source": [
        "'''\n",
        "New Final Class Labels:\n",
        "\n",
        "not_related_or_irrelevant == 0\n",
        "sympathy_and_emotional_support + caution_and_advice == 1\n",
        "infrastructure_and_utilities_damage == 2\n",
        "displaced_people_and_evacuations + injured_or_dead_people + missing_trapped_or_found_people == 3\n",
        "donation_needs_or_offers_or_volunteering_services == 4\n",
        "other_useful_information == 5\n",
        "\n",
        "'''"
      ],
      "execution_count": null,
      "outputs": [
        {
          "output_type": "execute_result",
          "data": {
            "application/vnd.google.colaboratory.intrinsic+json": {
              "type": "string"
            },
            "text/plain": [
              "'\\nNew Final Class Labels:\\n\\nnot_related_or_irrelevant == 0\\nsympathy_and_emotional_support + caution_and_advice == 1\\ninfrastructure_and_utilities_damage == 2\\ndisplaced_people_and_evacuations + injured_or_dead_people + missing_trapped_or_found_people == 3\\ndonation_needs_or_offers_or_volunteering_services == 4\\nother_useful_information == 5\\n\\n'"
            ]
          },
          "metadata": {},
          "execution_count": 47
        }
      ]
    },
    {
      "cell_type": "code",
      "metadata": {
        "colab": {
          "base_uri": "https://localhost:8080/"
        },
        "id": "xYRJNvVBSKWI",
        "outputId": "de6b82c7-e033-4cec-ed8b-aa800b9c80dd"
      },
      "source": [
        "print('Dataset size:',tweet_df.shape)\n",
        "print('Columns are:',tweet_df.columns)"
      ],
      "execution_count": null,
      "outputs": [
        {
          "output_type": "stream",
          "name": "stdout",
          "text": [
            "Dataset size: (1262, 3)\n",
            "Columns are: Index(['tweet_id', 'tweet_text', 'label'], dtype='object')\n"
          ]
        }
      ]
    },
    {
      "cell_type": "code",
      "metadata": {
        "colab": {
          "base_uri": "https://localhost:8080/"
        },
        "id": "av2GjcKSSKTx",
        "outputId": "479f2e10-cded-444a-8a10-c5ebf07cfecc"
      },
      "source": [
        "tweet_df.info()"
      ],
      "execution_count": null,
      "outputs": [
        {
          "output_type": "stream",
          "name": "stdout",
          "text": [
            "<class 'pandas.core.frame.DataFrame'>\n",
            "RangeIndex: 1262 entries, 0 to 1261\n",
            "Data columns (total 3 columns):\n",
            " #   Column      Non-Null Count  Dtype \n",
            "---  ------      --------------  ----- \n",
            " 0   tweet_id    1262 non-null   object\n",
            " 1   tweet_text  1262 non-null   object\n",
            " 2   label       1262 non-null   int64 \n",
            "dtypes: int64(1), object(2)\n",
            "memory usage: 29.7+ KB\n"
          ]
        }
      ]
    },
    {
      "cell_type": "code",
      "metadata": {
        "colab": {
          "base_uri": "https://localhost:8080/",
          "height": 296
        },
        "id": "lgeHzatDSKRH",
        "outputId": "3d43cae8-49bb-4870-baed-e96bc7c70668"
      },
      "source": [
        "sns.countplot(x = 'label', data = df1)"
      ],
      "execution_count": null,
      "outputs": [
        {
          "output_type": "execute_result",
          "data": {
            "text/plain": [
              "<matplotlib.axes._subplots.AxesSubplot at 0x7f519a630f90>"
            ]
          },
          "metadata": {},
          "execution_count": 54
        },
        {
          "output_type": "display_data",
          "data": {
            "image/png": "[encoded data removed]",
            "text/plain": [
              "<Figure size 432x288 with 1 Axes>"
            ]
          },
          "metadata": {
            "needs_background": "light"
          }
        }
      ]
    },
    {
      "cell_type": "code",
      "metadata": {
        "colab": {
          "base_uri": "https://localhost:8080/",
          "height": 424
        },
        "id": "Bq0M5nv5bFZs",
        "outputId": "47c1edc5-030c-458d-99f2-9e1b615b2d81"
      },
      "source": [
        "tweet_df"
      ],
      "execution_count": null,
      "outputs": [
        {
          "output_type": "execute_result",
          "data": {
            "text/html": [
              "<div>\n",
              "<style scoped>\n",
              "    .dataframe tbody tr th:only-of-type {\n",
              "        vertical-align: middle;\n",
              "    }\n",
              "\n",
              "    .dataframe tbody tr th {\n",
              "        vertical-align: top;\n",
              "    }\n",
              "\n",
              "    .dataframe thead th {\n",
              "        text-align: right;\n",
              "    }\n",
              "</style>\n",
              "<table border=\"1\" class=\"dataframe\">\n",
              "  <thead>\n",
              "    <tr style=\"text-align: right;\">\n",
              "      <th></th>\n",
              "      <th>tweet_id</th>\n",
              "      <th>tweet_text</th>\n",
              "      <th>label</th>\n",
              "    </tr>\n",
              "  </thead>\n",
              "  <tbody>\n",
              "    <tr>\n",
              "      <th>0</th>\n",
              "      <td>'511962276383825920'</td>\n",
              "      <td>Prayers for Cabo: Hurricane Odile Roars Through Cabo San Lucas http://t.co/y0WuS1KXlj via @Bloom...</td>\n",
              "      <td>1</td>\n",
              "    </tr>\n",
              "    <tr>\n",
              "      <th>1</th>\n",
              "      <td>'511733855871438848'</td>\n",
              "      <td>Sammy Hagar's Home Damaged in Hurricane: Sammy Hagar's home was damaged as Hurricane Odile slamm...</td>\n",
              "      <td>1</td>\n",
              "    </tr>\n",
              "    <tr>\n",
              "      <th>2</th>\n",
              "      <td>'511493520952393728'</td>\n",
              "      <td>Residents, Tourists Sent to Shelters as Hurricane Odile Makes Landfall – ABC News http://t.co/O0...</td>\n",
              "      <td>1</td>\n",
              "    </tr>\n",
              "    <tr>\n",
              "      <th>3</th>\n",
              "      <td>'511547268701646848'</td>\n",
              "      <td>Our thoughts go out to all of our friends in Los Cabos and Baja Mexico after being hit by Hurric...</td>\n",
              "      <td>1</td>\n",
              "    </tr>\n",
              "    <tr>\n",
              "      <th>4</th>\n",
              "      <td>'511710044044677121'</td>\n",
              "      <td>Does anyone have information on emergency services and potable water in La Paz, BCS? #odile #Hur...</td>\n",
              "      <td>1</td>\n",
              "    </tr>\n",
              "    <tr>\n",
              "      <th>...</th>\n",
              "      <td>...</td>\n",
              "      <td>...</td>\n",
              "      <td>...</td>\n",
              "    </tr>\n",
              "    <tr>\n",
              "      <th>1257</th>\n",
              "      <td>'514294534487154688'</td>\n",
              "      <td>\"In the wake of Hurricane Odile’s destruction to Mexico’s Baja Peninsula, Sammy Hagar...made the...</td>\n",
              "      <td>1</td>\n",
              "    </tr>\n",
              "    <tr>\n",
              "      <th>1258</th>\n",
              "      <td>'513733442883035138'</td>\n",
              "      <td>LET'S HELP REBUILD BCS DEVASTATED BY HURRICANE ODILE  Hurricane Odile damaged Los Cabos. It left...</td>\n",
              "      <td>1</td>\n",
              "    </tr>\n",
              "    <tr>\n",
              "      <th>1259</th>\n",
              "      <td>'512216310248259584'</td>\n",
              "      <td>BBC News - Hurricane Odile damages Mexico's Baja California resorts http://t.co/3AoNwLWHkl</td>\n",
              "      <td>1</td>\n",
              "    </tr>\n",
              "    <tr>\n",
              "      <th>1260</th>\n",
              "      <td>'512079481478324224'</td>\n",
              "      <td>Coachella, keep it safe, remnants arriving soon MT \"@SRE_mx: No deaths or serious injuries of in...</td>\n",
              "      <td>1</td>\n",
              "    </tr>\n",
              "    <tr>\n",
              "      <th>1261</th>\n",
              "      <td>'512199617875038208'</td>\n",
              "      <td>RT @TLW3: Hurricane Odile Damages Update: Mexico's Cabo San Lucas &amp;amp; Baja Peninsula 'Demolish...</td>\n",
              "      <td>1</td>\n",
              "    </tr>\n",
              "  </tbody>\n",
              "</table>\n",
              "<p>1262 rows × 3 columns</p>\n",
              "</div>"
            ],
            "text/plain": [
              "                  tweet_id  ... label\n",
              "0     '511962276383825920'  ...     1\n",
              "1     '511733855871438848'  ...     1\n",
              "2     '511493520952393728'  ...     1\n",
              "3     '511547268701646848'  ...     1\n",
              "4     '511710044044677121'  ...     1\n",
              "...                    ...  ...   ...\n",
              "1257  '514294534487154688'  ...     1\n",
              "1258  '513733442883035138'  ...     1\n",
              "1259  '512216310248259584'  ...     1\n",
              "1260  '512079481478324224'  ...     1\n",
              "1261  '512199617875038208'  ...     1\n",
              "\n",
              "[1262 rows x 3 columns]"
            ]
          },
          "metadata": {},
          "execution_count": 19
        }
      ]
    },
    {
      "cell_type": "markdown",
      "metadata": {
        "id": "ZUC1BDhDUGNU"
      },
      "source": [
        "##Exploratory Data Analysis"
      ]
    },
    {
      "cell_type": "markdown",
      "metadata": {
        "id": "r5jFtNbeUq2z"
      },
      "source": [
        "###Pre-processing text data\n",
        "Most of the text data are cleaned by following below steps.\n",
        "\n",
        "Remove punctuations"
      ]
    },
    {
      "cell_type": "code",
      "metadata": {
        "colab": {
          "base_uri": "https://localhost:8080/",
          "height": 35
        },
        "id": "KUXRQ_EeTc3S",
        "outputId": "fe8881e2-2ee5-4cc6-8b11-7cc502e164a5"
      },
      "source": [
        "string.punctuation"
      ],
      "execution_count": 27,
      "outputs": [
        {
          "output_type": "execute_result",
          "data": {
            "application/vnd.google.colaboratory.intrinsic+json": {
              "type": "string"
            },
            "text/plain": [
              "'!\"#$%&\\'()*+,-./:;<=>?@[\\\\]^_`{|}~'"
            ]
          },
          "metadata": {},
          "execution_count": 27
        }
      ]
    },
    {
      "cell_type": "code",
      "metadata": {
        "colab": {
          "base_uri": "https://localhost:8080/",
          "height": 363
        },
        "id": "qNgJY0hZTc0h",
        "outputId": "cb5ac6fb-19b8-44b2-cab9-1246ad3099e2"
      },
      "source": [
        "def remove_punct(text):\n",
        "    text  = \"\".join([char for char in text if char not in string.punctuation])\n",
        "    text = re.sub('[0-9]+', '', text) #you may drop it to do new experiments if it helps\n",
        "    return text\n",
        "\n",
        "df1['tweet_punct'] = df1['tweet_text'].apply(lambda x: remove_punct(x))\n",
        "df1.head(10)"
      ],
      "execution_count": 28,
      "outputs": [
        {
          "output_type": "execute_result",
          "data": {
            "text/html": [
              "<div>\n",
              "<style scoped>\n",
              "    .dataframe tbody tr th:only-of-type {\n",
              "        vertical-align: middle;\n",
              "    }\n",
              "\n",
              "    .dataframe tbody tr th {\n",
              "        vertical-align: top;\n",
              "    }\n",
              "\n",
              "    .dataframe thead th {\n",
              "        text-align: right;\n",
              "    }\n",
              "</style>\n",
              "<table border=\"1\" class=\"dataframe\">\n",
              "  <thead>\n",
              "    <tr style=\"text-align: right;\">\n",
              "      <th></th>\n",
              "      <th>tweet_id</th>\n",
              "      <th>tweet_text</th>\n",
              "      <th>label</th>\n",
              "      <th>tweet_punct</th>\n",
              "    </tr>\n",
              "  </thead>\n",
              "  <tbody>\n",
              "    <tr>\n",
              "      <th>0</th>\n",
              "      <td>'501222299685888000'</td>\n",
              "      <td>RT @lilid426: Everyone has all these intense relationship goals when my goal is just getting in ...</td>\n",
              "      <td>0</td>\n",
              "      <td>RT lilid Everyone has all these intense relationship goals when my goal is just getting in a rel...</td>\n",
              "    </tr>\n",
              "    <tr>\n",
              "      <th>1</th>\n",
              "      <td>'501203294409457664'</td>\n",
              "      <td>@kkfred12 @StayDvpper oh yea I would like to that damn K and shove it up their ass sideways just...</td>\n",
              "      <td>0</td>\n",
              "      <td>kkfred StayDvpper oh yea I would like to that damn K and shove it up their ass sideways just don...</td>\n",
              "    </tr>\n",
              "    <tr>\n",
              "      <th>2</th>\n",
              "      <td>'501157833996767233'</td>\n",
              "      <td>RT @fruitpopniall: \"1D are about to split up\"  #1DToLiveOnForever http://t.co/4nHQIq03Io</td>\n",
              "      <td>0</td>\n",
              "      <td>RT fruitpopniall D are about to split up  DToLiveOnForever httptconHQIqIo</td>\n",
              "    </tr>\n",
              "    <tr>\n",
              "      <th>3</th>\n",
              "      <td>'501136832957259776'</td>\n",
              "      <td>@Harry_Styles   You are my ☀   You 💡 up my whole day  You are my entire 🌎  So please follow me, ...</td>\n",
              "      <td>0</td>\n",
              "      <td>HarryStyles   You are my ☀   You 💡 up my whole day  You are my entire 🌎  So please follow me I ❤...</td>\n",
              "    </tr>\n",
              "    <tr>\n",
              "      <th>4</th>\n",
              "      <td>'501049468511596544'</td>\n",
              "      <td>RT @abonetti420: Swinging blunts round, sun up till sun down</td>\n",
              "      <td>0</td>\n",
              "      <td>RT abonetti Swinging blunts round sun up till sun down</td>\n",
              "    </tr>\n",
              "    <tr>\n",
              "      <th>5</th>\n",
              "      <td>'501187710657523712'</td>\n",
              "      <td>RT @AbdulWaveey: Currently turning up the brightness on my Tv for the nigeria and ghana matches</td>\n",
              "      <td>0</td>\n",
              "      <td>RT AbdulWaveey Currently turning up the brightness on my Tv for the nigeria and ghana matches</td>\n",
              "    </tr>\n",
              "    <tr>\n",
              "      <th>6</th>\n",
              "      <td>'501385992108912640'</td>\n",
              "      <td>RT @indykaila: Breaking news coming at 4:30pm for Liverpool. We have exciting update from France...</td>\n",
              "      <td>0</td>\n",
              "      <td>RT indykaila Breaking news coming at pm for Liverpool We have exciting update from France coming...</td>\n",
              "    </tr>\n",
              "    <tr>\n",
              "      <th>7</th>\n",
              "      <td>'501231024173367296'</td>\n",
              "      <td>RT @lanafttluke: alright goodnight so i can wake up and go go to hell.</td>\n",
              "      <td>0</td>\n",
              "      <td>RT lanafttluke alright goodnight so i can wake up and go go to hell</td>\n",
              "    </tr>\n",
              "    <tr>\n",
              "      <th>8</th>\n",
              "      <td>'501164341505183744'</td>\n",
              "      <td>RT @TrueBloodHBO: 2 episodes left. Drink up and watch a new episode of #TrueBlood tonight at 9PM...</td>\n",
              "      <td>0</td>\n",
              "      <td>RT TrueBloodHBO  episodes left Drink up and watch a new episode of TrueBlood tonight at PM TrueT...</td>\n",
              "    </tr>\n",
              "    <tr>\n",
              "      <th>9</th>\n",
              "      <td>'501144319500115969'</td>\n",
              "      <td>Drive home from cr is always quicker then the way up I swear</td>\n",
              "      <td>0</td>\n",
              "      <td>Drive home from cr is always quicker then the way up I swear</td>\n",
              "    </tr>\n",
              "  </tbody>\n",
              "</table>\n",
              "</div>"
            ],
            "text/plain": [
              "               tweet_id  ...                                                                                          tweet_punct\n",
              "0  '501222299685888000'  ...  RT lilid Everyone has all these intense relationship goals when my goal is just getting in a rel...\n",
              "1  '501203294409457664'  ...  kkfred StayDvpper oh yea I would like to that damn K and shove it up their ass sideways just don...\n",
              "2  '501157833996767233'  ...                            RT fruitpopniall D are about to split up  DToLiveOnForever httptconHQIqIo\n",
              "3  '501136832957259776'  ...  HarryStyles   You are my ☀   You 💡 up my whole day  You are my entire 🌎  So please follow me I ❤...\n",
              "4  '501049468511596544'  ...                                               RT abonetti Swinging blunts round sun up till sun down\n",
              "5  '501187710657523712'  ...        RT AbdulWaveey Currently turning up the brightness on my Tv for the nigeria and ghana matches\n",
              "6  '501385992108912640'  ...  RT indykaila Breaking news coming at pm for Liverpool We have exciting update from France coming...\n",
              "7  '501231024173367296'  ...                                  RT lanafttluke alright goodnight so i can wake up and go go to hell\n",
              "8  '501164341505183744'  ...  RT TrueBloodHBO  episodes left Drink up and watch a new episode of TrueBlood tonight at PM TrueT...\n",
              "9  '501144319500115969'  ...                                         Drive home from cr is always quicker then the way up I swear\n",
              "\n",
              "[10 rows x 4 columns]"
            ]
          },
          "metadata": {},
          "execution_count": 28
        }
      ]
    },
    {
      "cell_type": "code",
      "metadata": {
        "id": "o8jzZ3Sx9M__"
      },
      "source": [
        "df1.to_csv('final_data_6_classes.csv')"
      ],
      "execution_count": 29,
      "outputs": []
    },
    {
      "cell_type": "markdown",
      "metadata": {
        "id": "l-GqfFtARZll"
      },
      "source": [
        "#Balancing the Dataset"
      ]
    },
    {
      "cell_type": "code",
      "metadata": {
        "colab": {
          "base_uri": "https://localhost:8080/"
        },
        "id": "NJ3GPJDERYsu",
        "outputId": "9c3aeaac-224d-4999-8dd1-e7e2167f8f3e"
      },
      "source": [
        "from google.colab import drive\n",
        "drive.mount('/content/drive')"
      ],
      "execution_count": null,
      "outputs": [
        {
          "output_type": "stream",
          "name": "stdout",
          "text": [
            "Mounted at /content/drive\n"
          ]
        }
      ]
    },
    {
      "cell_type": "code",
      "metadata": {
        "id": "u9w-Bys3Rffl"
      },
      "source": [
        "path= \"/content/drive/MyDrive/ChiSquareX_NLP_Tutoring/Multi_Lingual/CrisisNLP_labeled_data/CrisisNLP_labeled_data_crowdflower/2014_Hurricane_Odile_Mexico_en\""
      ],
      "execution_count": null,
      "outputs": []
    },
    {
      "cell_type": "code",
      "metadata": {
        "colab": {
          "base_uri": "https://localhost:8080/"
        },
        "id": "1WAsXMBQRpQ0",
        "outputId": "6f5cdf61-c236-431c-a700-6a290c993e5e"
      },
      "source": [
        "cd /content/drive/MyDrive/ChiSquareX_NLP_Tutoring/Multi_Lingual/CrisisNLP_labeled_data/CrisisNLP_labeled_data_crowdflower/2014_Hurricane_Odile_Mexico_en"
      ],
      "execution_count": null,
      "outputs": [
        {
          "output_type": "stream",
          "name": "stdout",
          "text": [
            "/content/drive/MyDrive/ChiSquareX_NLP_Tutoring/Multi_Lingual/CrisisNLP_labeled_data/CrisisNLP_labeled_data_crowdflower/2014_Hurricane_Odile_Mexico_en\n"
          ]
        }
      ]
    },
    {
      "cell_type": "code",
      "metadata": {
        "id": "g0eh3ttCRstu"
      },
      "source": [
        "import pandas as pd\n",
        "import numpy as np\n",
        "import seaborn as sns\n",
        "import matplotlib.pyplot as plt\n",
        "from sklearn.feature_extraction.text import CountVectorizer\n",
        "import nltk \n",
        "import string\n",
        "import re\n",
        "%matplotlib inline\n",
        "pd.set_option('display.max_colwidth', 100)"
      ],
      "execution_count": null,
      "outputs": []
    },
    {
      "cell_type": "code",
      "metadata": {
        "colab": {
          "base_uri": "https://localhost:8080/"
        },
        "id": "SF53ihuJRxtn",
        "outputId": "a84480e0-7bf6-40a4-b4fa-aea581c2a25e"
      },
      "source": [
        "ls"
      ],
      "execution_count": 30,
      "outputs": [
        {
          "output_type": "stream",
          "name": "stdout",
          "text": [
            "2014_India_floods_CF_labeled_data.tsv  labeling-instructions.txt\n",
            "final_data_6_classes.csv\n"
          ]
        }
      ]
    },
    {
      "cell_type": "code",
      "metadata": {
        "id": "rcPZ7DQPRyse"
      },
      "source": [
        "df = pd.read_csv('final_data_6_classes.csv')"
      ],
      "execution_count": 31,
      "outputs": []
    },
    {
      "cell_type": "code",
      "metadata": {
        "colab": {
          "base_uri": "https://localhost:8080/",
          "height": 310
        },
        "id": "zrlRfbu1S3i9",
        "outputId": "f1f5e221-bb21-40c7-ac2a-d578c7d02e37"
      },
      "source": [
        "df.head()"
      ],
      "execution_count": null,
      "outputs": [
        {
          "output_type": "execute_result",
          "data": {
            "text/html": [
              "<div>\n",
              "<style scoped>\n",
              "    .dataframe tbody tr th:only-of-type {\n",
              "        vertical-align: middle;\n",
              "    }\n",
              "\n",
              "    .dataframe tbody tr th {\n",
              "        vertical-align: top;\n",
              "    }\n",
              "\n",
              "    .dataframe thead th {\n",
              "        text-align: right;\n",
              "    }\n",
              "</style>\n",
              "<table border=\"1\" class=\"dataframe\">\n",
              "  <thead>\n",
              "    <tr style=\"text-align: right;\">\n",
              "      <th></th>\n",
              "      <th>Unnamed: 0</th>\n",
              "      <th>tweet_id</th>\n",
              "      <th>tweet_text</th>\n",
              "      <th>label</th>\n",
              "      <th>tweet_punct</th>\n",
              "    </tr>\n",
              "  </thead>\n",
              "  <tbody>\n",
              "    <tr>\n",
              "      <th>0</th>\n",
              "      <td>0</td>\n",
              "      <td>'511962276383825920'</td>\n",
              "      <td>Prayers for Cabo: Hurricane Odile Roars Through Cabo San Lucas http://t.co/y0WuS1KXlj via @Bloom...</td>\n",
              "      <td>1</td>\n",
              "      <td>Prayers for Cabo Hurricane Odile Roars Through Cabo San Lucas httptcoyWuSKXlj via BloombergTV</td>\n",
              "    </tr>\n",
              "    <tr>\n",
              "      <th>1</th>\n",
              "      <td>1</td>\n",
              "      <td>'511733855871438848'</td>\n",
              "      <td>Sammy Hagar's Home Damaged in Hurricane: Sammy Hagar's home was damaged as Hurricane Odile slamm...</td>\n",
              "      <td>2</td>\n",
              "      <td>Sammy Hagars Home Damaged in Hurricane Sammy Hagars home was damaged as Hurricane Odile slammed ...</td>\n",
              "    </tr>\n",
              "    <tr>\n",
              "      <th>2</th>\n",
              "      <td>2</td>\n",
              "      <td>'511493520952393728'</td>\n",
              "      <td>Residents, Tourists Sent to Shelters as Hurricane Odile Makes Landfall – ABC News http://t.co/O0...</td>\n",
              "      <td>3</td>\n",
              "      <td>Residents Tourists Sent to Shelters as Hurricane Odile Makes Landfall – ABC News httptcoOtNjheiy...</td>\n",
              "    </tr>\n",
              "    <tr>\n",
              "      <th>3</th>\n",
              "      <td>3</td>\n",
              "      <td>'511547268701646848'</td>\n",
              "      <td>Our thoughts go out to all of our friends in Los Cabos and Baja Mexico after being hit by Hurric...</td>\n",
              "      <td>1</td>\n",
              "      <td>Our thoughts go out to all of our friends in Los Cabos and Baja Mexico after being hit by Hurric...</td>\n",
              "    </tr>\n",
              "    <tr>\n",
              "      <th>4</th>\n",
              "      <td>4</td>\n",
              "      <td>'511710044044677121'</td>\n",
              "      <td>Does anyone have information on emergency services and potable water in La Paz, BCS? #odile #Hur...</td>\n",
              "      <td>5</td>\n",
              "      <td>Does anyone have information on emergency services and potable water in La Paz BCS odile Hurrica...</td>\n",
              "    </tr>\n",
              "  </tbody>\n",
              "</table>\n",
              "</div>"
            ],
            "text/plain": [
              "   Unnamed: 0  ...                                                                                          tweet_punct\n",
              "0           0  ...        Prayers for Cabo Hurricane Odile Roars Through Cabo San Lucas httptcoyWuSKXlj via BloombergTV\n",
              "1           1  ...  Sammy Hagars Home Damaged in Hurricane Sammy Hagars home was damaged as Hurricane Odile slammed ...\n",
              "2           2  ...  Residents Tourists Sent to Shelters as Hurricane Odile Makes Landfall – ABC News httptcoOtNjheiy...\n",
              "3           3  ...  Our thoughts go out to all of our friends in Los Cabos and Baja Mexico after being hit by Hurric...\n",
              "4           4  ...  Does anyone have information on emergency services and potable water in La Paz BCS odile Hurrica...\n",
              "\n",
              "[5 rows x 5 columns]"
            ]
          },
          "metadata": {},
          "execution_count": 63
        }
      ]
    },
    {
      "cell_type": "code",
      "metadata": {
        "id": "dIUwOmbRTEqj"
      },
      "source": [
        ""
      ],
      "execution_count": null,
      "outputs": []
    },
    {
      "cell_type": "markdown",
      "metadata": {
        "id": "9AehiT9fTMF0"
      },
      "source": [
        "##Adv_Example_Generation"
      ]
    },
    {
      "cell_type": "code",
      "metadata": {
        "colab": {
          "base_uri": "https://localhost:8080/"
        },
        "id": "wl4QdhU8TREM",
        "outputId": "7b445701-9399-4269-bc6b-6b77b03007a2"
      },
      "source": [
        "!pip install pyarrow==0.16.0\n",
        "!pip install tensorflow_text\n",
        "!pip install textattack #very useful python library for text related tasks"
      ],
      "execution_count": null,
      "outputs": [
        {
          "output_type": "stream",
          "name": "stdout",
          "text": [
            "Collecting pyarrow==0.16.0\n",
            "  Downloading pyarrow-0.16.0-cp37-cp37m-manylinux2014_x86_64.whl (63.1 MB)\n",
            "\u001b[K     |████████████████████████████████| 63.1 MB 52 kB/s \n",
            "\u001b[?25hRequirement already satisfied: six>=1.0.0 in /usr/local/lib/python3.7/dist-packages (from pyarrow==0.16.0) (1.15.0)\n",
            "Requirement already satisfied: numpy>=1.14 in /usr/local/lib/python3.7/dist-packages (from pyarrow==0.16.0) (1.19.5)\n",
            "Installing collected packages: pyarrow\n",
            "  Attempting uninstall: pyarrow\n",
            "    Found existing installation: pyarrow 3.0.0\n",
            "    Uninstalling pyarrow-3.0.0:\n",
            "      Successfully uninstalled pyarrow-3.0.0\n",
            "Successfully installed pyarrow-0.16.0\n",
            "Collecting tensorflow_text\n",
            "  Downloading tensorflow_text-2.7.3-cp37-cp37m-manylinux2010_x86_64.whl (4.9 MB)\n",
            "\u001b[K     |████████████████████████████████| 4.9 MB 5.2 MB/s \n",
            "\u001b[?25hRequirement already satisfied: tensorflow<2.8,>=2.7.0 in /usr/local/lib/python3.7/dist-packages (from tensorflow_text) (2.7.0)\n",
            "Requirement already satisfied: tensorflow-hub>=0.8.0 in /usr/local/lib/python3.7/dist-packages (from tensorflow_text) (0.12.0)\n",
            "Requirement already satisfied: astunparse>=1.6.0 in /usr/local/lib/python3.7/dist-packages (from tensorflow<2.8,>=2.7.0->tensorflow_text) (1.6.3)\n",
            "Requirement already satisfied: tensorflow-io-gcs-filesystem>=0.21.0 in /usr/local/lib/python3.7/dist-packages (from tensorflow<2.8,>=2.7.0->tensorflow_text) (0.22.0)\n",
            "Requirement already satisfied: absl-py>=0.4.0 in /usr/local/lib/python3.7/dist-packages (from tensorflow<2.8,>=2.7.0->tensorflow_text) (0.12.0)\n",
            "Requirement already satisfied: keras-preprocessing>=1.1.1 in /usr/local/lib/python3.7/dist-packages (from tensorflow<2.8,>=2.7.0->tensorflow_text) (1.1.2)\n",
            "Requirement already satisfied: numpy>=1.14.5 in /usr/local/lib/python3.7/dist-packages (from tensorflow<2.8,>=2.7.0->tensorflow_text) (1.19.5)\n",
            "Requirement already satisfied: wheel<1.0,>=0.32.0 in /usr/local/lib/python3.7/dist-packages (from tensorflow<2.8,>=2.7.0->tensorflow_text) (0.37.0)\n",
            "Requirement already satisfied: wrapt>=1.11.0 in /usr/local/lib/python3.7/dist-packages (from tensorflow<2.8,>=2.7.0->tensorflow_text) (1.13.3)\n",
            "Requirement already satisfied: tensorboard~=2.6 in /usr/local/lib/python3.7/dist-packages (from tensorflow<2.8,>=2.7.0->tensorflow_text) (2.7.0)\n",
            "Requirement already satisfied: typing-extensions>=3.6.6 in /usr/local/lib/python3.7/dist-packages (from tensorflow<2.8,>=2.7.0->tensorflow_text) (3.10.0.2)\n",
            "Requirement already satisfied: google-pasta>=0.1.1 in /usr/local/lib/python3.7/dist-packages (from tensorflow<2.8,>=2.7.0->tensorflow_text) (0.2.0)\n",
            "Requirement already satisfied: keras<2.8,>=2.7.0rc0 in /usr/local/lib/python3.7/dist-packages (from tensorflow<2.8,>=2.7.0->tensorflow_text) (2.7.0)\n",
            "Requirement already satisfied: opt-einsum>=2.3.2 in /usr/local/lib/python3.7/dist-packages (from tensorflow<2.8,>=2.7.0->tensorflow_text) (3.3.0)\n",
            "Requirement already satisfied: protobuf>=3.9.2 in /usr/local/lib/python3.7/dist-packages (from tensorflow<2.8,>=2.7.0->tensorflow_text) (3.17.3)\n",
            "Requirement already satisfied: termcolor>=1.1.0 in /usr/local/lib/python3.7/dist-packages (from tensorflow<2.8,>=2.7.0->tensorflow_text) (1.1.0)\n",
            "Requirement already satisfied: gast<0.5.0,>=0.2.1 in /usr/local/lib/python3.7/dist-packages (from tensorflow<2.8,>=2.7.0->tensorflow_text) (0.4.0)\n",
            "Requirement already satisfied: h5py>=2.9.0 in /usr/local/lib/python3.7/dist-packages (from tensorflow<2.8,>=2.7.0->tensorflow_text) (3.1.0)\n",
            "Requirement already satisfied: tensorflow-estimator<2.8,~=2.7.0rc0 in /usr/local/lib/python3.7/dist-packages (from tensorflow<2.8,>=2.7.0->tensorflow_text) (2.7.0)\n",
            "Requirement already satisfied: flatbuffers<3.0,>=1.12 in /usr/local/lib/python3.7/dist-packages (from tensorflow<2.8,>=2.7.0->tensorflow_text) (2.0)\n",
            "Requirement already satisfied: six>=1.12.0 in /usr/local/lib/python3.7/dist-packages (from tensorflow<2.8,>=2.7.0->tensorflow_text) (1.15.0)\n",
            "Requirement already satisfied: grpcio<2.0,>=1.24.3 in /usr/local/lib/python3.7/dist-packages (from tensorflow<2.8,>=2.7.0->tensorflow_text) (1.42.0)\n",
            "Requirement already satisfied: libclang>=9.0.1 in /usr/local/lib/python3.7/dist-packages (from tensorflow<2.8,>=2.7.0->tensorflow_text) (12.0.0)\n",
            "Requirement already satisfied: cached-property in /usr/local/lib/python3.7/dist-packages (from h5py>=2.9.0->tensorflow<2.8,>=2.7.0->tensorflow_text) (1.5.2)\n",
            "Requirement already satisfied: google-auth<3,>=1.6.3 in /usr/local/lib/python3.7/dist-packages (from tensorboard~=2.6->tensorflow<2.8,>=2.7.0->tensorflow_text) (1.35.0)\n",
            "Requirement already satisfied: google-auth-oauthlib<0.5,>=0.4.1 in /usr/local/lib/python3.7/dist-packages (from tensorboard~=2.6->tensorflow<2.8,>=2.7.0->tensorflow_text) (0.4.6)\n",
            "Requirement already satisfied: requests<3,>=2.21.0 in /usr/local/lib/python3.7/dist-packages (from tensorboard~=2.6->tensorflow<2.8,>=2.7.0->tensorflow_text) (2.23.0)\n",
            "Requirement already satisfied: tensorboard-plugin-wit>=1.6.0 in /usr/local/lib/python3.7/dist-packages (from tensorboard~=2.6->tensorflow<2.8,>=2.7.0->tensorflow_text) (1.8.0)\n",
            "Requirement already satisfied: setuptools>=41.0.0 in /usr/local/lib/python3.7/dist-packages (from tensorboard~=2.6->tensorflow<2.8,>=2.7.0->tensorflow_text) (57.4.0)\n",
            "Requirement already satisfied: werkzeug>=0.11.15 in /usr/local/lib/python3.7/dist-packages (from tensorboard~=2.6->tensorflow<2.8,>=2.7.0->tensorflow_text) (1.0.1)\n",
            "Requirement already satisfied: tensorboard-data-server<0.7.0,>=0.6.0 in /usr/local/lib/python3.7/dist-packages (from tensorboard~=2.6->tensorflow<2.8,>=2.7.0->tensorflow_text) (0.6.1)\n",
            "Requirement already satisfied: markdown>=2.6.8 in /usr/local/lib/python3.7/dist-packages (from tensorboard~=2.6->tensorflow<2.8,>=2.7.0->tensorflow_text) (3.3.6)\n",
            "Requirement already satisfied: pyasn1-modules>=0.2.1 in /usr/local/lib/python3.7/dist-packages (from google-auth<3,>=1.6.3->tensorboard~=2.6->tensorflow<2.8,>=2.7.0->tensorflow_text) (0.2.8)\n",
            "Requirement already satisfied: rsa<5,>=3.1.4 in /usr/local/lib/python3.7/dist-packages (from google-auth<3,>=1.6.3->tensorboard~=2.6->tensorflow<2.8,>=2.7.0->tensorflow_text) (4.8)\n",
            "Requirement already satisfied: cachetools<5.0,>=2.0.0 in /usr/local/lib/python3.7/dist-packages (from google-auth<3,>=1.6.3->tensorboard~=2.6->tensorflow<2.8,>=2.7.0->tensorflow_text) (4.2.4)\n",
            "Requirement already satisfied: requests-oauthlib>=0.7.0 in /usr/local/lib/python3.7/dist-packages (from google-auth-oauthlib<0.5,>=0.4.1->tensorboard~=2.6->tensorflow<2.8,>=2.7.0->tensorflow_text) (1.3.0)\n",
            "Requirement already satisfied: importlib-metadata>=4.4 in /usr/local/lib/python3.7/dist-packages (from markdown>=2.6.8->tensorboard~=2.6->tensorflow<2.8,>=2.7.0->tensorflow_text) (4.8.2)\n",
            "Requirement already satisfied: zipp>=0.5 in /usr/local/lib/python3.7/dist-packages (from importlib-metadata>=4.4->markdown>=2.6.8->tensorboard~=2.6->tensorflow<2.8,>=2.7.0->tensorflow_text) (3.6.0)\n",
            "Requirement already satisfied: pyasn1<0.5.0,>=0.4.6 in /usr/local/lib/python3.7/dist-packages (from pyasn1-modules>=0.2.1->google-auth<3,>=1.6.3->tensorboard~=2.6->tensorflow<2.8,>=2.7.0->tensorflow_text) (0.4.8)\n",
            "Requirement already satisfied: urllib3!=1.25.0,!=1.25.1,<1.26,>=1.21.1 in /usr/local/lib/python3.7/dist-packages (from requests<3,>=2.21.0->tensorboard~=2.6->tensorflow<2.8,>=2.7.0->tensorflow_text) (1.24.3)\n",
            "Requirement already satisfied: idna<3,>=2.5 in /usr/local/lib/python3.7/dist-packages (from requests<3,>=2.21.0->tensorboard~=2.6->tensorflow<2.8,>=2.7.0->tensorflow_text) (2.10)\n",
            "Requirement already satisfied: certifi>=2017.4.17 in /usr/local/lib/python3.7/dist-packages (from requests<3,>=2.21.0->tensorboard~=2.6->tensorflow<2.8,>=2.7.0->tensorflow_text) (2021.10.8)\n",
            "Requirement already satisfied: chardet<4,>=3.0.2 in /usr/local/lib/python3.7/dist-packages (from requests<3,>=2.21.0->tensorboard~=2.6->tensorflow<2.8,>=2.7.0->tensorflow_text) (3.0.4)\n",
            "Requirement already satisfied: oauthlib>=3.0.0 in /usr/local/lib/python3.7/dist-packages (from requests-oauthlib>=0.7.0->google-auth-oauthlib<0.5,>=0.4.1->tensorboard~=2.6->tensorflow<2.8,>=2.7.0->tensorflow_text) (3.1.1)\n",
            "Installing collected packages: tensorflow-text\n",
            "Successfully installed tensorflow-text-2.7.3\n",
            "Collecting textattack\n",
            "  Downloading textattack-0.3.4-py3-none-any.whl (373 kB)\n",
            "\u001b[K     |████████████████████████████████| 373 kB 5.0 MB/s \n",
            "\u001b[?25hCollecting bert-score>=0.3.5\n",
            "  Downloading bert_score-0.3.10-py3-none-any.whl (59 kB)\n",
            "\u001b[K     |████████████████████████████████| 59 kB 8.0 MB/s \n",
            "\u001b[?25hRequirement already satisfied: scipy>=1.4.1 in /usr/local/lib/python3.7/dist-packages (from textattack) (1.4.1)\n",
            "Requirement already satisfied: more-itertools in /usr/local/lib/python3.7/dist-packages (from textattack) (8.12.0)\n",
            "Requirement already satisfied: numpy>=1.19.2 in /usr/local/lib/python3.7/dist-packages (from textattack) (1.19.5)\n",
            "Collecting language-tool-python\n",
            "  Downloading language_tool_python-2.6.2-py3-none-any.whl (30 kB)\n",
            "Requirement already satisfied: torch!=1.8,>=1.7.0 in /usr/local/lib/python3.7/dist-packages (from textattack) (1.10.0+cu111)\n",
            "Collecting num2words\n",
            "  Downloading num2words-0.5.10-py3-none-any.whl (101 kB)\n",
            "\u001b[K     |████████████████████████████████| 101 kB 12.0 MB/s \n",
            "\u001b[?25hCollecting transformers>=3.3.0\n",
            "  Downloading transformers-4.12.5-py3-none-any.whl (3.1 MB)\n",
            "\u001b[K     |████████████████████████████████| 3.1 MB 47.4 MB/s \n",
            "\u001b[?25hCollecting flair\n",
            "  Downloading flair-0.10-py3-none-any.whl (322 kB)\n",
            "\u001b[K     |████████████████████████████████| 322 kB 77.9 MB/s \n",
            "\u001b[?25hRequirement already satisfied: pandas>=1.0.1 in /usr/local/lib/python3.7/dist-packages (from textattack) (1.1.5)\n",
            "Collecting tqdm<4.50.0,>=4.27\n",
            "  Downloading tqdm-4.49.0-py2.py3-none-any.whl (69 kB)\n",
            "\u001b[K     |████████████████████████████████| 69 kB 7.8 MB/s \n",
            "\u001b[?25hCollecting word2number\n",
            "  Downloading word2number-1.1.zip (9.7 kB)\n",
            "Collecting lru-dict\n",
            "  Downloading lru-dict-1.1.7.tar.gz (10 kB)\n",
            "Requirement already satisfied: PySocks!=1.5.7,>=1.5.6 in /usr/local/lib/python3.7/dist-packages (from textattack) (1.7.1)\n",
            "Requirement already satisfied: filelock in /usr/local/lib/python3.7/dist-packages (from textattack) (3.4.0)\n",
            "Collecting lemminflect\n",
            "  Downloading lemminflect-0.2.2-py3-none-any.whl (769 kB)\n",
            "\u001b[K     |████████████████████████████████| 769 kB 71.0 MB/s \n",
            "\u001b[?25hCollecting datasets\n",
            "  Downloading datasets-1.16.1-py3-none-any.whl (298 kB)\n",
            "\u001b[K     |████████████████████████████████| 298 kB 63.3 MB/s \n",
            "\u001b[?25hRequirement already satisfied: nltk in /usr/local/lib/python3.7/dist-packages (from textattack) (3.2.5)\n",
            "Collecting terminaltables\n",
            "  Downloading terminaltables-3.1.0.tar.gz (12 kB)\n",
            "Requirement already satisfied: editdistance in /usr/local/lib/python3.7/dist-packages (from textattack) (0.5.3)\n",
            "Requirement already satisfied: packaging>=20.9 in /usr/local/lib/python3.7/dist-packages (from bert-score>=0.3.5->textattack) (21.3)\n",
            "Requirement already satisfied: requests in /usr/local/lib/python3.7/dist-packages (from bert-score>=0.3.5->textattack) (2.23.0)\n",
            "Requirement already satisfied: matplotlib in /usr/local/lib/python3.7/dist-packages (from bert-score>=0.3.5->textattack) (3.2.2)\n",
            "Requirement already satisfied: pyparsing!=3.0.5,>=2.0.2 in /usr/local/lib/python3.7/dist-packages (from packaging>=20.9->bert-score>=0.3.5->textattack) (3.0.6)\n",
            "Requirement already satisfied: python-dateutil>=2.7.3 in /usr/local/lib/python3.7/dist-packages (from pandas>=1.0.1->textattack) (2.8.2)\n",
            "Requirement already satisfied: pytz>=2017.2 in /usr/local/lib/python3.7/dist-packages (from pandas>=1.0.1->textattack) (2018.9)\n",
            "Requirement already satisfied: six>=1.5 in /usr/local/lib/python3.7/dist-packages (from python-dateutil>=2.7.3->pandas>=1.0.1->textattack) (1.15.0)\n",
            "Requirement already satisfied: typing-extensions in /usr/local/lib/python3.7/dist-packages (from torch!=1.8,>=1.7.0->textattack) (3.10.0.2)\n",
            "Collecting sacremoses\n",
            "  Downloading sacremoses-0.0.46-py3-none-any.whl (895 kB)\n",
            "\u001b[K     |████████████████████████████████| 895 kB 60.6 MB/s \n",
            "\u001b[?25hCollecting huggingface-hub<1.0,>=0.1.0\n",
            "  Downloading huggingface_hub-0.2.1-py3-none-any.whl (61 kB)\n",
            "\u001b[K     |████████████████████████████████| 61 kB 574 kB/s \n",
            "\u001b[?25hRequirement already satisfied: importlib-metadata in /usr/local/lib/python3.7/dist-packages (from transformers>=3.3.0->textattack) (4.8.2)\n",
            "Collecting pyyaml>=5.1\n",
            "  Downloading PyYAML-6.0-cp37-cp37m-manylinux_2_5_x86_64.manylinux1_x86_64.manylinux_2_12_x86_64.manylinux2010_x86_64.whl (596 kB)\n",
            "\u001b[K     |████████████████████████████████| 596 kB 72.1 MB/s \n",
            "\u001b[?25hRequirement already satisfied: regex!=2019.12.17 in /usr/local/lib/python3.7/dist-packages (from transformers>=3.3.0->textattack) (2019.12.20)\n",
            "Collecting tokenizers<0.11,>=0.10.1\n",
            "  Downloading tokenizers-0.10.3-cp37-cp37m-manylinux_2_5_x86_64.manylinux1_x86_64.manylinux_2_12_x86_64.manylinux2010_x86_64.whl (3.3 MB)\n",
            "\u001b[K     |████████████████████████████████| 3.3 MB 19.6 MB/s \n",
            "\u001b[?25hCollecting datasets\n",
            "  Downloading datasets-1.16.0-py3-none-any.whl (298 kB)\n",
            "\u001b[K     |████████████████████████████████| 298 kB 50.6 MB/s \n",
            "\u001b[?25h  Downloading datasets-1.15.1-py3-none-any.whl (290 kB)\n",
            "\u001b[K     |████████████████████████████████| 290 kB 64.5 MB/s \n",
            "\u001b[?25h  Downloading datasets-1.15.0-py3-none-any.whl (290 kB)\n",
            "\u001b[K     |████████████████████████████████| 290 kB 63.2 MB/s \n",
            "\u001b[?25h  Downloading datasets-1.14.0-py3-none-any.whl (290 kB)\n",
            "\u001b[K     |████████████████████████████████| 290 kB 63.7 MB/s \n",
            "\u001b[?25h  Downloading datasets-1.13.3-py3-none-any.whl (287 kB)\n",
            "\u001b[K     |████████████████████████████████| 287 kB 68.8 MB/s \n",
            "\u001b[?25h  Downloading datasets-1.13.2-py3-none-any.whl (287 kB)\n",
            "\u001b[K     |████████████████████████████████| 287 kB 74.0 MB/s \n",
            "\u001b[?25h  Downloading datasets-1.13.1-py3-none-any.whl (287 kB)\n",
            "\u001b[K     |████████████████████████████████| 287 kB 77.9 MB/s \n",
            "\u001b[?25h  Downloading datasets-1.13.0-py3-none-any.whl (285 kB)\n",
            "\u001b[K     |████████████████████████████████| 285 kB 81.5 MB/s \n",
            "\u001b[?25h  Downloading datasets-1.12.1-py3-none-any.whl (270 kB)\n",
            "\u001b[K     |████████████████████████████████| 270 kB 79.8 MB/s \n",
            "\u001b[?25h  Downloading datasets-1.12.0-py3-none-any.whl (269 kB)\n",
            "\u001b[K     |████████████████████████████████| 269 kB 77.0 MB/s \n",
            "\u001b[?25h  Downloading datasets-1.11.0-py3-none-any.whl (264 kB)\n",
            "\u001b[K     |████████████████████████████████| 264 kB 77.9 MB/s \n",
            "\u001b[?25hCollecting fsspec>=2021.05.0\n",
            "  Downloading fsspec-2021.11.1-py3-none-any.whl (132 kB)\n",
            "\u001b[K     |████████████████████████████████| 132 kB 70.5 MB/s \n",
            "\u001b[?25hCollecting pyarrow!=4.0.0,>=1.0.0\n",
            "  Downloading pyarrow-6.0.1-cp37-cp37m-manylinux_2_17_x86_64.manylinux2014_x86_64.whl (25.6 MB)\n",
            "\u001b[K     |████████████████████████████████| 25.6 MB 1.2 MB/s \n",
            "\u001b[?25hRequirement already satisfied: multiprocess in /usr/local/lib/python3.7/dist-packages (from datasets->textattack) (0.70.12.2)\n",
            "Collecting datasets\n",
            "  Downloading datasets-1.10.2-py3-none-any.whl (542 kB)\n",
            "\u001b[K     |████████████████████████████████| 542 kB 68.8 MB/s \n",
            "\u001b[?25h  Downloading datasets-1.10.1-py3-none-any.whl (542 kB)\n",
            "\u001b[K     |████████████████████████████████| 542 kB 66.5 MB/s \n",
            "\u001b[?25h  Downloading datasets-1.10.0-py3-none-any.whl (542 kB)\n",
            "\u001b[K     |████████████████████████████████| 542 kB 59.4 MB/s \n",
            "\u001b[?25h  Downloading datasets-1.9.0-py3-none-any.whl (262 kB)\n",
            "\u001b[K     |████████████████████████████████| 262 kB 73.8 MB/s \n",
            "\u001b[?25h  Downloading datasets-1.8.0-py3-none-any.whl (237 kB)\n",
            "\u001b[K     |████████████████████████████████| 237 kB 75.3 MB/s \n",
            "\u001b[?25h  Downloading datasets-1.7.0-py3-none-any.whl (234 kB)\n",
            "\u001b[K     |████████████████████████████████| 234 kB 55.9 MB/s \n",
            "\u001b[?25h  Downloading datasets-1.6.2-py3-none-any.whl (221 kB)\n",
            "\u001b[K     |████████████████████████████████| 221 kB 54.3 MB/s \n",
            "\u001b[?25h  Downloading datasets-1.6.1-py3-none-any.whl (220 kB)\n",
            "\u001b[K     |████████████████████████████████| 220 kB 56.7 MB/s \n",
            "\u001b[?25h  Downloading datasets-1.6.0-py3-none-any.whl (202 kB)\n",
            "\u001b[K     |████████████████████████████████| 202 kB 59.5 MB/s \n",
            "\u001b[?25h  Downloading datasets-1.5.0-py3-none-any.whl (192 kB)\n",
            "\u001b[K     |████████████████████████████████| 192 kB 67.7 MB/s \n",
            "\u001b[?25h  Downloading datasets-1.4.1-py3-none-any.whl (186 kB)\n",
            "\u001b[K     |████████████████████████████████| 186 kB 75.8 MB/s \n",
            "\u001b[?25h  Downloading datasets-1.4.0-py3-none-any.whl (186 kB)\n",
            "\u001b[K     |████████████████████████████████| 186 kB 70.9 MB/s \n",
            "\u001b[?25h  Downloading datasets-1.3.0-py3-none-any.whl (181 kB)\n",
            "\u001b[K     |████████████████████████████████| 181 kB 74.7 MB/s \n",
            "\u001b[?25h  Downloading datasets-1.2.1-py3-none-any.whl (159 kB)\n",
            "\u001b[K     |████████████████████████████████| 159 kB 68.0 MB/s \n",
            "\u001b[?25hRequirement already satisfied: dill in /usr/local/lib/python3.7/dist-packages (from datasets->textattack) (0.3.4)\n",
            "Collecting xxhash\n",
            "  Downloading xxhash-2.0.2-cp37-cp37m-manylinux2010_x86_64.whl (243 kB)\n",
            "\u001b[K     |████████████████████████████████| 243 kB 59.3 MB/s \n",
            "\u001b[?25hRequirement already satisfied: idna<3,>=2.5 in /usr/local/lib/python3.7/dist-packages (from requests->bert-score>=0.3.5->textattack) (2.10)\n",
            "Requirement already satisfied: certifi>=2017.4.17 in /usr/local/lib/python3.7/dist-packages (from requests->bert-score>=0.3.5->textattack) (2021.10.8)\n",
            "Requirement already satisfied: chardet<4,>=3.0.2 in /usr/local/lib/python3.7/dist-packages (from requests->bert-score>=0.3.5->textattack) (3.0.4)\n",
            "Requirement already satisfied: urllib3!=1.25.0,!=1.25.1,<1.26,>=1.21.1 in /usr/local/lib/python3.7/dist-packages (from requests->bert-score>=0.3.5->textattack) (1.24.3)\n",
            "Collecting segtok>=1.5.7\n",
            "  Downloading segtok-1.5.10.tar.gz (25 kB)\n",
            "Collecting langdetect\n",
            "  Downloading langdetect-1.0.9.tar.gz (981 kB)\n",
            "\u001b[K     |████████████████████████████████| 981 kB 47.3 MB/s \n",
            "\u001b[?25hCollecting sentencepiece==0.1.95\n",
            "  Downloading sentencepiece-0.1.95-cp37-cp37m-manylinux2014_x86_64.whl (1.2 MB)\n",
            "\u001b[K     |████████████████████████████████| 1.2 MB 37.7 MB/s \n",
            "\u001b[?25hRequirement already satisfied: gensim>=3.4.0 in /usr/local/lib/python3.7/dist-packages (from flair->textattack) (3.6.0)\n",
            "Collecting mpld3==0.3\n",
            "  Downloading mpld3-0.3.tar.gz (788 kB)\n",
            "\u001b[K     |████████████████████████████████| 788 kB 54.1 MB/s \n",
            "\u001b[?25hCollecting janome\n",
            "  Downloading Janome-0.4.1-py2.py3-none-any.whl (19.7 MB)\n",
            "\u001b[K     |████████████████████████████████| 19.7 MB 53.2 MB/s \n",
            "\u001b[?25hCollecting gdown==3.12.2\n",
            "  Downloading gdown-3.12.2.tar.gz (8.2 kB)\n",
            "  Installing build dependencies ... \u001b[?25l\u001b[?25hdone\n",
            "  Getting requirements to build wheel ... \u001b[?25l\u001b[?25hdone\n",
            "    Preparing wheel metadata ... \u001b[?25l\u001b[?25hdone\n",
            "Collecting ftfy\n",
            "  Downloading ftfy-6.0.3.tar.gz (64 kB)\n",
            "\u001b[K     |████████████████████████████████| 64 kB 3.0 MB/s \n",
            "\u001b[?25hRequirement already satisfied: lxml in /usr/local/lib/python3.7/dist-packages (from flair->textattack) (4.2.6)\n",
            "Collecting bpemb>=0.3.2\n",
            "  Downloading bpemb-0.3.3-py3-none-any.whl (19 kB)\n",
            "Requirement already satisfied: scikit-learn>=0.21.3 in /usr/local/lib/python3.7/dist-packages (from flair->textattack) (1.0.1)\n",
            "Collecting sqlitedict>=1.6.0\n",
            "  Downloading sqlitedict-1.7.0.tar.gz (28 kB)\n",
            "Requirement already satisfied: tabulate in /usr/local/lib/python3.7/dist-packages (from flair->textattack) (0.8.9)\n",
            "Collecting more-itertools\n",
            "  Downloading more_itertools-8.8.0-py3-none-any.whl (48 kB)\n",
            "\u001b[K     |████████████████████████████████| 48 kB 6.1 MB/s \n",
            "\u001b[?25hCollecting wikipedia-api\n",
            "  Downloading Wikipedia-API-0.5.4.tar.gz (18 kB)\n",
            "Collecting konoha<5.0.0,>=4.0.0\n",
            "  Downloading konoha-4.6.5-py3-none-any.whl (20 kB)\n",
            "Collecting conllu>=4.0\n",
            "  Downloading conllu-4.4.1-py2.py3-none-any.whl (15 kB)\n",
            "Collecting deprecated>=1.2.4\n",
            "  Downloading Deprecated-1.2.13-py2.py3-none-any.whl (9.6 kB)\n",
            "Requirement already satisfied: wrapt<2,>=1.10 in /usr/local/lib/python3.7/dist-packages (from deprecated>=1.2.4->flair->textattack) (1.13.3)\n",
            "Requirement already satisfied: smart-open>=1.2.1 in /usr/local/lib/python3.7/dist-packages (from gensim>=3.4.0->flair->textattack) (5.2.1)\n",
            "Collecting requests\n",
            "  Downloading requests-2.26.0-py2.py3-none-any.whl (62 kB)\n",
            "\u001b[K     |████████████████████████████████| 62 kB 939 kB/s \n",
            "\u001b[?25hCollecting importlib-metadata\n",
            "  Downloading importlib_metadata-3.10.1-py3-none-any.whl (14 kB)\n",
            "Collecting overrides<4.0.0,>=3.0.0\n",
            "  Downloading overrides-3.1.0.tar.gz (11 kB)\n",
            "Requirement already satisfied: zipp>=0.5 in /usr/local/lib/python3.7/dist-packages (from importlib-metadata->transformers>=3.3.0->textattack) (3.6.0)\n",
            "Requirement already satisfied: cycler>=0.10 in /usr/local/lib/python3.7/dist-packages (from matplotlib->bert-score>=0.3.5->textattack) (0.11.0)\n",
            "Requirement already satisfied: kiwisolver>=1.0.1 in /usr/local/lib/python3.7/dist-packages (from matplotlib->bert-score>=0.3.5->textattack) (1.3.2)\n",
            "Requirement already satisfied: charset-normalizer~=2.0.0 in /usr/local/lib/python3.7/dist-packages (from requests->bert-score>=0.3.5->textattack) (2.0.8)\n",
            "Requirement already satisfied: threadpoolctl>=2.0.0 in /usr/local/lib/python3.7/dist-packages (from scikit-learn>=0.21.3->flair->textattack) (3.0.0)\n",
            "Requirement already satisfied: joblib>=0.11 in /usr/local/lib/python3.7/dist-packages (from scikit-learn>=0.21.3->flair->textattack) (1.1.0)\n",
            "Requirement already satisfied: wcwidth in /usr/local/lib/python3.7/dist-packages (from ftfy->flair->textattack) (0.2.5)\n",
            "Requirement already satisfied: docopt>=0.6.2 in /usr/local/lib/python3.7/dist-packages (from num2words->textattack) (0.6.2)\n",
            "Requirement already satisfied: click in /usr/local/lib/python3.7/dist-packages (from sacremoses->transformers>=3.3.0->textattack) (7.1.2)\n",
            "Building wheels for collected packages: gdown, mpld3, overrides, segtok, sqlitedict, ftfy, langdetect, lru-dict, terminaltables, wikipedia-api, word2number\n",
            "  Building wheel for gdown (PEP 517) ... \u001b[?25l\u001b[?25hdone\n",
            "  Created wheel for gdown: filename=gdown-3.12.2-py3-none-any.whl size=9704 sha256=abeb69344717349a151c4134115eaac6e2f1e63135c98838898ff6305d8230fb\n",
            "  Stored in directory: /root/.cache/pip/wheels/ba/e0/7e/726e872a53f7358b4b96a9975b04e98113b005cd8609a63abc\n",
            "  Building wheel for mpld3 (setup.py) ... \u001b[?25l\u001b[?25hdone\n",
            "  Created wheel for mpld3: filename=mpld3-0.3-py3-none-any.whl size=116702 sha256=08b3cb068246347db51ac524219c6bd2ad5a4ade4ada5394aa61beecacc2858c\n",
            "  Stored in directory: /root/.cache/pip/wheels/26/70/6a/1c79e59951a41b4045497da187b2724f5659ca64033cf4548e\n",
            "  Building wheel for overrides (setup.py) ... \u001b[?25l\u001b[?25hdone\n",
            "  Created wheel for overrides: filename=overrides-3.1.0-py3-none-any.whl size=10186 sha256=696572315a10c74a93895baf4cf06e88e71f38967d4395058220bb7e6e5c95ef\n",
            "  Stored in directory: /root/.cache/pip/wheels/3a/0d/38/01a9bc6e20dcfaf0a6a7b552d03137558ba1c38aea47644682\n",
            "  Building wheel for segtok (setup.py) ... \u001b[?25l\u001b[?25hdone\n",
            "  Created wheel for segtok: filename=segtok-1.5.10-py3-none-any.whl size=25030 sha256=ce1e09fa636afe0f3e102fe2a162ec53cebc9f706c2bae93ac2ef256dde27c2e\n",
            "  Stored in directory: /root/.cache/pip/wheels/67/b7/d0/a121106e61339eee5ed083bc230b1c8dc422c49a5a28c2addd\n",
            "  Building wheel for sqlitedict (setup.py) ... \u001b[?25l\u001b[?25hdone\n",
            "  Created wheel for sqlitedict: filename=sqlitedict-1.7.0-py3-none-any.whl size=14392 sha256=959a526f836d4ebbdf3893da07bb1f4a29ec6cbe9062917a63956810ef4ccc86\n",
            "  Stored in directory: /root/.cache/pip/wheels/af/94/06/18c0e83e9e227da8f3582810b51f319bbfd181e508676a56c8\n",
            "  Building wheel for ftfy (setup.py) ... \u001b[?25l\u001b[?25hdone\n",
            "  Created wheel for ftfy: filename=ftfy-6.0.3-py3-none-any.whl size=41933 sha256=71e806e948316646fc91fbe117c4f54b09a524928fc7b6362239f97196dcf4b4\n",
            "  Stored in directory: /root/.cache/pip/wheels/19/f5/38/273eb3b5e76dfd850619312f693716ac4518b498f5ffb6f56d\n",
            "  Building wheel for langdetect (setup.py) ... \u001b[?25l\u001b[?25hdone\n",
            "  Created wheel for langdetect: filename=langdetect-1.0.9-py3-none-any.whl size=993242 sha256=d42edbdaee8c0fd42e19208f74e05c75369a26cc2a12091a477625fb7eda1b05\n",
            "  Stored in directory: /root/.cache/pip/wheels/c5/96/8a/f90c59ed25d75e50a8c10a1b1c2d4c402e4dacfa87f3aff36a\n",
            "  Building wheel for lru-dict (setup.py) ... \u001b[?25l\u001b[?25hdone\n",
            "  Created wheel for lru-dict: filename=lru_dict-1.1.7-cp37-cp37m-linux_x86_64.whl size=28424 sha256=c68b4e8dbf7bdbfb8ba8fab3c2b0ff48306896262ef8221e9d52d65f9e3402c2\n",
            "  Stored in directory: /root/.cache/pip/wheels/9d/0b/4e/aa8fec9833090cd52bcd76f92f9d95e1ee7b915c12093663b4\n",
            "  Building wheel for terminaltables (setup.py) ... \u001b[?25l\u001b[?25hdone\n",
            "  Created wheel for terminaltables: filename=terminaltables-3.1.0-py3-none-any.whl size=15354 sha256=80338bb093ac5890a5eebd36864f9caef266d40d152ce4b9d406e017bdcd230e\n",
            "  Stored in directory: /root/.cache/pip/wheels/ba/ad/c8/2d98360791161cd3db6daf6b5e730f34021fc9367d5879f497\n",
            "  Building wheel for wikipedia-api (setup.py) ... \u001b[?25l\u001b[?25hdone\n",
            "  Created wheel for wikipedia-api: filename=Wikipedia_API-0.5.4-py3-none-any.whl size=13475 sha256=324b209b612a50394f43f81a448d2b0e8faf5eba6e213608bfd6d28cee1f6d7b\n",
            "  Stored in directory: /root/.cache/pip/wheels/d3/24/56/58ba93cf78be162451144e7a9889603f437976ef1ae7013d04\n",
            "  Building wheel for word2number (setup.py) ... \u001b[?25l\u001b[?25hdone\n",
            "  Created wheel for word2number: filename=word2number-1.1-py3-none-any.whl size=5580 sha256=ac50341499ad65dd871d446f755a5ed3b3e1f8877452361b8fb5d7b23b72c4d3\n",
            "  Stored in directory: /root/.cache/pip/wheels/4b/c3/77/a5f48aeb0d3efb7cd5ad61cbd3da30bbf9ffc9662b07c9f879\n",
            "Successfully built gdown mpld3 overrides segtok sqlitedict ftfy langdetect lru-dict terminaltables wikipedia-api word2number\n",
            "Installing collected packages: tqdm, requests, pyyaml, importlib-metadata, tokenizers, sentencepiece, sacremoses, overrides, huggingface-hub, xxhash, wikipedia-api, transformers, sqlitedict, segtok, pyarrow, mpld3, more-itertools, langdetect, konoha, janome, gdown, ftfy, deprecated, conllu, bpemb, word2number, terminaltables, num2words, lru-dict, lemminflect, language-tool-python, flair, datasets, bert-score, textattack\n",
            "  Attempting uninstall: tqdm\n",
            "    Found existing installation: tqdm 4.62.3\n",
            "    Uninstalling tqdm-4.62.3:\n",
            "      Successfully uninstalled tqdm-4.62.3\n",
            "  Attempting uninstall: requests\n",
            "    Found existing installation: requests 2.23.0\n",
            "    Uninstalling requests-2.23.0:\n",
            "      Successfully uninstalled requests-2.23.0\n",
            "  Attempting uninstall: pyyaml\n",
            "    Found existing installation: PyYAML 3.13\n",
            "    Uninstalling PyYAML-3.13:\n",
            "      Successfully uninstalled PyYAML-3.13\n",
            "  Attempting uninstall: importlib-metadata\n",
            "    Found existing installation: importlib-metadata 4.8.2\n",
            "    Uninstalling importlib-metadata-4.8.2:\n",
            "      Successfully uninstalled importlib-metadata-4.8.2\n",
            "  Attempting uninstall: pyarrow\n",
            "    Found existing installation: pyarrow 0.16.0\n",
            "    Uninstalling pyarrow-0.16.0:\n",
            "      Successfully uninstalled pyarrow-0.16.0\n",
            "  Attempting uninstall: more-itertools\n",
            "    Found existing installation: more-itertools 8.12.0\n",
            "    Uninstalling more-itertools-8.12.0:\n",
            "      Successfully uninstalled more-itertools-8.12.0\n",
            "  Attempting uninstall: gdown\n",
            "    Found existing installation: gdown 3.6.4\n",
            "    Uninstalling gdown-3.6.4:\n",
            "      Successfully uninstalled gdown-3.6.4\n",
            "\u001b[31mERROR: pip's dependency resolver does not currently take into account all the packages that are installed. This behaviour is the source of the following dependency conflicts.\n",
            "markdown 3.3.6 requires importlib-metadata>=4.4; python_version < \"3.10\", but you have importlib-metadata 3.10.1 which is incompatible.\n",
            "google-colab 1.0.0 requires requests~=2.23.0, but you have requests 2.26.0 which is incompatible.\n",
            "datascience 0.10.6 requires folium==0.2.1, but you have folium 0.8.3 which is incompatible.\u001b[0m\n",
            "Successfully installed bert-score-0.3.10 bpemb-0.3.3 conllu-4.4.1 datasets-1.2.1 deprecated-1.2.13 flair-0.10 ftfy-6.0.3 gdown-3.12.2 huggingface-hub-0.2.1 importlib-metadata-3.10.1 janome-0.4.1 konoha-4.6.5 langdetect-1.0.9 language-tool-python-2.6.2 lemminflect-0.2.2 lru-dict-1.1.7 more-itertools-8.8.0 mpld3-0.3 num2words-0.5.10 overrides-3.1.0 pyarrow-6.0.1 pyyaml-6.0 requests-2.26.0 sacremoses-0.0.46 segtok-1.5.10 sentencepiece-0.1.95 sqlitedict-1.7.0 terminaltables-3.1.0 textattack-0.3.4 tokenizers-0.10.3 tqdm-4.49.0 transformers-4.12.5 wikipedia-api-0.5.4 word2number-1.1 xxhash-2.0.2\n"
          ]
        }
      ]
    },
    {
      "cell_type": "code",
      "metadata": {
        "colab": {
          "base_uri": "https://localhost:8080/"
        },
        "id": "E2KKlxZWTxLb",
        "outputId": "0a2f107d-ca25-4cb1-93ff-6f63dd0f3161"
      },
      "source": [
        "from textattack.augmentation import WordNetAugmenter, EmbeddingAugmenter, EasyDataAugmenter, CharSwapAugmenter"
      ],
      "execution_count": null,
      "outputs": [
        {
          "output_type": "stream",
          "name": "stderr",
          "text": [
            "textattack: Updating TextAttack package dependencies.\n",
            "textattack: Downloading NLTK required packages.\n"
          ]
        },
        {
          "output_type": "stream",
          "name": "stdout",
          "text": [
            "[nltk_data] Downloading package averaged_perceptron_tagger to\n",
            "[nltk_data]     /root/nltk_data...\n",
            "[nltk_data]   Unzipping taggers/averaged_perceptron_tagger.zip.\n",
            "[nltk_data] Downloading package stopwords to /root/nltk_data...\n",
            "[nltk_data]   Unzipping corpora/stopwords.zip.\n",
            "[nltk_data] Downloading package omw to /root/nltk_data...\n",
            "[nltk_data]   Unzipping corpora/omw.zip.\n",
            "[nltk_data] Downloading package universal_tagset to /root/nltk_data...\n",
            "[nltk_data]   Unzipping taggers/universal_tagset.zip.\n",
            "[nltk_data] Downloading package wordnet to /root/nltk_data...\n",
            "[nltk_data]   Unzipping corpora/wordnet.zip.\n",
            "[nltk_data] Downloading package punkt to /root/nltk_data...\n",
            "[nltk_data]   Unzipping tokenizers/punkt.zip.\n"
          ]
        },
        {
          "output_type": "stream",
          "name": "stderr",
          "text": [
            "textattack: Downloading https://textattack.s3.amazonaws.com/word_embeddings/paragramcf.\n",
            "100%|██████████| 481M/481M [00:12<00:00, 39.3MB/s]\n",
            "textattack: Unzipping file /root/.cache/textattack/tmpb33xv6iz.zip to /root/.cache/textattack/word_embeddings/paragramcf.\n",
            "textattack: Successfully saved word_embeddings/paragramcf to cache.\n"
          ]
        }
      ]
    },
    {
      "cell_type": "code",
      "metadata": {
        "id": "Xz2EvgpyT7kv"
      },
      "source": [
        "df_augmented = pd.DataFrame()  # If using adversarial data on class 0"
      ],
      "execution_count": null,
      "outputs": []
    },
    {
      "cell_type": "code",
      "metadata": {
        "colab": {
          "base_uri": "https://localhost:8080/"
        },
        "id": "Vyy8MHNou2I_",
        "outputId": "65dd7355-0f3c-45c8-ce22-c59cd8e828e3"
      },
      "source": [
        "print(df.dtypes)"
      ],
      "execution_count": null,
      "outputs": [
        {
          "output_type": "stream",
          "name": "stdout",
          "text": [
            "Unnamed: 0      int64\n",
            "tweet_id       object\n",
            "tweet_text     object\n",
            "label           int64\n",
            "tweet_punct    object\n",
            "dtype: object\n"
          ]
        }
      ]
    },
    {
      "cell_type": "code",
      "metadata": {
        "id": "RkiYd1iRwJ35"
      },
      "source": [
        "df_augmented = df[df['label'] == 0]  # If using adversarial data on class 0"
      ],
      "execution_count": null,
      "outputs": []
    },
    {
      "cell_type": "code",
      "metadata": {
        "colab": {
          "base_uri": "https://localhost:8080/"
        },
        "id": "Y9f5WARfwnfC",
        "outputId": "b50da0d7-8d7b-4749-fe37-5f0a14b60fb0"
      },
      "source": [
        "len(df_augmented)  # If using adversarial data on class 0"
      ],
      "execution_count": null,
      "outputs": [
        {
          "output_type": "execute_result",
          "data": {
            "text/plain": [
              "43"
            ]
          },
          "metadata": {},
          "execution_count": 70
        }
      ]
    },
    {
      "cell_type": "code",
      "metadata": {
        "colab": {
          "base_uri": "https://localhost:8080/",
          "height": 1000
        },
        "id": "TFpLA3QE9Dkz",
        "outputId": "042097c7-34f8-46d3-9706-10bb1b324b2b"
      },
      "source": [
        "df_augmented  # If using adversarial data on class 0"
      ],
      "execution_count": null,
      "outputs": [
        {
          "output_type": "execute_result",
          "data": {
            "text/html": [
              "<div>\n",
              "<style scoped>\n",
              "    .dataframe tbody tr th:only-of-type {\n",
              "        vertical-align: middle;\n",
              "    }\n",
              "\n",
              "    .dataframe tbody tr th {\n",
              "        vertical-align: top;\n",
              "    }\n",
              "\n",
              "    .dataframe thead th {\n",
              "        text-align: right;\n",
              "    }\n",
              "</style>\n",
              "<table border=\"1\" class=\"dataframe\">\n",
              "  <thead>\n",
              "    <tr style=\"text-align: right;\">\n",
              "      <th></th>\n",
              "      <th>Unnamed: 0</th>\n",
              "      <th>tweet_id</th>\n",
              "      <th>tweet_text</th>\n",
              "      <th>label</th>\n",
              "      <th>tweet_punct</th>\n",
              "    </tr>\n",
              "  </thead>\n",
              "  <tbody>\n",
              "    <tr>\n",
              "      <th>33</th>\n",
              "      <td>41</td>\n",
              "      <td>'512106646198550528'</td>\n",
              "      <td>@Azgurl27 hugs back. :) I brought in a crap load of dirt to help keep the water from flooding be...</td>\n",
              "      <td>0</td>\n",
              "      <td>Azgurl hugs back  I brought in a crap load of dirt to help keep the water from flooding behind m...</td>\n",
              "    </tr>\n",
              "    <tr>\n",
              "      <th>49</th>\n",
              "      <td>61</td>\n",
              "      <td>'511693744752848897'</td>\n",
              "      <td>Hey Putin!  Didn't you try this humanitarian thing in Georgia?  How did it work out for those fo...</td>\n",
              "      <td>0</td>\n",
              "      <td>Hey Putin  Didnt you try this humanitarian thing in Georgia  How did it work out for those folks...</td>\n",
              "    </tr>\n",
              "    <tr>\n",
              "      <th>75</th>\n",
              "      <td>96</td>\n",
              "      <td>'511897399435210752'</td>\n",
              "      <td>Such a shame about hurricane odile doing such massive damage to cabo. We have a trip booked ther...</td>\n",
              "      <td>0</td>\n",
              "      <td>Such a shame about hurricane odile doing such massive damage to cabo We have a trip booked there...</td>\n",
              "    </tr>\n",
              "    <tr>\n",
              "      <th>77</th>\n",
              "      <td>99</td>\n",
              "      <td>'511756016783208448'</td>\n",
              "      <td>I just want to online shop but my dad is using my laptop to look at pictures of the  hurricane d...</td>\n",
              "      <td>0</td>\n",
              "      <td>I just want to online shop but my dad is using my laptop to look at pictures of the  hurricane d...</td>\n",
              "    </tr>\n",
              "    <tr>\n",
              "      <th>92</th>\n",
              "      <td>117</td>\n",
              "      <td>'512272642913894400'</td>\n",
              "      <td>@WestJet your #Odile travel advisory pg online needs an update. Vague&amp;amp;generic msg doesn't he...</td>\n",
              "      <td>0</td>\n",
              "      <td>WestJet your Odile travel advisory pg online needs an update Vagueampgeneric msg doesnt helpMayb...</td>\n",
              "    </tr>\n",
              "    <tr>\n",
              "      <th>96</th>\n",
              "      <td>121</td>\n",
              "      <td>'511536826763317251'</td>\n",
              "      <td>@SSinArkansas May I use your damage pix for an Odile story at http://t.co/jdD929DfzZ? Will post ...</td>\n",
              "      <td>0</td>\n",
              "      <td>SSinArkansas May I use your damage pix for an Odile story at httptcojdDDfzZ Will post wname credit</td>\n",
              "    </tr>\n",
              "    <tr>\n",
              "      <th>106</th>\n",
              "      <td>133</td>\n",
              "      <td>'511796695689347072'</td>\n",
              "      <td>Spotted on the Rodarte Catwalk, hand painted hairpieces. We are loving Odile Gilbert direct tech...</td>\n",
              "      <td>0</td>\n",
              "      <td>Spotted on the Rodarte Catwalk hand painted hairpieces We are loving Odile Gilbert direct techni...</td>\n",
              "    </tr>\n",
              "    <tr>\n",
              "      <th>108</th>\n",
              "      <td>137</td>\n",
              "      <td>'512079030468636673'</td>\n",
              "      <td>My Cabo dreams are officially killed by Odile. Cancun, here I come!!!</td>\n",
              "      <td>0</td>\n",
              "      <td>My Cabo dreams are officially killed by Odile Cancun here I come</td>\n",
              "    </tr>\n",
              "    <tr>\n",
              "      <th>143</th>\n",
              "      <td>179</td>\n",
              "      <td>'511890232514326529'</td>\n",
              "      <td>Could mystery enterovirus be in AZ?-NFL brings in Dom Violence help; Odile could b n ordeal for ...</td>\n",
              "      <td>0</td>\n",
              "      <td>Could mystery enterovirus be in AZNFL brings in Dom Violence help Odile could b n ordeal for AZ ...</td>\n",
              "    </tr>\n",
              "    <tr>\n",
              "      <th>161</th>\n",
              "      <td>200</td>\n",
              "      <td>'511598712280588288'</td>\n",
              "      <td>#Habs #HollyoaksAutumnTrailer #HurricaneODILE #HipHopRealSkillsVol2 check it outὐAὐA https://t.c...</td>\n",
              "      <td>0</td>\n",
              "      <td>Habs HollyoaksAutumnTrailer HurricaneODILE HipHopRealSkillsVol check it outὐAὐA httpstcotMtKOYpH...</td>\n",
              "    </tr>\n",
              "    <tr>\n",
              "      <th>207</th>\n",
              "      <td>261</td>\n",
              "      <td>'511730608439959553'</td>\n",
              "      <td>RT @JohnETWilliams: Does anyone have information on emergency services and potable water in La P...</td>\n",
              "      <td>0</td>\n",
              "      <td>RT JohnETWilliams Does anyone have information on emergency services and potable water in La Paz...</td>\n",
              "    </tr>\n",
              "    <tr>\n",
              "      <th>228</th>\n",
              "      <td>291</td>\n",
              "      <td>'511638726209208320'</td>\n",
              "      <td>Cabo is getting blasted with a hurricane I can't watch. It hurts too much.</td>\n",
              "      <td>0</td>\n",
              "      <td>Cabo is getting blasted with a hurricane I cant watch It hurts too much</td>\n",
              "    </tr>\n",
              "    <tr>\n",
              "      <th>273</th>\n",
              "      <td>352</td>\n",
              "      <td>'512051426676465664'</td>\n",
              "      <td>RT @ErinSaidItWould: Wettest 12hrs in Tucson: Wed 6p-Thu 6am. Thursday morning commute will be a...</td>\n",
              "      <td>0</td>\n",
              "      <td>RT ErinSaidItWould Wettest hrs in Tucson Wed pThu am Thursday morning commute will be a soggy on...</td>\n",
              "    </tr>\n",
              "    <tr>\n",
              "      <th>308</th>\n",
              "      <td>398</td>\n",
              "      <td>'511549881903636481'</td>\n",
              "      <td>RT @ColleenFerreira: The wind from Hurricane Odile was so strong last night, @Westin in Cabo cre...</td>\n",
              "      <td>0</td>\n",
              "      <td>RT ColleenFerreira The wind from Hurricane Odile was so strong last night Westin in Cabo created...</td>\n",
              "    </tr>\n",
              "    <tr>\n",
              "      <th>322</th>\n",
              "      <td>417</td>\n",
              "      <td>'512113816684208128'</td>\n",
              "      <td>RT @UKinMexico: Travel advice: British Emb Mexico Hurricane #Odile Brits needing assistance can ...</td>\n",
              "      <td>0</td>\n",
              "      <td>RT UKinMexico Travel advice British Emb Mexico Hurricane Odile Brits needing assistance can call...</td>\n",
              "    </tr>\n",
              "    <tr>\n",
              "      <th>394</th>\n",
              "      <td>504</td>\n",
              "      <td>'511749170730766336'</td>\n",
              "      <td>RT @itsalleternal: #Follow for local #Odile info: @KimQuintero @ArizonaWeather @ChrisDunnCBS5 @E...</td>\n",
              "      <td>0</td>\n",
              "      <td>RT itsalleternal Follow for local Odile info KimQuintero ArizonaWeather ChrisDunnCBS ErinSaidItW...</td>\n",
              "    </tr>\n",
              "    <tr>\n",
              "      <th>434</th>\n",
              "      <td>549</td>\n",
              "      <td>'512069475881844737'</td>\n",
              "      <td>RT @lianalog: @latimes Wounded sister told by @RiuHoteles SantaFe to leave cuz they \"can't help ...</td>\n",
              "      <td>0</td>\n",
              "      <td>RT lianalog latimes Wounded sister told by RiuHoteles SantaFe to leave cuz they cant help anymor...</td>\n",
              "    </tr>\n",
              "    <tr>\n",
              "      <th>491</th>\n",
              "      <td>619</td>\n",
              "      <td>'514479996153638913'</td>\n",
              "      <td>RT @THETXEMBASSY: http://t.co/9F9MF0IEej ⚠No AidὋ2 til YOU⚠ #BringBackOurMarine ὟD @HouseForeign...</td>\n",
              "      <td>0</td>\n",
              "      <td>RT THETXEMBASSY httptcoFMFIEej ⚠No AidὋ til YOU⚠ BringBackOurMarine ὟD HouseForeign GOPLeader Ou...</td>\n",
              "    </tr>\n",
              "    <tr>\n",
              "      <th>526</th>\n",
              "      <td>660</td>\n",
              "      <td>'514610227594145792'</td>\n",
              "      <td>ἰA✌️ἰA Happiness comes in salty water. Pre-#hurricaneodile #letsbesandy #peaceout #surfmermaid #...</td>\n",
              "      <td>0</td>\n",
              "      <td>ἰA✌️ἰA Happiness comes in salty water Prehurricaneodile letsbesandy peaceout surfmermaid cabosan...</td>\n",
              "    </tr>\n",
              "    <tr>\n",
              "      <th>537</th>\n",
              "      <td>675</td>\n",
              "      <td>'511590697325977600'</td>\n",
              "      <td>A Path of Hurricane Odile's Destruction, Seen Through Instagram: Hurricane Odile came ashore ove...</td>\n",
              "      <td>0</td>\n",
              "      <td>A Path of Hurricane Odiles Destruction Seen Through Instagram Hurricane Odile came ashore over C...</td>\n",
              "    </tr>\n",
              "    <tr>\n",
              "      <th>540</th>\n",
              "      <td>680</td>\n",
              "      <td>'511674835261747200'</td>\n",
              "      <td>@thehybridprince Hurricane Odile down near Mexico. I couldn't help it.</td>\n",
              "      <td>0</td>\n",
              "      <td>thehybridprince Hurricane Odile down near Mexico I couldnt help it</td>\n",
              "    </tr>\n",
              "    <tr>\n",
              "      <th>545</th>\n",
              "      <td>686</td>\n",
              "      <td>'512324720151498752'</td>\n",
              "      <td>Also, headlamps are the great invention ever. #odile #stormsupplies #baja #loreto</td>\n",
              "      <td>0</td>\n",
              "      <td>Also headlamps are the great invention ever odile stormsupplies baja loreto</td>\n",
              "    </tr>\n",
              "    <tr>\n",
              "      <th>560</th>\n",
              "      <td>701</td>\n",
              "      <td>'511594605536489472'</td>\n",
              "      <td>@AmericanAir I just had to rebook a flight to Cabo and the fare is less than what I originally p...</td>\n",
              "      <td>0</td>\n",
              "      <td>AmericanAir I just had to rebook a flight to Cabo and the fare is less than what I originally pa...</td>\n",
              "    </tr>\n",
              "    <tr>\n",
              "      <th>581</th>\n",
              "      <td>724</td>\n",
              "      <td>'514401095829823489'</td>\n",
              "      <td>#HurricaneOdile #The_next_war_in_your_homes you westerns have been killing us Just because we ar...</td>\n",
              "      <td>0</td>\n",
              "      <td>HurricaneOdile Thenextwarinyourhomes you westerns have been killing us Just because we are Musli...</td>\n",
              "    </tr>\n",
              "    <tr>\n",
              "      <th>592</th>\n",
              "      <td>736</td>\n",
              "      <td>'514599889599098880'</td>\n",
              "      <td>RT @THETXEMBASSY: http://t.co/9F9MF0IEej ⚠NO AidὋ2 til YOU⚠ #BringBackOurMarine ὟD @Montel_Willi...</td>\n",
              "      <td>0</td>\n",
              "      <td>RT THETXEMBASSY httptcoFMFIEej ⚠NO AidὋ til YOU⚠ BringBackOurMarine ὟD MontelWilliams Watchmanth...</td>\n",
              "    </tr>\n",
              "    <tr>\n",
              "      <th>598</th>\n",
              "      <td>745</td>\n",
              "      <td>'516672713763876864'</td>\n",
              "      <td>RT @BlakeBooks: RT  New blog detailing my ordeal over the last 13 days. \"That Which Does Not Kil...</td>\n",
              "      <td>0</td>\n",
              "      <td>RT BlakeBooks RT  New blog detailing my ordeal over the last  days That Which Does Not Kill http...</td>\n",
              "    </tr>\n",
              "    <tr>\n",
              "      <th>639</th>\n",
              "      <td>798</td>\n",
              "      <td>'511908322027786240'</td>\n",
              "      <td>RT @CaptBobLB: Anyone in Twitter Land who has contacts at any international relief agencies pls ...</td>\n",
              "      <td>0</td>\n",
              "      <td>RT CaptBobLB Anyone in Twitter Land who has contacts at any international relief agencies pls as...</td>\n",
              "    </tr>\n",
              "    <tr>\n",
              "      <th>662</th>\n",
              "      <td>824</td>\n",
              "      <td>'511703619817598976'</td>\n",
              "      <td>RT @NWSElPaso: Hey Borderland, prep for #RAIN this week!  Hurricane Odile will help us get real ...</td>\n",
              "      <td>0</td>\n",
              "      <td>RT NWSElPaso Hey Borderland prep for RAIN this week  Hurricane Odile will help us get real wet P...</td>\n",
              "    </tr>\n",
              "    <tr>\n",
              "      <th>667</th>\n",
              "      <td>831</td>\n",
              "      <td>'512307869354831872'</td>\n",
              "      <td>Odile is such a middle child name it hurts</td>\n",
              "      <td>0</td>\n",
              "      <td>Odile is such a middle child name it hurts</td>\n",
              "    </tr>\n",
              "    <tr>\n",
              "      <th>671</th>\n",
              "      <td>835</td>\n",
              "      <td>'512082998158958592'</td>\n",
              "      <td>#IceBucketChallenge All that waste of water! Now we need it in Los Cabos &amp;amp; La Paz #Mexico #H...</td>\n",
              "      <td>0</td>\n",
              "      <td>IceBucketChallenge All that waste of water Now we need it in Los Cabos amp La Paz Mexico Hurrica...</td>\n",
              "    </tr>\n",
              "    <tr>\n",
              "      <th>681</th>\n",
              "      <td>845</td>\n",
              "      <td>'512300902066421761'</td>\n",
              "      <td>@jkc_bs no problem. I just saw this. It maybe helpful. http://t.co/Q9Es8k0Kpw</td>\n",
              "      <td>0</td>\n",
              "      <td>jkcbs no problem I just saw this It maybe helpful httptcoQEskKpw</td>\n",
              "    </tr>\n",
              "    <tr>\n",
              "      <th>725</th>\n",
              "      <td>895</td>\n",
              "      <td>'514208666862776320'</td>\n",
              "      <td>@CabosNews @visitaloscabos Hit by #hurricaneodile wants us 2feel bad &amp;amp; help rebuild. Do u fe...</td>\n",
              "      <td>0</td>\n",
              "      <td>CabosNews visitaloscabos Hit by hurricaneodile wants us feel bad amp help rebuild Do u feel bad ...</td>\n",
              "    </tr>\n",
              "    <tr>\n",
              "      <th>738</th>\n",
              "      <td>909</td>\n",
              "      <td>'511933636925743104'</td>\n",
              "      <td>@GerdOzone @NBCNewsPictures I actually went to the store for supplies and did the unthinkable:  ...</td>\n",
              "      <td>0</td>\n",
              "      <td>GerdOzone NBCNewsPictures I actually went to the store for supplies and did the unthinkable  PAI...</td>\n",
              "    </tr>\n",
              "    <tr>\n",
              "      <th>783</th>\n",
              "      <td>961</td>\n",
              "      <td>'514222681118736384'</td>\n",
              "      <td>RT @tomnod: 3 new @DigitalGlobe image strips are up! Help map damage in #BajaCalifornia from #Hu...</td>\n",
              "      <td>0</td>\n",
              "      <td>RT tomnod  new DigitalGlobe image strips are up Help map damage in BajaCalifornia from Hurricane...</td>\n",
              "    </tr>\n",
              "    <tr>\n",
              "      <th>903</th>\n",
              "      <td>1101</td>\n",
              "      <td>'512087889715658752'</td>\n",
              "      <td>Enough said. #loscabos #cabo #cabosanlucas #migente #mexico #hurricane #hurricanecabo #hurricane...</td>\n",
              "      <td>0</td>\n",
              "      <td>Enough said loscabos cabo cabosanlucas migente mexico hurricane hurricanecabo hurricaneodile baj...</td>\n",
              "    </tr>\n",
              "    <tr>\n",
              "      <th>927</th>\n",
              "      <td>1132</td>\n",
              "      <td>'514664219505991680'</td>\n",
              "      <td>RT @lianalog: Appalled: @RiuHoteles told wounded sister &amp;amp; friends to leave cuz they \"can't h...</td>\n",
              "      <td>0</td>\n",
              "      <td>RT lianalog Appalled RiuHoteles told wounded sister amp friends to leave cuz they cant help anym...</td>\n",
              "    </tr>\n",
              "    <tr>\n",
              "      <th>956</th>\n",
              "      <td>1165</td>\n",
              "      <td>'511675027700215808'</td>\n",
              "      <td>RT @tracieeeeee: WHO CARES BOUT HIM Holidaymakers at luxury celebrity resort loved by George Clo...</td>\n",
              "      <td>0</td>\n",
              "      <td>RT tracieeeeee WHO CARES BOUT HIM Holidaymakers at luxury celebrity resort loved by George Cloon...</td>\n",
              "    </tr>\n",
              "    <tr>\n",
              "      <th>959</th>\n",
              "      <td>1168</td>\n",
              "      <td>'512238854359633921'</td>\n",
              "      <td>'Walking Dead' Scene In Baja After Odile; Tourists Airlifted Out As Storm ... http://t.co/AcsjoQ...</td>\n",
              "      <td>0</td>\n",
              "      <td>Walking Dead Scene In Baja After Odile Tourists Airlifted Out As Storm  httptcoAcsjoQLju thewalk...</td>\n",
              "    </tr>\n",
              "    <tr>\n",
              "      <th>976</th>\n",
              "      <td>1187</td>\n",
              "      <td>'514399656688635906'</td>\n",
              "      <td>#HurricaneOdile #The_next_war_in_your_homes America killed our children and our women will not l...</td>\n",
              "      <td>0</td>\n",
              "      <td>HurricaneOdile Thenextwarinyourhomes America killed our children and our women will not leave yo...</td>\n",
              "    </tr>\n",
              "    <tr>\n",
              "      <th>984</th>\n",
              "      <td>1198</td>\n",
              "      <td>'511600862826098688'</td>\n",
              "      <td>Am I the only one who hasn't said it? Hey National Weather Service, What's the Big Odile?!   #st...</td>\n",
              "      <td>0</td>\n",
              "      <td>Am I the only one who hasnt said it Hey National Weather Service Whats the Big Odile   stupidsto...</td>\n",
              "    </tr>\n",
              "    <tr>\n",
              "      <th>988</th>\n",
              "      <td>1202</td>\n",
              "      <td>'511544982667538434'</td>\n",
              "      <td>RT @zaria_30: It kills me to see paradise like this ὢ2 #cabo #Odile http://t.co/URdUAAdUyZ</td>\n",
              "      <td>0</td>\n",
              "      <td>RT zaria It kills me to see paradise like this ὢ cabo Odile httptcoURdUAAdUyZ</td>\n",
              "    </tr>\n",
              "    <tr>\n",
              "      <th>1002</th>\n",
              "      <td>1220</td>\n",
              "      <td>'511598579924729856'</td>\n",
              "      <td>A Path of Hurricane Odile's Destruction, Seen Through Instagram: Hurricane Odile came ashore ove...</td>\n",
              "      <td>0</td>\n",
              "      <td>A Path of Hurricane Odiles Destruction Seen Through Instagram Hurricane Odile came ashore over C...</td>\n",
              "    </tr>\n",
              "    <tr>\n",
              "      <th>1016</th>\n",
              "      <td>1236</td>\n",
              "      <td>'512015479763120128'</td>\n",
              "      <td>Foreign http://t.co/iE7jEjs7Yy by Lody Cash #HurricaneODILE #humiliation #healthcare #HelpSaveKe...</td>\n",
              "      <td>0</td>\n",
              "      <td>Foreign httptcoiEjEjsYy by Lody Cash HurricaneODILE humiliation healthcare HelpSaveKelechi hotte...</td>\n",
              "    </tr>\n",
              "  </tbody>\n",
              "</table>\n",
              "</div>"
            ],
            "text/plain": [
              "      Unnamed: 0  ...                                                                                          tweet_punct\n",
              "33            41  ...  Azgurl hugs back  I brought in a crap load of dirt to help keep the water from flooding behind m...\n",
              "49            61  ...  Hey Putin  Didnt you try this humanitarian thing in Georgia  How did it work out for those folks...\n",
              "75            96  ...  Such a shame about hurricane odile doing such massive damage to cabo We have a trip booked there...\n",
              "77            99  ...  I just want to online shop but my dad is using my laptop to look at pictures of the  hurricane d...\n",
              "92           117  ...  WestJet your Odile travel advisory pg online needs an update Vagueampgeneric msg doesnt helpMayb...\n",
              "96           121  ...   SSinArkansas May I use your damage pix for an Odile story at httptcojdDDfzZ Will post wname credit\n",
              "106          133  ...  Spotted on the Rodarte Catwalk hand painted hairpieces We are loving Odile Gilbert direct techni...\n",
              "108          137  ...                                     My Cabo dreams are officially killed by Odile Cancun here I come\n",
              "143          179  ...  Could mystery enterovirus be in AZNFL brings in Dom Violence help Odile could b n ordeal for AZ ...\n",
              "161          200  ...  Habs HollyoaksAutumnTrailer HurricaneODILE HipHopRealSkillsVol check it outὐAὐA httpstcotMtKOYpH...\n",
              "207          261  ...  RT JohnETWilliams Does anyone have information on emergency services and potable water in La Paz...\n",
              "228          291  ...                              Cabo is getting blasted with a hurricane I cant watch It hurts too much\n",
              "273          352  ...  RT ErinSaidItWould Wettest hrs in Tucson Wed pThu am Thursday morning commute will be a soggy on...\n",
              "308          398  ...  RT ColleenFerreira The wind from Hurricane Odile was so strong last night Westin in Cabo created...\n",
              "322          417  ...  RT UKinMexico Travel advice British Emb Mexico Hurricane Odile Brits needing assistance can call...\n",
              "394          504  ...  RT itsalleternal Follow for local Odile info KimQuintero ArizonaWeather ChrisDunnCBS ErinSaidItW...\n",
              "434          549  ...  RT lianalog latimes Wounded sister told by RiuHoteles SantaFe to leave cuz they cant help anymor...\n",
              "491          619  ...  RT THETXEMBASSY httptcoFMFIEej ⚠No AidὋ til YOU⚠ BringBackOurMarine ὟD HouseForeign GOPLeader Ou...\n",
              "526          660  ...  ἰA✌️ἰA Happiness comes in salty water Prehurricaneodile letsbesandy peaceout surfmermaid cabosan...\n",
              "537          675  ...  A Path of Hurricane Odiles Destruction Seen Through Instagram Hurricane Odile came ashore over C...\n",
              "540          680  ...                                   thehybridprince Hurricane Odile down near Mexico I couldnt help it\n",
              "545          686  ...                          Also headlamps are the great invention ever odile stormsupplies baja loreto\n",
              "560          701  ...  AmericanAir I just had to rebook a flight to Cabo and the fare is less than what I originally pa...\n",
              "581          724  ...  HurricaneOdile Thenextwarinyourhomes you westerns have been killing us Just because we are Musli...\n",
              "592          736  ...  RT THETXEMBASSY httptcoFMFIEej ⚠NO AidὋ til YOU⚠ BringBackOurMarine ὟD MontelWilliams Watchmanth...\n",
              "598          745  ...  RT BlakeBooks RT  New blog detailing my ordeal over the last  days That Which Does Not Kill http...\n",
              "639          798  ...  RT CaptBobLB Anyone in Twitter Land who has contacts at any international relief agencies pls as...\n",
              "662          824  ...  RT NWSElPaso Hey Borderland prep for RAIN this week  Hurricane Odile will help us get real wet P...\n",
              "667          831  ...                                                           Odile is such a middle child name it hurts\n",
              "671          835  ...  IceBucketChallenge All that waste of water Now we need it in Los Cabos amp La Paz Mexico Hurrica...\n",
              "681          845  ...                                     jkcbs no problem I just saw this It maybe helpful httptcoQEskKpw\n",
              "725          895  ...  CabosNews visitaloscabos Hit by hurricaneodile wants us feel bad amp help rebuild Do u feel bad ...\n",
              "738          909  ...  GerdOzone NBCNewsPictures I actually went to the store for supplies and did the unthinkable  PAI...\n",
              "783          961  ...  RT tomnod  new DigitalGlobe image strips are up Help map damage in BajaCalifornia from Hurricane...\n",
              "903         1101  ...  Enough said loscabos cabo cabosanlucas migente mexico hurricane hurricanecabo hurricaneodile baj...\n",
              "927         1132  ...  RT lianalog Appalled RiuHoteles told wounded sister amp friends to leave cuz they cant help anym...\n",
              "956         1165  ...  RT tracieeeeee WHO CARES BOUT HIM Holidaymakers at luxury celebrity resort loved by George Cloon...\n",
              "959         1168  ...  Walking Dead Scene In Baja After Odile Tourists Airlifted Out As Storm  httptcoAcsjoQLju thewalk...\n",
              "976         1187  ...  HurricaneOdile Thenextwarinyourhomes America killed our children and our women will not leave yo...\n",
              "984         1198  ...  Am I the only one who hasnt said it Hey National Weather Service Whats the Big Odile   stupidsto...\n",
              "988         1202  ...                        RT zaria It kills me to see paradise like this ὢ cabo Odile httptcoURdUAAdUyZ\n",
              "1002        1220  ...  A Path of Hurricane Odiles Destruction Seen Through Instagram Hurricane Odile came ashore over C...\n",
              "1016        1236  ...  Foreign httptcoiEjEjsYy by Lody Cash HurricaneODILE humiliation healthcare HelpSaveKelechi hotte...\n",
              "\n",
              "[43 rows x 5 columns]"
            ]
          },
          "metadata": {},
          "execution_count": 71
        }
      ]
    },
    {
      "cell_type": "code",
      "metadata": {
        "id": "YOiBCpfN9bDv"
      },
      "source": [
        "aug = EmbeddingAugmenter()  # If using adversarial data on class 0"
      ],
      "execution_count": null,
      "outputs": []
    },
    {
      "cell_type": "code",
      "metadata": {
        "id": "TNZOODv5VSOy"
      },
      "source": [
        "for i in df_augmented.index:    # If using adversarial data on class 0\n",
        "  text= df_augmented.at[i, 'tweet_punct']\n",
        "  adv_example= aug.augment(text)\n",
        "  df_augmented.at[i, 'tweet_punct'] = adv_example"
      ],
      "execution_count": null,
      "outputs": []
    },
    {
      "cell_type": "code",
      "metadata": {
        "colab": {
          "base_uri": "https://localhost:8080/",
          "height": 1000
        },
        "id": "hu0h3zsh9dAV",
        "outputId": "840bf09e-684b-452b-cb17-43f0ae98ce76"
      },
      "source": [
        "df_augmented  # If using adversarial data on class 0"
      ],
      "execution_count": null,
      "outputs": [
        {
          "output_type": "execute_result",
          "data": {
            "text/html": [
              "<div>\n",
              "<style scoped>\n",
              "    .dataframe tbody tr th:only-of-type {\n",
              "        vertical-align: middle;\n",
              "    }\n",
              "\n",
              "    .dataframe tbody tr th {\n",
              "        vertical-align: top;\n",
              "    }\n",
              "\n",
              "    .dataframe thead th {\n",
              "        text-align: right;\n",
              "    }\n",
              "</style>\n",
              "<table border=\"1\" class=\"dataframe\">\n",
              "  <thead>\n",
              "    <tr style=\"text-align: right;\">\n",
              "      <th></th>\n",
              "      <th>Unnamed: 0</th>\n",
              "      <th>tweet_id</th>\n",
              "      <th>tweet_text</th>\n",
              "      <th>label</th>\n",
              "      <th>tweet_punct</th>\n",
              "    </tr>\n",
              "  </thead>\n",
              "  <tbody>\n",
              "    <tr>\n",
              "      <th>33</th>\n",
              "      <td>41</td>\n",
              "      <td>'512106646198550528'</td>\n",
              "      <td>@Azgurl27 hugs back. :) I brought in a crap load of dirt to help keep the water from flooding be...</td>\n",
              "      <td>0</td>\n",
              "      <td>[Azgurl hugs back  I brought in a crap burdened of dirt to help maintaining the water from flood...</td>\n",
              "    </tr>\n",
              "    <tr>\n",
              "      <th>49</th>\n",
              "      <td>61</td>\n",
              "      <td>'511693744752848897'</td>\n",
              "      <td>Hey Putin!  Didn't you try this humanitarian thing in Georgia?  How did it work out for those fo...</td>\n",
              "      <td>0</td>\n",
              "      <td>[Hey Putin  Didnt you try this humanistic thing in Georgia  How did it work out for those folks ...</td>\n",
              "    </tr>\n",
              "    <tr>\n",
              "      <th>75</th>\n",
              "      <td>96</td>\n",
              "      <td>'511897399435210752'</td>\n",
              "      <td>Such a shame about hurricane odile doing such massive damage to cabo. We have a trip booked ther...</td>\n",
              "      <td>0</td>\n",
              "      <td>[Such a ashamed about cyclone odile doing such massive damage to cabo We have a trip booked ther...</td>\n",
              "    </tr>\n",
              "    <tr>\n",
              "      <th>77</th>\n",
              "      <td>99</td>\n",
              "      <td>'511756016783208448'</td>\n",
              "      <td>I just want to online shop but my dad is using my laptop to look at pictures of the  hurricane d...</td>\n",
              "      <td>0</td>\n",
              "      <td>[I just want to online shop but my poppa is using my laptop to look at imagery of the  hurricane...</td>\n",
              "    </tr>\n",
              "    <tr>\n",
              "      <th>92</th>\n",
              "      <td>117</td>\n",
              "      <td>'512272642913894400'</td>\n",
              "      <td>@WestJet your #Odile travel advisory pg online needs an update. Vague&amp;amp;generic msg doesn't he...</td>\n",
              "      <td>0</td>\n",
              "      <td>[WestJet your Odile travel councillors pg online needs an upgraded Vagueampgeneric msg doesnt he...</td>\n",
              "    </tr>\n",
              "    <tr>\n",
              "      <th>96</th>\n",
              "      <td>121</td>\n",
              "      <td>'511536826763317251'</td>\n",
              "      <td>@SSinArkansas May I use your damage pix for an Odile story at http://t.co/jdD929DfzZ? Will post ...</td>\n",
              "      <td>0</td>\n",
              "      <td>[SSinArkansas May I utilised your damage pix for an Odile story at httptcojdDDfzZ Will post wnam...</td>\n",
              "    </tr>\n",
              "    <tr>\n",
              "      <th>106</th>\n",
              "      <td>133</td>\n",
              "      <td>'511796695689347072'</td>\n",
              "      <td>Spotted on the Rodarte Catwalk, hand painted hairpieces. We are loving Odile Gilbert direct tech...</td>\n",
              "      <td>0</td>\n",
              "      <td>[Spotted on the Rodarte Catwalk hand lacquer hairpieces We are loving Odile Gilbert direct techn...</td>\n",
              "    </tr>\n",
              "    <tr>\n",
              "      <th>108</th>\n",
              "      <td>137</td>\n",
              "      <td>'512079030468636673'</td>\n",
              "      <td>My Cabo dreams are officially killed by Odile. Cancun, here I come!!!</td>\n",
              "      <td>0</td>\n",
              "      <td>[My Cabo dreams are officially slain by Odile Cancun here I come]</td>\n",
              "    </tr>\n",
              "    <tr>\n",
              "      <th>143</th>\n",
              "      <td>179</td>\n",
              "      <td>'511890232514326529'</td>\n",
              "      <td>Could mystery enterovirus be in AZ?-NFL brings in Dom Violence help; Odile could b n ordeal for ...</td>\n",
              "      <td>0</td>\n",
              "      <td>[Could mystery enterovirus be in AZNFL brings in Dom Violence assisting Odile could b n ordeal f...</td>\n",
              "    </tr>\n",
              "    <tr>\n",
              "      <th>161</th>\n",
              "      <td>200</td>\n",
              "      <td>'511598712280588288'</td>\n",
              "      <td>#Habs #HollyoaksAutumnTrailer #HurricaneODILE #HipHopRealSkillsVol2 check it outὐAὐA https://t.c...</td>\n",
              "      <td>0</td>\n",
              "      <td>[Habs HollyoaksAutumnTrailer HurricaneODILE HipHopRealSkillsVol check it outὐAὐA httpstcotMtKOYp...</td>\n",
              "    </tr>\n",
              "    <tr>\n",
              "      <th>207</th>\n",
              "      <td>261</td>\n",
              "      <td>'511730608439959553'</td>\n",
              "      <td>RT @JohnETWilliams: Does anyone have information on emergency services and potable water in La P...</td>\n",
              "      <td>0</td>\n",
              "      <td>[RT JohnETWilliams Does anybody have information on emergency services and potable water in La P...</td>\n",
              "    </tr>\n",
              "    <tr>\n",
              "      <th>228</th>\n",
              "      <td>291</td>\n",
              "      <td>'511638726209208320'</td>\n",
              "      <td>Cabo is getting blasted with a hurricane I can't watch. It hurts too much.</td>\n",
              "      <td>0</td>\n",
              "      <td>[Cabo is obtain blasted with a hurricane I cant watch It hurts too much]</td>\n",
              "    </tr>\n",
              "    <tr>\n",
              "      <th>273</th>\n",
              "      <td>352</td>\n",
              "      <td>'512051426676465664'</td>\n",
              "      <td>RT @ErinSaidItWould: Wettest 12hrs in Tucson: Wed 6p-Thu 6am. Thursday morning commute will be a...</td>\n",
              "      <td>0</td>\n",
              "      <td>[RT ErinSaidItWould Dampness hrs in Tucson Wed pThu am Mondays morning commute will be a soggy o...</td>\n",
              "    </tr>\n",
              "    <tr>\n",
              "      <th>308</th>\n",
              "      <td>398</td>\n",
              "      <td>'511549881903636481'</td>\n",
              "      <td>RT @ColleenFerreira: The wind from Hurricane Odile was so strong last night, @Westin in Cabo cre...</td>\n",
              "      <td>0</td>\n",
              "      <td>[RT ColleenFerreira The wind from Tornadoes Odile was so strong last night Westin in Cabo create...</td>\n",
              "    </tr>\n",
              "    <tr>\n",
              "      <th>322</th>\n",
              "      <td>417</td>\n",
              "      <td>'512113816684208128'</td>\n",
              "      <td>RT @UKinMexico: Travel advice: British Emb Mexico Hurricane #Odile Brits needing assistance can ...</td>\n",
              "      <td>0</td>\n",
              "      <td>[RT UKinMexico Travel consulting British Emb Mexico Hurricane Odile Brits needing assistance can...</td>\n",
              "    </tr>\n",
              "    <tr>\n",
              "      <th>394</th>\n",
              "      <td>504</td>\n",
              "      <td>'511749170730766336'</td>\n",
              "      <td>RT @itsalleternal: #Follow for local #Odile info: @KimQuintero @ArizonaWeather @ChrisDunnCBS5 @E...</td>\n",
              "      <td>0</td>\n",
              "      <td>[RT itsalleternal Follow for local Odile information KimQuintero ArizonaWeather ChrisDunnCBS Eri...</td>\n",
              "    </tr>\n",
              "    <tr>\n",
              "      <th>434</th>\n",
              "      <td>549</td>\n",
              "      <td>'512069475881844737'</td>\n",
              "      <td>RT @lianalog: @latimes Wounded sister told by @RiuHoteles SantaFe to leave cuz they \"can't help ...</td>\n",
              "      <td>0</td>\n",
              "      <td>[RT lianalog latimes Wounded sister told by RiuHoteles SantaFe to leave cuz they cant aid anymor...</td>\n",
              "    </tr>\n",
              "    <tr>\n",
              "      <th>491</th>\n",
              "      <td>619</td>\n",
              "      <td>'514479996153638913'</td>\n",
              "      <td>RT @THETXEMBASSY: http://t.co/9F9MF0IEej ⚠No AidὋ2 til YOU⚠ #BringBackOurMarine ὟD @HouseForeign...</td>\n",
              "      <td>0</td>\n",
              "      <td>[RT THETXEMBASSY httptcoFMFIEej ⚠No AidὋ til THEE⚠ BringBackOurMarine ὟD HouseForeign GOPLeader ...</td>\n",
              "    </tr>\n",
              "    <tr>\n",
              "      <th>526</th>\n",
              "      <td>660</td>\n",
              "      <td>'514610227594145792'</td>\n",
              "      <td>ἰA✌️ἰA Happiness comes in salty water. Pre-#hurricaneodile #letsbesandy #peaceout #surfmermaid #...</td>\n",
              "      <td>0</td>\n",
              "      <td>[ἰA✌️ἰA Happiness arises in salty water Prehurricaneodile letsbesandy peaceout surfmermaid cabos...</td>\n",
              "    </tr>\n",
              "    <tr>\n",
              "      <th>537</th>\n",
              "      <td>675</td>\n",
              "      <td>'511590697325977600'</td>\n",
              "      <td>A Path of Hurricane Odile's Destruction, Seen Through Instagram: Hurricane Odile came ashore ove...</td>\n",
              "      <td>0</td>\n",
              "      <td>[A Path of Hurricane Odiles Demolishing Seen Through Instagram Hurricane Odile came ashore over ...</td>\n",
              "    </tr>\n",
              "    <tr>\n",
              "      <th>540</th>\n",
              "      <td>680</td>\n",
              "      <td>'511674835261747200'</td>\n",
              "      <td>@thehybridprince Hurricane Odile down near Mexico. I couldn't help it.</td>\n",
              "      <td>0</td>\n",
              "      <td>[thehybridprince Hurricane Odile down near Mexico I becuase help it]</td>\n",
              "    </tr>\n",
              "    <tr>\n",
              "      <th>545</th>\n",
              "      <td>686</td>\n",
              "      <td>'512324720151498752'</td>\n",
              "      <td>Also, headlamps are the great invention ever. #odile #stormsupplies #baja #loreto</td>\n",
              "      <td>0</td>\n",
              "      <td>[Also headlamps are the huge invention ever odile stormsupplies baja loreto]</td>\n",
              "    </tr>\n",
              "    <tr>\n",
              "      <th>560</th>\n",
              "      <td>701</td>\n",
              "      <td>'511594605536489472'</td>\n",
              "      <td>@AmericanAir I just had to rebook a flight to Cabo and the fare is less than what I originally p...</td>\n",
              "      <td>0</td>\n",
              "      <td>[AmericanAir I just had to rebook a aeroplane to Cabo and the fare is less than what I originall...</td>\n",
              "    </tr>\n",
              "    <tr>\n",
              "      <th>581</th>\n",
              "      <td>724</td>\n",
              "      <td>'514401095829823489'</td>\n",
              "      <td>#HurricaneOdile #The_next_war_in_your_homes you westerns have been killing us Just because we ar...</td>\n",
              "      <td>0</td>\n",
              "      <td>[HurricaneOdile Thenextwarinyourhomes you westerns have been assassinate us Just because we are ...</td>\n",
              "    </tr>\n",
              "    <tr>\n",
              "      <th>592</th>\n",
              "      <td>736</td>\n",
              "      <td>'514599889599098880'</td>\n",
              "      <td>RT @THETXEMBASSY: http://t.co/9F9MF0IEej ⚠NO AidὋ2 til YOU⚠ #BringBackOurMarine ὟD @Montel_Willi...</td>\n",
              "      <td>0</td>\n",
              "      <td>[RT THETXEMBASSY httptcoFMFIEej ⚠NOPE AidὋ til YOU⚠ BringBackOurMarine ὟD MontelWilliams Watchma...</td>\n",
              "    </tr>\n",
              "    <tr>\n",
              "      <th>598</th>\n",
              "      <td>745</td>\n",
              "      <td>'516672713763876864'</td>\n",
              "      <td>RT @BlakeBooks: RT  New blog detailing my ordeal over the last 13 days. \"That Which Does Not Kil...</td>\n",
              "      <td>0</td>\n",
              "      <td>[RT BlakeBooks RT  New blog detailing my ordeal over the last  days That Which Does Nah Whack ht...</td>\n",
              "    </tr>\n",
              "    <tr>\n",
              "      <th>639</th>\n",
              "      <td>798</td>\n",
              "      <td>'511908322027786240'</td>\n",
              "      <td>RT @CaptBobLB: Anyone in Twitter Land who has contacts at any international relief agencies pls ...</td>\n",
              "      <td>0</td>\n",
              "      <td>[RT CaptBobLB Anyone in Twitter Land who has contacts at any internationale relief agencies pls ...</td>\n",
              "    </tr>\n",
              "    <tr>\n",
              "      <th>662</th>\n",
              "      <td>824</td>\n",
              "      <td>'511703619817598976'</td>\n",
              "      <td>RT @NWSElPaso: Hey Borderland, prep for #RAIN this week!  Hurricane Odile will help us get real ...</td>\n",
              "      <td>0</td>\n",
              "      <td>[RT NWSElPaso Hey Borderland prep for RAIN this week  Hurricane Odile will helped us obtain real...</td>\n",
              "    </tr>\n",
              "    <tr>\n",
              "      <th>667</th>\n",
              "      <td>831</td>\n",
              "      <td>'512307869354831872'</td>\n",
              "      <td>Odile is such a middle child name it hurts</td>\n",
              "      <td>0</td>\n",
              "      <td>[Odile is such a middle child designation it hurts]</td>\n",
              "    </tr>\n",
              "    <tr>\n",
              "      <th>671</th>\n",
              "      <td>835</td>\n",
              "      <td>'512082998158958592'</td>\n",
              "      <td>#IceBucketChallenge All that waste of water! Now we need it in Los Cabos &amp;amp; La Paz #Mexico #H...</td>\n",
              "      <td>0</td>\n",
              "      <td>[IceBucketChallenge All that waste of water Currently we gotta it in Los Cabos amp La Paz Mexico...</td>\n",
              "    </tr>\n",
              "    <tr>\n",
              "      <th>681</th>\n",
              "      <td>845</td>\n",
              "      <td>'512300902066421761'</td>\n",
              "      <td>@jkc_bs no problem. I just saw this. It maybe helpful. http://t.co/Q9Es8k0Kpw</td>\n",
              "      <td>0</td>\n",
              "      <td>[jkcbs no problem I just saw this It likely helpful httptcoQEskKpw]</td>\n",
              "    </tr>\n",
              "    <tr>\n",
              "      <th>725</th>\n",
              "      <td>895</td>\n",
              "      <td>'514208666862776320'</td>\n",
              "      <td>@CabosNews @visitaloscabos Hit by #hurricaneodile wants us 2feel bad &amp;amp; help rebuild. Do u fe...</td>\n",
              "      <td>0</td>\n",
              "      <td>[CabosNews visitaloscabos Hit by hurricaneodile wants us feel bad amp aiding rebuild Do u feel b...</td>\n",
              "    </tr>\n",
              "    <tr>\n",
              "      <th>738</th>\n",
              "      <td>909</td>\n",
              "      <td>'511933636925743104'</td>\n",
              "      <td>@GerdOzone @NBCNewsPictures I actually went to the store for supplies and did the unthinkable:  ...</td>\n",
              "      <td>0</td>\n",
              "      <td>[GerdOzone NBCNewsPictures I indeed went to the store for supplies and did the unthinkable  PAID...</td>\n",
              "    </tr>\n",
              "    <tr>\n",
              "      <th>783</th>\n",
              "      <td>961</td>\n",
              "      <td>'514222681118736384'</td>\n",
              "      <td>RT @tomnod: 3 new @DigitalGlobe image strips are up! Help map damage in #BajaCalifornia from #Hu...</td>\n",
              "      <td>0</td>\n",
              "      <td>[RT tomnod  new DigitalGlobe photos strips are up Help map damage in BajaCalifornia from Hurrica...</td>\n",
              "    </tr>\n",
              "    <tr>\n",
              "      <th>903</th>\n",
              "      <td>1101</td>\n",
              "      <td>'512087889715658752'</td>\n",
              "      <td>Enough said. #loscabos #cabo #cabosanlucas #migente #mexico #hurricane #hurricanecabo #hurricane...</td>\n",
              "      <td>0</td>\n",
              "      <td>[Enough said loscabos cabo cabosanlucas migente mexico twister hurricanecabo hurricaneodile baja...</td>\n",
              "    </tr>\n",
              "    <tr>\n",
              "      <th>927</th>\n",
              "      <td>1132</td>\n",
              "      <td>'514664219505991680'</td>\n",
              "      <td>RT @lianalog: Appalled: @RiuHoteles told wounded sister &amp;amp; friends to leave cuz they \"can't h...</td>\n",
              "      <td>0</td>\n",
              "      <td>[RT lianalog Appalled RiuHoteles told wounded sister amp friends to leave cuz they cant help mos...</td>\n",
              "    </tr>\n",
              "    <tr>\n",
              "      <th>956</th>\n",
              "      <td>1165</td>\n",
              "      <td>'511675027700215808'</td>\n",
              "      <td>RT @tracieeeeee: WHO CARES BOUT HIM Holidaymakers at luxury celebrity resort loved by George Clo...</td>\n",
              "      <td>0</td>\n",
              "      <td>[RT tracieeeeee WHO CARES BOUT HIM Holidaymakers at luxury celebrity resort worshipped by George...</td>\n",
              "    </tr>\n",
              "    <tr>\n",
              "      <th>959</th>\n",
              "      <td>1168</td>\n",
              "      <td>'512238854359633921'</td>\n",
              "      <td>'Walking Dead' Scene In Baja After Odile; Tourists Airlifted Out As Storm ... http://t.co/AcsjoQ...</td>\n",
              "      <td>0</td>\n",
              "      <td>[Walking Dead Scene In Baja Afterward Odile Tourists Airlifted Out As Storm  httptcoAcsjoQLju th...</td>\n",
              "    </tr>\n",
              "    <tr>\n",
              "      <th>976</th>\n",
              "      <td>1187</td>\n",
              "      <td>'514399656688635906'</td>\n",
              "      <td>#HurricaneOdile #The_next_war_in_your_homes America killed our children and our women will not l...</td>\n",
              "      <td>0</td>\n",
              "      <td>[HurricaneOdile Thenextwarinyourhomes America killed our children and our wife will not leave yo...</td>\n",
              "    </tr>\n",
              "    <tr>\n",
              "      <th>984</th>\n",
              "      <td>1198</td>\n",
              "      <td>'511600862826098688'</td>\n",
              "      <td>Am I the only one who hasn't said it? Hey National Weather Service, What's the Big Odile?!   #st...</td>\n",
              "      <td>0</td>\n",
              "      <td>[Am I the only one who hasnt said it Yo National Weather Service Whats the Prodigious Odile   st...</td>\n",
              "    </tr>\n",
              "    <tr>\n",
              "      <th>988</th>\n",
              "      <td>1202</td>\n",
              "      <td>'511544982667538434'</td>\n",
              "      <td>RT @zaria_30: It kills me to see paradise like this ὢ2 #cabo #Odile http://t.co/URdUAAdUyZ</td>\n",
              "      <td>0</td>\n",
              "      <td>[RT zaria It killed me to see paradise like this ὢ cabo Odile httptcoURdUAAdUyZ]</td>\n",
              "    </tr>\n",
              "    <tr>\n",
              "      <th>1002</th>\n",
              "      <td>1220</td>\n",
              "      <td>'511598579924729856'</td>\n",
              "      <td>A Path of Hurricane Odile's Destruction, Seen Through Instagram: Hurricane Odile came ashore ove...</td>\n",
              "      <td>0</td>\n",
              "      <td>[A Path of Hurricane Odiles Razing Seen Through Instagram Hurricane Odile came ashore over Cabo ...</td>\n",
              "    </tr>\n",
              "    <tr>\n",
              "      <th>1016</th>\n",
              "      <td>1236</td>\n",
              "      <td>'512015479763120128'</td>\n",
              "      <td>Foreign http://t.co/iE7jEjs7Yy by Lody Cash #HurricaneODILE #humiliation #healthcare #HelpSaveKe...</td>\n",
              "      <td>0</td>\n",
              "      <td>[Foreign httptcoiEjEjsYy by Lody Cash HurricaneODILE humiliations healthcare HelpSaveKelechi hot...</td>\n",
              "    </tr>\n",
              "  </tbody>\n",
              "</table>\n",
              "</div>"
            ],
            "text/plain": [
              "      Unnamed: 0  ...                                                                                          tweet_punct\n",
              "33            41  ...  [Azgurl hugs back  I brought in a crap burdened of dirt to help maintaining the water from flood...\n",
              "49            61  ...  [Hey Putin  Didnt you try this humanistic thing in Georgia  How did it work out for those folks ...\n",
              "75            96  ...  [Such a ashamed about cyclone odile doing such massive damage to cabo We have a trip booked ther...\n",
              "77            99  ...  [I just want to online shop but my poppa is using my laptop to look at imagery of the  hurricane...\n",
              "92           117  ...  [WestJet your Odile travel councillors pg online needs an upgraded Vagueampgeneric msg doesnt he...\n",
              "96           121  ...  [SSinArkansas May I utilised your damage pix for an Odile story at httptcojdDDfzZ Will post wnam...\n",
              "106          133  ...  [Spotted on the Rodarte Catwalk hand lacquer hairpieces We are loving Odile Gilbert direct techn...\n",
              "108          137  ...                                    [My Cabo dreams are officially slain by Odile Cancun here I come]\n",
              "143          179  ...  [Could mystery enterovirus be in AZNFL brings in Dom Violence assisting Odile could b n ordeal f...\n",
              "161          200  ...  [Habs HollyoaksAutumnTrailer HurricaneODILE HipHopRealSkillsVol check it outὐAὐA httpstcotMtKOYp...\n",
              "207          261  ...  [RT JohnETWilliams Does anybody have information on emergency services and potable water in La P...\n",
              "228          291  ...                             [Cabo is obtain blasted with a hurricane I cant watch It hurts too much]\n",
              "273          352  ...  [RT ErinSaidItWould Dampness hrs in Tucson Wed pThu am Mondays morning commute will be a soggy o...\n",
              "308          398  ...  [RT ColleenFerreira The wind from Tornadoes Odile was so strong last night Westin in Cabo create...\n",
              "322          417  ...  [RT UKinMexico Travel consulting British Emb Mexico Hurricane Odile Brits needing assistance can...\n",
              "394          504  ...  [RT itsalleternal Follow for local Odile information KimQuintero ArizonaWeather ChrisDunnCBS Eri...\n",
              "434          549  ...  [RT lianalog latimes Wounded sister told by RiuHoteles SantaFe to leave cuz they cant aid anymor...\n",
              "491          619  ...  [RT THETXEMBASSY httptcoFMFIEej ⚠No AidὋ til THEE⚠ BringBackOurMarine ὟD HouseForeign GOPLeader ...\n",
              "526          660  ...  [ἰA✌️ἰA Happiness arises in salty water Prehurricaneodile letsbesandy peaceout surfmermaid cabos...\n",
              "537          675  ...  [A Path of Hurricane Odiles Demolishing Seen Through Instagram Hurricane Odile came ashore over ...\n",
              "540          680  ...                                 [thehybridprince Hurricane Odile down near Mexico I becuase help it]\n",
              "545          686  ...                         [Also headlamps are the huge invention ever odile stormsupplies baja loreto]\n",
              "560          701  ...  [AmericanAir I just had to rebook a aeroplane to Cabo and the fare is less than what I originall...\n",
              "581          724  ...  [HurricaneOdile Thenextwarinyourhomes you westerns have been assassinate us Just because we are ...\n",
              "592          736  ...  [RT THETXEMBASSY httptcoFMFIEej ⚠NOPE AidὋ til YOU⚠ BringBackOurMarine ὟD MontelWilliams Watchma...\n",
              "598          745  ...  [RT BlakeBooks RT  New blog detailing my ordeal over the last  days That Which Does Nah Whack ht...\n",
              "639          798  ...  [RT CaptBobLB Anyone in Twitter Land who has contacts at any internationale relief agencies pls ...\n",
              "662          824  ...  [RT NWSElPaso Hey Borderland prep for RAIN this week  Hurricane Odile will helped us obtain real...\n",
              "667          831  ...                                                  [Odile is such a middle child designation it hurts]\n",
              "671          835  ...  [IceBucketChallenge All that waste of water Currently we gotta it in Los Cabos amp La Paz Mexico...\n",
              "681          845  ...                                  [jkcbs no problem I just saw this It likely helpful httptcoQEskKpw]\n",
              "725          895  ...  [CabosNews visitaloscabos Hit by hurricaneodile wants us feel bad amp aiding rebuild Do u feel b...\n",
              "738          909  ...  [GerdOzone NBCNewsPictures I indeed went to the store for supplies and did the unthinkable  PAID...\n",
              "783          961  ...  [RT tomnod  new DigitalGlobe photos strips are up Help map damage in BajaCalifornia from Hurrica...\n",
              "903         1101  ...  [Enough said loscabos cabo cabosanlucas migente mexico twister hurricanecabo hurricaneodile baja...\n",
              "927         1132  ...  [RT lianalog Appalled RiuHoteles told wounded sister amp friends to leave cuz they cant help mos...\n",
              "956         1165  ...  [RT tracieeeeee WHO CARES BOUT HIM Holidaymakers at luxury celebrity resort worshipped by George...\n",
              "959         1168  ...  [Walking Dead Scene In Baja Afterward Odile Tourists Airlifted Out As Storm  httptcoAcsjoQLju th...\n",
              "976         1187  ...  [HurricaneOdile Thenextwarinyourhomes America killed our children and our wife will not leave yo...\n",
              "984         1198  ...  [Am I the only one who hasnt said it Yo National Weather Service Whats the Prodigious Odile   st...\n",
              "988         1202  ...                     [RT zaria It killed me to see paradise like this ὢ cabo Odile httptcoURdUAAdUyZ]\n",
              "1002        1220  ...  [A Path of Hurricane Odiles Razing Seen Through Instagram Hurricane Odile came ashore over Cabo ...\n",
              "1016        1236  ...  [Foreign httptcoiEjEjsYy by Lody Cash HurricaneODILE humiliations healthcare HelpSaveKelechi hot...\n",
              "\n",
              "[43 rows x 5 columns]"
            ]
          },
          "metadata": {},
          "execution_count": 74
        }
      ]
    },
    {
      "cell_type": "code",
      "metadata": {
        "id": "yWD0T-KQ9mEL"
      },
      "source": [
        "df_augmented.to_csv('Irrel_Adv_6_Classes.csv', index=False)   # If using adversarial data on class 0"
      ],
      "execution_count": null,
      "outputs": []
    },
    {
      "cell_type": "markdown",
      "metadata": {
        "id": "VDFxPzhn-t6j"
      },
      "source": [
        "#Creating New Balanced Dataset"
      ]
    },
    {
      "cell_type": "code",
      "metadata": {
        "colab": {
          "base_uri": "https://localhost:8080/"
        },
        "id": "YwqGLzpu6utp",
        "outputId": "aa6ac23e-79f4-466b-8318-bbd42ccbb842"
      },
      "source": [
        "ls"
      ],
      "execution_count": null,
      "outputs": [
        {
          "output_type": "stream",
          "name": "stdout",
          "text": [
            "2014_Hurricane_Odile_Mexico_en_CF_labeled_data.tsv  test_labels.csv\n",
            "final_balanced_data.csv                             test_labels.txt\n",
            "final_data_6_classes.csv                            test_text.txt\n",
            "final_data.csv                                      train_labels.csv\n",
            "Irrel_Adv_6_Classes.csv                             train_labels.txt\n",
            "Irrel_Adv.csv                                       train_text.txt\n",
            "labeling-instructions.txt                           val_labels.csv\n",
            "\u001b[0m\u001b[01;34mlogs\u001b[0m/                                               val_labels.txt\n",
            "\u001b[01;34mresults\u001b[0m/                                            val_text.txt\n"
          ]
        }
      ]
    },
    {
      "cell_type": "code",
      "metadata": {
        "id": "M-Zz_-2y-tQb"
      },
      "source": [
        "df = pd.read_csv('final_data_6_classes.csv')"
      ],
      "execution_count": 32,
      "outputs": []
    },
    {
      "cell_type": "code",
      "metadata": {
        "colab": {
          "base_uri": "https://localhost:8080/"
        },
        "id": "1X0VqlkLOTlT",
        "outputId": "68ddd630-8f5f-4ca3-dcf8-7e56f405f6ba"
      },
      "source": [
        "len(df[df.label==0]), len(df[df.label==1]), len(df[df.label==2]), len(df[df.label==3]), len(df[df.label==4]), len(df[df.label==5])"
      ],
      "execution_count": 35,
      "outputs": [
        {
          "output_type": "execute_result",
          "data": {
            "text/plain": [
              "(498, 71, 66, 474, 45, 206)"
            ]
          },
          "metadata": {},
          "execution_count": 35
        }
      ]
    },
    {
      "cell_type": "code",
      "metadata": {
        "colab": {
          "base_uri": "https://localhost:8080/"
        },
        "id": "m5J9gtqQ_e2E",
        "outputId": "eac9a19d-4c2f-49cc-a7ce-9a8b190505ad"
      },
      "source": [
        "len(df)"
      ],
      "execution_count": 33,
      "outputs": [
        {
          "output_type": "execute_result",
          "data": {
            "text/plain": [
              "1360"
            ]
          },
          "metadata": {},
          "execution_count": 33
        }
      ]
    },
    {
      "cell_type": "code",
      "metadata": {
        "id": "dDtagqv-_AtN"
      },
      "source": [
        "df_augmented = pd.read_csv('Irrel_Adv_6_Classes.csv') # If using adversarial data on class 0"
      ],
      "execution_count": null,
      "outputs": []
    },
    {
      "cell_type": "code",
      "metadata": {
        "colab": {
          "base_uri": "https://localhost:8080/"
        },
        "id": "hWoswO44_gd1",
        "outputId": "e926e8c4-b9a6-495d-b3d0-28f50148cab9"
      },
      "source": [
        "len(df_augmented) # If using adversarial data on class 0"
      ],
      "execution_count": null,
      "outputs": [
        {
          "output_type": "execute_result",
          "data": {
            "text/plain": [
              "43"
            ]
          },
          "metadata": {},
          "execution_count": 105
        }
      ]
    },
    {
      "cell_type": "code",
      "metadata": {
        "id": "7KdTaDcZ_LiS"
      },
      "source": [
        "df_full = df.append(df_augmented) # If using adversarial data on class 0"
      ],
      "execution_count": null,
      "outputs": []
    },
    {
      "cell_type": "code",
      "metadata": {
        "colab": {
          "base_uri": "https://localhost:8080/"
        },
        "id": "hhuvBY2u_eKz",
        "outputId": "4c46c28f-3400-497b-8499-6238d7935a73"
      },
      "source": [
        "len(df_full)  # If using adversarial data on class 0"
      ],
      "execution_count": null,
      "outputs": [
        {
          "output_type": "execute_result",
          "data": {
            "text/plain": [
              "1080"
            ]
          },
          "metadata": {},
          "execution_count": 107
        }
      ]
    },
    {
      "cell_type": "code",
      "metadata": {
        "id": "ZgFIyJtl_lO8"
      },
      "source": [
        "df_irrel = pd.DataFrame() # If using adversarial data on class 0"
      ],
      "execution_count": null,
      "outputs": []
    },
    {
      "cell_type": "code",
      "metadata": {
        "id": "US2FOvZI_0nv"
      },
      "source": [
        "df_irrel = df_full[df_full['label'] == 0] # If using adversarial data on class 0"
      ],
      "execution_count": null,
      "outputs": []
    },
    {
      "cell_type": "code",
      "metadata": {
        "colab": {
          "base_uri": "https://localhost:8080/"
        },
        "id": "qUBqHEAf_80Q",
        "outputId": "14e5bb94-58be-46a3-8f37-9273409ee4bc"
      },
      "source": [
        "len(df_irrel) # If using adversarial data on class 0"
      ],
      "execution_count": null,
      "outputs": [
        {
          "output_type": "execute_result",
          "data": {
            "text/plain": [
              "86"
            ]
          },
          "metadata": {},
          "execution_count": 112
        }
      ]
    },
    {
      "cell_type": "code",
      "metadata": {
        "id": "7ZROgoulV5jY"
      },
      "source": [
        "df_irrel_oversamp = pd.DataFrame() # If using adversarial data on class 0"
      ],
      "execution_count": null,
      "outputs": []
    },
    {
      "cell_type": "code",
      "metadata": {
        "id": "iz28Fl0oWAnB"
      },
      "source": [
        "for i in range(3):    # If using adversarial data on class 0\n",
        "  df_irrel_oversamp= df_irrel_oversamp.append(df_irrel)"
      ],
      "execution_count": null,
      "outputs": []
    },
    {
      "cell_type": "code",
      "metadata": {
        "id": "6WHy-A9uWE1R"
      },
      "source": [
        "len(df_irrel_oversamp) # If using adversarial data on class 0"
      ],
      "execution_count": null,
      "outputs": []
    },
    {
      "cell_type": "code",
      "metadata": {
        "id": "NBJTqH26Os8s"
      },
      "source": [
        "#for oversampling whichever class is needed\n",
        "df_class1 = pd.DataFrame()\n",
        "df_class2 = pd.DataFrame()\n",
        "df_class4 = pd.DataFrame()"
      ],
      "execution_count": 48,
      "outputs": []
    },
    {
      "cell_type": "code",
      "metadata": {
        "id": "PkRf26ffP8xd"
      },
      "source": [
        "df_class1_oversamp = pd.DataFrame()\n",
        "df_class2_oversamp = pd.DataFrame()\n",
        "df_class4_oversamp = pd.DataFrame()"
      ],
      "execution_count": 49,
      "outputs": []
    },
    {
      "cell_type": "code",
      "metadata": {
        "id": "lrw1CYiePCwE"
      },
      "source": [
        "#for oversampling whichever class is needed\n",
        "df_class1 = df[df['label'] == 1]\n",
        "df_class2 = df[df['label'] == 2]\n",
        "df_class4 = df[df['label'] == 4]"
      ],
      "execution_count": 50,
      "outputs": []
    },
    {
      "cell_type": "code",
      "metadata": {
        "colab": {
          "base_uri": "https://localhost:8080/"
        },
        "id": "UZroqATTPZbM",
        "outputId": "f8688baf-b870-40b4-ff5d-d4f8a6f11484"
      },
      "source": [
        "len(df_class1), len(df_class2), len(df_class4)"
      ],
      "execution_count": 51,
      "outputs": [
        {
          "output_type": "execute_result",
          "data": {
            "text/plain": [
              "(71, 66, 45)"
            ]
          },
          "metadata": {},
          "execution_count": 51
        }
      ]
    },
    {
      "cell_type": "code",
      "metadata": {
        "id": "960Zmo82CT62"
      },
      "source": [
        "for i in range(3):\n",
        "  df_class1_oversamp= df_class1_oversamp.append(df_class1)\n"
      ],
      "execution_count": 54,
      "outputs": []
    },
    {
      "cell_type": "code",
      "metadata": {
        "id": "jnOCKEgWQmQd"
      },
      "source": [
        "for i in range(3):\n",
        "  df_class2_oversamp= df_class2_oversamp.append(df_class2)"
      ],
      "execution_count": 56,
      "outputs": []
    },
    {
      "cell_type": "code",
      "metadata": {
        "id": "ShadSrKiQry9"
      },
      "source": [
        "for i in range(5):\n",
        "  df_class4_oversamp= df_class4_oversamp.append(df_class4)"
      ],
      "execution_count": 57,
      "outputs": []
    },
    {
      "cell_type": "code",
      "metadata": {
        "colab": {
          "base_uri": "https://localhost:8080/"
        },
        "id": "OP2vU7TePtpZ",
        "outputId": "68dfc85f-146e-425b-e0d5-c51c4f0dfb0e"
      },
      "source": [
        "len(df_class1_oversamp), len(df_class2_oversamp), len(df_class4_oversamp)"
      ],
      "execution_count": 58,
      "outputs": [
        {
          "output_type": "execute_result",
          "data": {
            "text/plain": [
              "(213, 198, 225)"
            ]
          },
          "metadata": {},
          "execution_count": 58
        }
      ]
    },
    {
      "cell_type": "code",
      "metadata": {
        "id": "5vuwcp9XRFK-"
      },
      "source": [
        "final_df = df.append(df_class1_oversamp).append(df_class2_oversamp).append(df_class4_oversamp)"
      ],
      "execution_count": 59,
      "outputs": []
    },
    {
      "cell_type": "code",
      "metadata": {
        "id": "jHd0pyADWW2A"
      },
      "source": [
        "final_df = df.append(df_irrel_oversamp) # If using adversarial data on class 0"
      ],
      "execution_count": null,
      "outputs": []
    },
    {
      "cell_type": "code",
      "metadata": {
        "colab": {
          "base_uri": "https://localhost:8080/"
        },
        "id": "3pMqPREdRkeV",
        "outputId": "20e1d66f-3cd8-4414-c254-f77d86a3603c"
      },
      "source": [
        "len(final_df[final_df.label==0]), len(final_df[final_df.label==1]), len(final_df[final_df.label==2]), len(final_df[final_df.label==3]), len(final_df[final_df.label==4]), len(final_df[final_df.label==5])"
      ],
      "execution_count": 62,
      "outputs": [
        {
          "output_type": "execute_result",
          "data": {
            "text/plain": [
              "(498, 284, 264, 474, 270, 206)"
            ]
          },
          "metadata": {},
          "execution_count": 62
        }
      ]
    },
    {
      "cell_type": "code",
      "metadata": {
        "id": "NlVMqWqRR5VG"
      },
      "source": [
        "final_df = final_df.sample(frac = 1)"
      ],
      "execution_count": 63,
      "outputs": []
    },
    {
      "cell_type": "code",
      "metadata": {
        "colab": {
          "base_uri": "https://localhost:8080/"
        },
        "id": "N3uOp8kdR9Q2",
        "outputId": "143c0808-e000-4309-b48c-780934d884af"
      },
      "source": [
        "len(final_df)"
      ],
      "execution_count": 64,
      "outputs": [
        {
          "output_type": "execute_result",
          "data": {
            "text/plain": [
              "1996"
            ]
          },
          "metadata": {},
          "execution_count": 64
        }
      ]
    },
    {
      "cell_type": "code",
      "metadata": {
        "colab": {
          "base_uri": "https://localhost:8080/",
          "height": 424
        },
        "id": "Es56KvX-Dig7",
        "outputId": "90b27c22-cb20-4250-dec2-c7681ef41b12"
      },
      "source": [
        "#df_augmented.to_csv('Irrel_Adv.csv', index=False)\n",
        "df_full"
      ],
      "execution_count": null,
      "outputs": [
        {
          "output_type": "execute_result",
          "data": {
            "text/html": [
              "<div>\n",
              "<style scoped>\n",
              "    .dataframe tbody tr th:only-of-type {\n",
              "        vertical-align: middle;\n",
              "    }\n",
              "\n",
              "    .dataframe tbody tr th {\n",
              "        vertical-align: top;\n",
              "    }\n",
              "\n",
              "    .dataframe thead th {\n",
              "        text-align: right;\n",
              "    }\n",
              "</style>\n",
              "<table border=\"1\" class=\"dataframe\">\n",
              "  <thead>\n",
              "    <tr style=\"text-align: right;\">\n",
              "      <th></th>\n",
              "      <th>Unnamed: 0</th>\n",
              "      <th>tweet_id</th>\n",
              "      <th>tweet_text</th>\n",
              "      <th>label</th>\n",
              "      <th>tweet_punct</th>\n",
              "    </tr>\n",
              "  </thead>\n",
              "  <tbody>\n",
              "    <tr>\n",
              "      <th>385</th>\n",
              "      <td>494</td>\n",
              "      <td>'511645929351675904'</td>\n",
              "      <td>Resorts report damage from Hurricane Odile http://t.co/KhLLRBFm1N #keeptraveling</td>\n",
              "      <td>2</td>\n",
              "      <td>Resorts report damage from Hurricane Odile httptcoKhLLRBFmN keeptraveling</td>\n",
              "    </tr>\n",
              "    <tr>\n",
              "      <th>377</th>\n",
              "      <td>486</td>\n",
              "      <td>'511523458573160448'</td>\n",
              "      <td>RT @Ants_SNEweather: Even though Odile has made landfall and center is overland currently he is ...</td>\n",
              "      <td>5</td>\n",
              "      <td>RT AntsSNEweather Even though Odile has made landfall and center is overland currently he is sti...</td>\n",
              "    </tr>\n",
              "    <tr>\n",
              "      <th>962</th>\n",
              "      <td>1171</td>\n",
              "      <td>'511591352669204480'</td>\n",
              "      <td>( #TwiiteroXX1 ) A Path of Hurricane Odile's Destruction, Seen Through Instagram: Hurricane O......</td>\n",
              "      <td>2</td>\n",
              "      <td>TwiiteroXX  A Path of Hurricane Odiles Destruction Seen Through Instagram Hurricane O httptcoQg...</td>\n",
              "    </tr>\n",
              "    <tr>\n",
              "      <th>520</th>\n",
              "      <td>653</td>\n",
              "      <td>'511645568654131200'</td>\n",
              "      <td>RT @BlakeHarrington: Prayers to our friends and family in #Cabo #HurricaneODILE #LosCabos #cabos...</td>\n",
              "      <td>1</td>\n",
              "      <td>RT BlakeHarrington Prayers to our friends and family in Cabo HurricaneODILE LosCabos cabosanlucas</td>\n",
              "    </tr>\n",
              "    <tr>\n",
              "      <th>754</th>\n",
              "      <td>927</td>\n",
              "      <td>'516944744283648001'</td>\n",
              "      <td>RT @GreaterGoodorg: The destruction from Hurricane Odile just 11 days ago has left thousands of ...</td>\n",
              "      <td>5</td>\n",
              "      <td>RT GreaterGoodorg The destruction from Hurricane Odile just  days ago has left thousands of anim...</td>\n",
              "    </tr>\n",
              "    <tr>\n",
              "      <th>...</th>\n",
              "      <td>...</td>\n",
              "      <td>...</td>\n",
              "      <td>...</td>\n",
              "      <td>...</td>\n",
              "      <td>...</td>\n",
              "    </tr>\n",
              "    <tr>\n",
              "      <th>20</th>\n",
              "      <td>680</td>\n",
              "      <td>'511674835261747200'</td>\n",
              "      <td>@thehybridprince Hurricane Odile down near Mexico. I couldn't help it.</td>\n",
              "      <td>0</td>\n",
              "      <td>['thehybridprince Hurricane Odile down near Mexico I becuase help it']</td>\n",
              "    </tr>\n",
              "    <tr>\n",
              "      <th>277</th>\n",
              "      <td>356</td>\n",
              "      <td>'514062949464702976'</td>\n",
              "      <td>Watch @fox40 video of our efforts http://t.co/xtayHldcKy We're hearing about hotels, but not the...</td>\n",
              "      <td>4</td>\n",
              "      <td>Watch fox video of our efforts httptcoxtayHldcKy Were hearing about hotels but not the local nee...</td>\n",
              "    </tr>\n",
              "    <tr>\n",
              "      <th>411</th>\n",
              "      <td>522</td>\n",
              "      <td>'512283602080784385'</td>\n",
              "      <td>RT @earthskyscience: Major Hurricane Odile struck Baja late Sunday.  Photos of damage and firsth...</td>\n",
              "      <td>5</td>\n",
              "      <td>RT earthskyscience Major Hurricane Odile struck Baja late Sunday  Photos of damage and firsthand...</td>\n",
              "    </tr>\n",
              "    <tr>\n",
              "      <th>245</th>\n",
              "      <td>318</td>\n",
              "      <td>'511617863023853568'</td>\n",
              "      <td>my heart hurts looking at the devastation from #HurricaneODILE in #Cabo.  hope all friends and f...</td>\n",
              "      <td>1</td>\n",
              "      <td>my heart hurts looking at the devastation from HurricaneODILE in Cabo  hope all friends and fami...</td>\n",
              "    </tr>\n",
              "    <tr>\n",
              "      <th>87</th>\n",
              "      <td>110</td>\n",
              "      <td>'514218905674346496'</td>\n",
              "      <td>Ex-NFL QB calls for U.S. aid to Cabo after hurricane  http://t.co/oI6ynnpeHX</td>\n",
              "      <td>4</td>\n",
              "      <td>ExNFL QB calls for US aid to Cabo after hurricane  httptcooIynnpeHX</td>\n",
              "    </tr>\n",
              "  </tbody>\n",
              "</table>\n",
              "<p>1166 rows × 5 columns</p>\n",
              "</div>"
            ],
            "text/plain": [
              "     Unnamed: 0  ...                                                                                          tweet_punct\n",
              "385         494  ...                            Resorts report damage from Hurricane Odile httptcoKhLLRBFmN keeptraveling\n",
              "377         486  ...  RT AntsSNEweather Even though Odile has made landfall and center is overland currently he is sti...\n",
              "962        1171  ...   TwiiteroXX  A Path of Hurricane Odiles Destruction Seen Through Instagram Hurricane O httptcoQg...\n",
              "520         653  ...    RT BlakeHarrington Prayers to our friends and family in Cabo HurricaneODILE LosCabos cabosanlucas\n",
              "754         927  ...  RT GreaterGoodorg The destruction from Hurricane Odile just  days ago has left thousands of anim...\n",
              "..          ...  ...                                                                                                  ...\n",
              "20          680  ...                               ['thehybridprince Hurricane Odile down near Mexico I becuase help it']\n",
              "277         356  ...  Watch fox video of our efforts httptcoxtayHldcKy Were hearing about hotels but not the local nee...\n",
              "411         522  ...  RT earthskyscience Major Hurricane Odile struck Baja late Sunday  Photos of damage and firsthand...\n",
              "245         318  ...  my heart hurts looking at the devastation from HurricaneODILE in Cabo  hope all friends and fami...\n",
              "87          110  ...                                  ExNFL QB calls for US aid to Cabo after hurricane  httptcooIynnpeHX\n",
              "\n",
              "[1166 rows x 5 columns]"
            ]
          },
          "metadata": {},
          "execution_count": 119
        }
      ]
    },
    {
      "cell_type": "code",
      "metadata": {
        "id": "mjq7-lsID-04"
      },
      "source": [
        "final_df.to_csv('final_balanced_data_6_classes.csv', index=False)"
      ],
      "execution_count": 65,
      "outputs": []
    },
    {
      "cell_type": "code",
      "metadata": {
        "id": "6mRYUYiYEM75"
      },
      "source": [
        ""
      ],
      "execution_count": null,
      "outputs": []
    },
    {
      "cell_type": "markdown",
      "metadata": {
        "id": "SrDFDsaussSN"
      },
      "source": [
        "#Saving text files"
      ]
    },
    {
      "cell_type": "code",
      "metadata": {
        "colab": {
          "base_uri": "https://localhost:8080/"
        },
        "id": "F_mo2ZMUCJi3",
        "outputId": "5b5d9a95-dc68-42d5-ea53-2706df9152c5"
      },
      "source": [
        "from google.colab import drive\n",
        "drive.mount('/content/drive')"
      ],
      "execution_count": null,
      "outputs": [
        {
          "output_type": "stream",
          "name": "stdout",
          "text": [
            "Mounted at /content/drive\n"
          ]
        }
      ]
    },
    {
      "cell_type": "code",
      "metadata": {
        "id": "UtTKf_f0SV3H",
        "colab": {
          "base_uri": "https://localhost:8080/",
          "height": 35
        },
        "outputId": "01018a92-93eb-4a6f-c4d8-1598242473a2"
      },
      "source": [
        "pwd"
      ],
      "execution_count": null,
      "outputs": [
        {
          "output_type": "execute_result",
          "data": {
            "application/vnd.google.colaboratory.intrinsic+json": {
              "type": "string"
            },
            "text/plain": [
              "'/content'"
            ]
          },
          "metadata": {},
          "execution_count": 2
        }
      ]
    },
    {
      "cell_type": "code",
      "metadata": {
        "colab": {
          "base_uri": "https://localhost:8080/"
        },
        "id": "Q-bqyosSCcmS",
        "outputId": "8a03295e-0558-4444-bea9-c13f96d0a52a"
      },
      "source": [
        "cd /content/drive/MyDrive/ChiSquareX_NLP_Tutoring/Multi_Lingual/CrisisNLP_labeled_data/CrisisNLP_labeled_data_crowdflower/2014_Hurricane_Odile_Mexico_en"
      ],
      "execution_count": null,
      "outputs": [
        {
          "output_type": "stream",
          "name": "stdout",
          "text": [
            "/content/drive/MyDrive/ChiSquareX_NLP_Tutoring/Multi_Lingual/CrisisNLP_labeled_data/CrisisNLP_labeled_data_crowdflower/2014_Hurricane_Odile_Mexico_en\n"
          ]
        }
      ]
    },
    {
      "cell_type": "code",
      "metadata": {
        "colab": {
          "base_uri": "https://localhost:8080/"
        },
        "id": "RLlv_3Ol9Tn2",
        "outputId": "be45ffa0-5f93-4449-8510-169a500aeb42"
      },
      "source": [
        "ls"
      ],
      "execution_count": null,
      "outputs": [
        {
          "output_type": "stream",
          "name": "stdout",
          "text": [
            "2014_Hurricane_Odile_Mexico_en_CF_labeled_data.tsv  test_labels.txt\n",
            "final_balanced_data_6_classes.csv                   test_text_6classes.txt\n",
            "final_balanced_data.csv                             test_text.txt\n",
            "final_data_6_classes.csv                            train_labels_6classes.txt\n",
            "final_data.csv                                      train_labels.csv\n",
            "Irrel_Adv_6_Classes.csv                             train_labels.txt\n",
            "Irrel_Adv.csv                                       train_text_6classes.txt\n",
            "labeling-instructions.txt                           train_text.txt\n",
            "\u001b[0m\u001b[01;34mlogs\u001b[0m/                                               val_labels_6classes.txt\n",
            "\u001b[01;34mresults\u001b[0m/                                            val_labels.csv\n",
            "\u001b[01;34mresults_6classes\u001b[0m/                                   val_labels.txt\n",
            "test_labels_6classes.txt                            val_text_6classes.txt\n",
            "test_labels.csv                                     val_text.txt\n"
          ]
        }
      ]
    },
    {
      "cell_type": "code",
      "metadata": {
        "id": "rwlTqz219mb5"
      },
      "source": [
        "final_balanced_data_6_classes = pd.read_csv('final_balanced_data_6_classes.csv')"
      ],
      "execution_count": null,
      "outputs": []
    },
    {
      "cell_type": "code",
      "metadata": {
        "id": "Yd4MtPBQV4Nc"
      },
      "source": [
        "all_text = pd.DataFrame(final_balanced_data_6_classes[['tweet_punct']])"
      ],
      "execution_count": null,
      "outputs": []
    },
    {
      "cell_type": "code",
      "metadata": {
        "id": "iryQdSYssYNq"
      },
      "source": [
        "final_balanced_data_6_classes['label'] = final_balanced_data_6_classes['label'].astype(int)"
      ],
      "execution_count": null,
      "outputs": []
    },
    {
      "cell_type": "code",
      "metadata": {
        "colab": {
          "base_uri": "https://localhost:8080/"
        },
        "id": "mwS5td0wvUCB",
        "outputId": "cd1cf761-f09d-49e6-f99e-3ac3bd1f78af"
      },
      "source": [
        "print (final_balanced_data_6_classes.dtypes)"
      ],
      "execution_count": null,
      "outputs": [
        {
          "output_type": "stream",
          "name": "stdout",
          "text": [
            "Unnamed: 0      int64\n",
            "tweet_id       object\n",
            "tweet_text     object\n",
            "label           int64\n",
            "tweet_punct    object\n",
            "dtype: object\n"
          ]
        }
      ]
    },
    {
      "cell_type": "code",
      "metadata": {
        "id": "Ni_6DN-AdDqv"
      },
      "source": [
        "all_labels = pd.DataFrame(final_balanced_data_6_classes[['label']])"
      ],
      "execution_count": null,
      "outputs": []
    },
    {
      "cell_type": "code",
      "metadata": {
        "id": "137mR5rPdqtQ",
        "colab": {
          "base_uri": "https://localhost:8080/",
          "height": 35
        },
        "outputId": "0079c291-7c83-49b8-cd50-4b3d7e475f8b"
      },
      "source": [
        "#Play with these Hyper-Parameters\n",
        "'''\n",
        "train_frac= int(0.7*length)\n",
        "val_frac= int(0.8*length)\n",
        "test_frac= int(length+1)\n",
        "'''"
      ],
      "execution_count": null,
      "outputs": [
        {
          "output_type": "execute_result",
          "data": {
            "application/vnd.google.colaboratory.intrinsic+json": {
              "type": "string"
            },
            "text/plain": [
              "'\\ntrain_frac= int(0.7*length)\\nval_frac= int(0.8*length)\\ntest_frac= int(length+1)\\n'"
            ]
          },
          "metadata": {},
          "execution_count": 14
        }
      ]
    },
    {
      "cell_type": "code",
      "metadata": {
        "id": "vVwK5lswdqlQ"
      },
      "source": [
        "def save(df, train_frac, val_frac, test_frac, string):\n",
        "  length= len(df)\n",
        "  tf=train_frac #0.7\n",
        "  vf=train_frac+val_frac #0.8\n",
        "  train_frac= int(tf*length)\n",
        "  val_frac= int(vf*length)\n",
        "  test_frac= int(length+1)\n",
        "\n",
        "  train= df.iloc[0:train_frac, :]\n",
        "  val= df.iloc[train_frac:val_frac, :]\n",
        "  test=df.iloc[val_frac:, :]\n",
        "\n",
        "  if string== \"text\":\n",
        "    fmt= '%s'\n",
        "    np.savetxt(r'train_text.txt', train.values, fmt=fmt)\n",
        "    np.savetxt(r'val_text.txt', val.values, fmt=fmt)\n",
        "    np.savetxt(r'test_text.txt', test.values, fmt=fmt)\n",
        "  else:\n",
        "    '''\n",
        "    train.to_csv('train_labels.csv')\n",
        "    val.to_csv('val_labels.csv')\n",
        "    test.to_csv('test_labels.csv')\n",
        "    '''\n",
        "    fmt='%s'\n",
        "    np.savetxt(r'train_labels.txt', train.values, fmt=fmt)\n",
        "    np.savetxt(r'val_labels.txt', val.values, fmt=fmt)\n",
        "    np.savetxt(r'test_labels.txt', test.values, fmt=fmt)\n",
        "    "
      ],
      "execution_count": null,
      "outputs": []
    },
    {
      "cell_type": "code",
      "metadata": {
        "id": "s43WPI1hdqit"
      },
      "source": [
        "save(all_text, 0.7, 0.1, 0.2, \"text\")"
      ],
      "execution_count": null,
      "outputs": []
    },
    {
      "cell_type": "code",
      "metadata": {
        "id": "2CjACqcrdOAS"
      },
      "source": [
        "save(all_labels, 0.7, 0.1, 0.2, \"labels\")"
      ],
      "execution_count": null,
      "outputs": []
    },
    {
      "cell_type": "code",
      "metadata": {
        "id": "MQL2UtaTmDis"
      },
      "source": [
        ""
      ],
      "execution_count": null,
      "outputs": []
    },
    {
      "cell_type": "markdown",
      "metadata": {
        "id": "8uajzOmW7Awl"
      },
      "source": [
        "#Arabic Crisis Data Analysis"
      ]
    },
    {
      "cell_type": "code",
      "metadata": {
        "id": "F-UITwwe7E3m",
        "colab": {
          "base_uri": "https://localhost:8080/"
        },
        "outputId": "cc9efcc3-6c4c-4795-ff72-c86cd6542fac"
      },
      "source": [
        "from google.colab import drive\n",
        "drive.mount('/content/drive')"
      ],
      "execution_count": null,
      "outputs": [
        {
          "output_type": "stream",
          "name": "stdout",
          "text": [
            "Mounted at /content/drive\n"
          ]
        }
      ]
    },
    {
      "cell_type": "code",
      "metadata": {
        "id": "FJ4LytUL7VIO"
      },
      "source": [
        "path = \"/content/drive/MyDrive/ChiSquareX_NLP_Tutoring/Multi_Lingual/CrisisNLP_labeled_data/CrisisNLP_labeled_data_crowdflower/CrisisData_Arabic/البيانات/\""
      ],
      "execution_count": null,
      "outputs": []
    },
    {
      "cell_type": "code",
      "metadata": {
        "colab": {
          "base_uri": "https://localhost:8080/"
        },
        "id": "pSnGq-vw72R7",
        "outputId": "a25367c1-b884-453c-e99b-41ba1b4923d9"
      },
      "source": [
        "cd /content/drive/MyDrive/ChiSquareX_NLP_Tutoring/Multi_Lingual/CrisisNLP_labeled_data/CrisisNLP_labeled_data_crowdflower/CrisisData_Arabic/البيانات/"
      ],
      "execution_count": null,
      "outputs": [
        {
          "output_type": "stream",
          "name": "stdout",
          "text": [
            "/content/drive/MyDrive/ChiSquareX_NLP_Tutoring/Multi_Lingual/CrisisNLP_labeled_data/CrisisNLP_labeled_data_crowdflower/CrisisData_Arabic/البيانات\n"
          ]
        }
      ]
    },
    {
      "cell_type": "code",
      "metadata": {
        "colab": {
          "base_uri": "https://localhost:8080/",
          "height": 35
        },
        "id": "TRy0Zh1F73JS",
        "outputId": "430f9e96-cbfb-4444-8b81-7a6d5e4a7ca7"
      },
      "source": [
        "pwd"
      ],
      "execution_count": null,
      "outputs": [
        {
          "output_type": "execute_result",
          "data": {
            "application/vnd.google.colaboratory.intrinsic+json": {
              "type": "string"
            },
            "text/plain": [
              "'/content/drive/My Drive/ChiSquareX_NLP_Tutoring/Multi_Lingual/CrisisNLP_labeled_data/CrisisNLP_labeled_data_crowdflower/CrisisData_Arabic/البيانات'"
            ]
          },
          "metadata": {},
          "execution_count": 6
        }
      ]
    },
    {
      "cell_type": "code",
      "metadata": {
        "colab": {
          "base_uri": "https://localhost:8080/"
        },
        "id": "vrDljnnZ79mm",
        "outputId": "7d7c1b4d-a649-4a8e-a73f-49560161e6ee"
      },
      "source": [
        "ls -l"
      ],
      "execution_count": null,
      "outputs": [
        {
          "output_type": "stream",
          "name": "stdout",
          "text": [
            "total 6455\n",
            "-rw------- 1 root root  555565 Nov 21 16:29 Beirut.csv\n",
            "-rw------- 1 root root  288547 Nov 21 16:18 Cairo.csv\n",
            "-rw------- 1 root root 1222294 Nov 21 16:33 COVID.csv\n",
            "-rw------- 1 root root  542625 Nov 21 16:32 Dragon.csv\n",
            "-rw------- 1 root root  736737 Nov 21 16:27 Hafr.csv\n",
            "-rw------- 1 root root 1022418 Nov 21 16:23 Jordan.csv\n",
            "-rw------- 1 root root 2239533 Nov 21 16:28 Kuwait.csv\n"
          ]
        }
      ]
    },
    {
      "cell_type": "code",
      "metadata": {
        "colab": {
          "base_uri": "https://localhost:8080/"
        },
        "id": "u3fNaiRh86aR",
        "outputId": "4db11c5f-3e85-41eb-b4ed-ed72c1e9a443"
      },
      "source": [
        "!pip install transformers\n",
        "!pip install sentencepiece"
      ],
      "execution_count": null,
      "outputs": [
        {
          "output_type": "stream",
          "name": "stdout",
          "text": [
            "Collecting transformers\n",
            "  Downloading transformers-4.12.5-py3-none-any.whl (3.1 MB)\n",
            "\u001b[K     |████████████████████████████████| 3.1 MB 5.4 MB/s \n",
            "\u001b[?25hRequirement already satisfied: tqdm>=4.27 in /usr/local/lib/python3.7/dist-packages (from transformers) (4.62.3)\n",
            "Collecting huggingface-hub<1.0,>=0.1.0\n",
            "  Downloading huggingface_hub-0.1.2-py3-none-any.whl (59 kB)\n",
            "\u001b[K     |████████████████████████████████| 59 kB 5.9 MB/s \n",
            "\u001b[?25hRequirement already satisfied: regex!=2019.12.17 in /usr/local/lib/python3.7/dist-packages (from transformers) (2019.12.20)\n",
            "Requirement already satisfied: packaging>=20.0 in /usr/local/lib/python3.7/dist-packages (from transformers) (21.3)\n",
            "Requirement already satisfied: importlib-metadata in /usr/local/lib/python3.7/dist-packages (from transformers) (4.8.2)\n",
            "Collecting tokenizers<0.11,>=0.10.1\n",
            "  Downloading tokenizers-0.10.3-cp37-cp37m-manylinux_2_5_x86_64.manylinux1_x86_64.manylinux_2_12_x86_64.manylinux2010_x86_64.whl (3.3 MB)\n",
            "\u001b[K     |████████████████████████████████| 3.3 MB 32.7 MB/s \n",
            "\u001b[?25hCollecting sacremoses\n",
            "  Downloading sacremoses-0.0.46-py3-none-any.whl (895 kB)\n",
            "\u001b[K     |████████████████████████████████| 895 kB 48.5 MB/s \n",
            "\u001b[?25hCollecting pyyaml>=5.1\n",
            "  Downloading PyYAML-6.0-cp37-cp37m-manylinux_2_5_x86_64.manylinux1_x86_64.manylinux_2_12_x86_64.manylinux2010_x86_64.whl (596 kB)\n",
            "\u001b[K     |████████████████████████████████| 596 kB 49.0 MB/s \n",
            "\u001b[?25hRequirement already satisfied: numpy>=1.17 in /usr/local/lib/python3.7/dist-packages (from transformers) (1.19.5)\n",
            "Requirement already satisfied: filelock in /usr/local/lib/python3.7/dist-packages (from transformers) (3.4.0)\n",
            "Requirement already satisfied: requests in /usr/local/lib/python3.7/dist-packages (from transformers) (2.23.0)\n",
            "Requirement already satisfied: typing-extensions>=3.7.4.3 in /usr/local/lib/python3.7/dist-packages (from huggingface-hub<1.0,>=0.1.0->transformers) (3.10.0.2)\n",
            "Requirement already satisfied: pyparsing!=3.0.5,>=2.0.2 in /usr/local/lib/python3.7/dist-packages (from packaging>=20.0->transformers) (3.0.6)\n",
            "Requirement already satisfied: zipp>=0.5 in /usr/local/lib/python3.7/dist-packages (from importlib-metadata->transformers) (3.6.0)\n",
            "Requirement already satisfied: certifi>=2017.4.17 in /usr/local/lib/python3.7/dist-packages (from requests->transformers) (2021.10.8)\n",
            "Requirement already satisfied: chardet<4,>=3.0.2 in /usr/local/lib/python3.7/dist-packages (from requests->transformers) (3.0.4)\n",
            "Requirement already satisfied: urllib3!=1.25.0,!=1.25.1,<1.26,>=1.21.1 in /usr/local/lib/python3.7/dist-packages (from requests->transformers) (1.24.3)\n",
            "Requirement already satisfied: idna<3,>=2.5 in /usr/local/lib/python3.7/dist-packages (from requests->transformers) (2.10)\n",
            "Requirement already satisfied: six in /usr/local/lib/python3.7/dist-packages (from sacremoses->transformers) (1.15.0)\n",
            "Requirement already satisfied: click in /usr/local/lib/python3.7/dist-packages (from sacremoses->transformers) (7.1.2)\n",
            "Requirement already satisfied: joblib in /usr/local/lib/python3.7/dist-packages (from sacremoses->transformers) (1.1.0)\n",
            "Installing collected packages: pyyaml, tokenizers, sacremoses, huggingface-hub, transformers\n",
            "  Attempting uninstall: pyyaml\n",
            "    Found existing installation: PyYAML 3.13\n",
            "    Uninstalling PyYAML-3.13:\n",
            "      Successfully uninstalled PyYAML-3.13\n",
            "Successfully installed huggingface-hub-0.1.2 pyyaml-6.0 sacremoses-0.0.46 tokenizers-0.10.3 transformers-4.12.5\n",
            "Collecting sentencepiece\n",
            "  Downloading sentencepiece-0.1.96-cp37-cp37m-manylinux_2_17_x86_64.manylinux2014_x86_64.whl (1.2 MB)\n",
            "\u001b[K     |████████████████████████████████| 1.2 MB 5.5 MB/s \n",
            "\u001b[?25hInstalling collected packages: sentencepiece\n",
            "Successfully installed sentencepiece-0.1.96\n"
          ]
        }
      ]
    },
    {
      "cell_type": "code",
      "metadata": {
        "id": "kjsldSwi7_hF"
      },
      "source": [
        "import pandas as pd\n",
        "import numpy as np\n",
        "import seaborn as sns\n",
        "import matplotlib.pyplot as plt\n",
        "from sklearn.feature_extraction.text import CountVectorizer\n",
        "import nltk \n",
        "import string\n",
        "import re\n",
        "%matplotlib inline\n",
        "pd.set_option('display.max_colwidth', 100)"
      ],
      "execution_count": null,
      "outputs": []
    },
    {
      "cell_type": "code",
      "metadata": {
        "id": "lU1ah9xD8DQl"
      },
      "source": [
        "covid_arabic = pd.read_csv('COVID.csv')"
      ],
      "execution_count": null,
      "outputs": []
    },
    {
      "cell_type": "code",
      "metadata": {
        "colab": {
          "base_uri": "https://localhost:8080/",
          "height": 293
        },
        "id": "SPJG5TGk8Qwp",
        "outputId": "05493bb2-f579-485d-859f-34958ac1e32d"
      },
      "source": [
        "covid_arabic.head()"
      ],
      "execution_count": null,
      "outputs": [
        {
          "output_type": "execute_result",
          "data": {
            "text/html": [
              "<div>\n",
              "<style scoped>\n",
              "    .dataframe tbody tr th:only-of-type {\n",
              "        vertical-align: middle;\n",
              "    }\n",
              "\n",
              "    .dataframe tbody tr th {\n",
              "        vertical-align: top;\n",
              "    }\n",
              "\n",
              "    .dataframe thead th {\n",
              "        text-align: right;\n",
              "    }\n",
              "</style>\n",
              "<table border=\"1\" class=\"dataframe\">\n",
              "  <thead>\n",
              "    <tr style=\"text-align: right;\">\n",
              "      <th></th>\n",
              "      <th>ID</th>\n",
              "      <th>Text</th>\n",
              "      <th>Processed</th>\n",
              "      <th>Relevance</th>\n",
              "    </tr>\n",
              "  </thead>\n",
              "  <tbody>\n",
              "    <tr>\n",
              "      <th>0</th>\n",
              "      <td>[1262140646510526472]</td>\n",
              "      <td>['https://t.co/koTgnYkcc6\\nمخطط الخير #شمال_الرياض #العودة_بعد_كورونا  قروب مخططات الخير #استثنا...</td>\n",
              "      <td>مخطط الخير شمال الرياض العودة بعد كورونا قروب مخططات الخير استثناء الممارسين الصحيين</td>\n",
              "      <td>irrelevant</td>\n",
              "    </tr>\n",
              "    <tr>\n",
              "      <th>1</th>\n",
              "      <td>[1262140648658001921]</td>\n",
              "      <td>['RT @HashKSA: #مجتمع_تويتر ينعي #الممرض_خالد_الحسيني -رحمه الله- بعد وفاته بسبب فيروس #كورونا أ...</td>\n",
              "      <td>مجتمع تويتر ينعي الممرض خالد الحسيني رحمه الله بعد وفاته بسبب فيروس كورونا أثناء تأدية واجبه أبط...</td>\n",
              "      <td>relevant</td>\n",
              "    </tr>\n",
              "    <tr>\n",
              "      <th>2</th>\n",
              "      <td>[1262140651346550786]</td>\n",
              "      <td>['RT @mnasor39994: ايه نعم انا قبل ازمة #كورونا مفعل الرسيفر حقي قبله بشهر ويوم جات هٰذي الجائحة...</td>\n",
              "      <td>ايه نعم انا قبل ازمة كورونا مفعل الرسيفر حقي قبله بشهر ويوم جات هٰذي الجائحة حمانا الله وياكم من...</td>\n",
              "      <td>irrelevant</td>\n",
              "    </tr>\n",
              "    <tr>\n",
              "      <th>3</th>\n",
              "      <td>[1262140653435269123]</td>\n",
              "      <td>['RT @TheArabHash: مغردون ينعون أحد أبطال الصحة بمكة المكرمة \\u2067#الممرض_خالد_الحسيني بعد وفات...</td>\n",
              "      <td>مغردون ينعون أحد أبطال الصحة بمكة المكرمة ⁧ الممرض خالد الحسيني بعد وفاته نتيجة إصابته بفيروس ⁧ ...</td>\n",
              "      <td>relevant</td>\n",
              "    </tr>\n",
              "    <tr>\n",
              "      <th>4</th>\n",
              "      <td>[1262140655050121230]</td>\n",
              "      <td>['RT @8XcAIaZZYDt4eeW: شركة تعقيم بالرياض\\nتعقيم منازل\\nتعقيم فلل\\nتعقيم مدارس\\n#تعقيم مكاتب\\n#ت...</td>\n",
              "      <td>شركة تعقيم بالرياض تعقيم منازل تعقيم فلل تعقيم مدارس تعقيم مكاتب تعقيم مستشفيات تعقيم قصور تعقيم...</td>\n",
              "      <td>irrelevant</td>\n",
              "    </tr>\n",
              "  </tbody>\n",
              "</table>\n",
              "</div>"
            ],
            "text/plain": [
              "                      ID  ...   Relevance\n",
              "0  [1262140646510526472]  ...  irrelevant\n",
              "1  [1262140648658001921]  ...    relevant\n",
              "2  [1262140651346550786]  ...  irrelevant\n",
              "3  [1262140653435269123]  ...    relevant\n",
              "4  [1262140655050121230]  ...  irrelevant\n",
              "\n",
              "[5 rows x 4 columns]"
            ]
          },
          "metadata": {},
          "execution_count": 46
        }
      ]
    },
    {
      "cell_type": "code",
      "metadata": {
        "colab": {
          "base_uri": "https://localhost:8080/"
        },
        "id": "HBPjytHa8TsC",
        "outputId": "8984c906-4fc1-468c-a0c2-f88374cbc839"
      },
      "source": [
        "covid_arabic.info()"
      ],
      "execution_count": null,
      "outputs": [
        {
          "output_type": "stream",
          "name": "stdout",
          "text": [
            "<class 'pandas.core.frame.DataFrame'>\n",
            "RangeIndex: 2005 entries, 0 to 2004\n",
            "Data columns (total 4 columns):\n",
            " #   Column     Non-Null Count  Dtype \n",
            "---  ------     --------------  ----- \n",
            " 0   ID         2005 non-null   object\n",
            " 1   Text       2005 non-null   object\n",
            " 2   Processed  2005 non-null   object\n",
            " 3   Relevance  2005 non-null   object\n",
            "dtypes: object(4)\n",
            "memory usage: 62.8+ KB\n"
          ]
        }
      ]
    },
    {
      "cell_type": "code",
      "metadata": {
        "colab": {
          "base_uri": "https://localhost:8080/"
        },
        "id": "YdXTlnVw8cwL",
        "outputId": "f4fc7826-868d-46e6-ba84-d2dffd489903"
      },
      "source": [
        "len(covid_arabic[covid_arabic['Relevance']==\"irrelevant\"]) # irrelevant data id 9 times less than relevant data so do oversampling"
      ],
      "execution_count": null,
      "outputs": [
        {
          "output_type": "execute_result",
          "data": {
            "text/plain": [
              "223"
            ]
          },
          "metadata": {},
          "execution_count": 49
        }
      ]
    },
    {
      "cell_type": "markdown",
      "metadata": {
        "id": "uaoFYUoF9JTb"
      },
      "source": [
        "##Machine Translation of tweets from Arabic to English"
      ]
    },
    {
      "cell_type": "code",
      "metadata": {
        "id": "yvOQBBem9VYi"
      },
      "source": [
        "from transformers import M2M100ForConditionalGeneration, M2M100Tokenizer"
      ],
      "execution_count": null,
      "outputs": []
    },
    {
      "cell_type": "code",
      "metadata": {
        "colab": {
          "base_uri": "https://localhost:8080/",
          "height": 209,
          "referenced_widgets": [
            "7240a4a0bd524c34a7f5dcc29fdf618d",
            "dce04ef880844351a194b759493871db",
            "d84205626a2a4802bf481c3df7de39d4",
            "cddc5b230dbe4e07810392d2dc00663e",
            "fc5af3212fc04cf488b39c4413a152b7",
            "ac85d93d3ea8499da49ed467311f718d",
            "6bba33935edc4609ac45a9497f501eda",
            "24fe1f996eb34054babe7cd1b011e0f9",
            "e52047c63d214fd88bfe739d0ed891bb",
            "b16bfbaa57594b48976e7bab3d9d766c",
            "21dbcc40af2e4ec0bb8f1dd6c612c2d6",
            "8b83da600bfe435f93dfa9bd5641460a",
            "7396cb2eeaab4005a18b1c6fcccee790",
            "0184b276a3f845538a5f6c1d3d208054",
            "d067182b6ef844ad9fa47545813f43e9",
            "7c6480c1f7a84fb38ec6388ce7904dc1",
            "47864a363fa04a40a26f1c39eefc00c5",
            "5fcf523663bb4051b1ca556f278d7103",
            "1ca83cbfe61844e286e83ba2d84ecdc7",
            "3b3da94cb47f4bc68a4d3f4e0ad9a6cd",
            "ade4396815f7488ca84281fc8c313c99",
            "d5cdd9fdf2b84e30b3b39fd751eba815",
            "2000c8f0dd5348ae9d120c97115fa938",
            "5931520224354862ac014f47292bb42b",
            "622b14e9730f40bfb94ae2f58c951bd0",
            "a9613cb53156403e9765987c4ef3c5f5",
            "7fc5a05020be45179257785f7383a520",
            "ba4d151456794fc79a31c13c1b0e122c",
            "bf6815f277b54674ac0ee761d58cdb68",
            "f442145858c248b6a69f973622ffe87f",
            "a4564499f9ac4e5a9b500fa7497ae8c5",
            "a30e7a8afb5743488d4e71871fc688ea",
            "a72b6438c85345c38630b5b893451532",
            "a0fd9af5d2b64c30830ee9472b64d20d",
            "175a7887fa9f4234a05cd551ecafb9ff",
            "078d9d8ad9174ce0be6e46bc3850553f",
            "49d8960a3a424572af1ee9512698617a",
            "8f2ff85de4654fe5a1a0380cc81d466c",
            "290b7658059243129cbaee01bb2171e0",
            "d4ec3f5aa6e947ec86ef3c656c704761",
            "4963174715e345a58b596bb293f5a4b1",
            "4728ae65df8a4ddc8e2ca77268e3fba8",
            "4638643b0a7c41479ba19ddc10dd3cd2",
            "07c844ce1ac3443da07f04daf747b36f",
            "21aaa84af9d14b468a67c7e9d37fc5ba",
            "9ec13d41e7ba419bab84fbd2284a933a",
            "1c8ae9c2b89144fbb90a9d89ad6e77ec",
            "5997f3b9d18c4f9c9ea47f6f90b394ea",
            "24ae4d8925014a0182b41723f1fa352a",
            "6ef70d0d62b540d89f3ac27c604a6460",
            "32c8a1f442ff4fe7bb938304bcfc6146",
            "707c26c9b80e49b9af58ce7926e9e3ed",
            "d7c5011a7e6c4acbac5e531a53257c7b",
            "a51b5bb853ce49f9a2734039f92d092f",
            "fcae69b7e998434699ec528c47ef60cd",
            "1d4e67778efb44549d190c1be60b1af1",
            "5905fcb2d4c74ffab34e850a321636f2",
            "96a097bca4f5444692fb39050837e29b",
            "162c7651eb5644438bd0467e7ee68153",
            "c457f65da16e4ce899f770b8e53c947e",
            "4b265f69673244eab864945fb42c7d10",
            "4f44af3368d94a608c62608735e667ea",
            "273fcbf9b6924e84b6bab65b49010b96",
            "8acbabf639ef44738e17da9426aa7d11",
            "ee50c287df5a4122bf1effe4778d8d28",
            "5b19d0b9a9d941b9a4a1c2fd44ddd2fa"
          ]
        },
        "id": "pg_ARJ-E9d2L",
        "outputId": "30dc91e9-1b05-4b68-9e21-75d3b792db2d"
      },
      "source": [
        "model = M2M100ForConditionalGeneration.from_pretrained(\"facebook/m2m100_418M\")\n",
        "tokenizer = M2M100Tokenizer.from_pretrained(\"facebook/m2m100_418M\")"
      ],
      "execution_count": null,
      "outputs": [
        {
          "output_type": "display_data",
          "data": {
            "application/vnd.jupyter.widget-view+json": {
              "model_id": "7240a4a0bd524c34a7f5dcc29fdf618d",
              "version_minor": 0,
              "version_major": 2
            },
            "text/plain": [
              "Downloading:   0%|          | 0.00/908 [00:00<?, ?B/s]"
            ]
          },
          "metadata": {}
        },
        {
          "output_type": "display_data",
          "data": {
            "application/vnd.jupyter.widget-view+json": {
              "model_id": "8b83da600bfe435f93dfa9bd5641460a",
              "version_minor": 0,
              "version_major": 2
            },
            "text/plain": [
              "Downloading:   0%|          | 0.00/1.80G [00:00<?, ?B/s]"
            ]
          },
          "metadata": {}
        },
        {
          "output_type": "display_data",
          "data": {
            "application/vnd.jupyter.widget-view+json": {
              "model_id": "2000c8f0dd5348ae9d120c97115fa938",
              "version_minor": 0,
              "version_major": 2
            },
            "text/plain": [
              "Downloading:   0%|          | 0.00/3.54M [00:00<?, ?B/s]"
            ]
          },
          "metadata": {}
        },
        {
          "output_type": "display_data",
          "data": {
            "application/vnd.jupyter.widget-view+json": {
              "model_id": "a0fd9af5d2b64c30830ee9472b64d20d",
              "version_minor": 0,
              "version_major": 2
            },
            "text/plain": [
              "Downloading:   0%|          | 0.00/2.31M [00:00<?, ?B/s]"
            ]
          },
          "metadata": {}
        },
        {
          "output_type": "display_data",
          "data": {
            "application/vnd.jupyter.widget-view+json": {
              "model_id": "21aaa84af9d14b468a67c7e9d37fc5ba",
              "version_minor": 0,
              "version_major": 2
            },
            "text/plain": [
              "Downloading:   0%|          | 0.00/272 [00:00<?, ?B/s]"
            ]
          },
          "metadata": {}
        },
        {
          "output_type": "display_data",
          "data": {
            "application/vnd.jupyter.widget-view+json": {
              "model_id": "1d4e67778efb44549d190c1be60b1af1",
              "version_minor": 0,
              "version_major": 2
            },
            "text/plain": [
              "Downloading:   0%|          | 0.00/1.11k [00:00<?, ?B/s]"
            ]
          },
          "metadata": {}
        }
      ]
    },
    {
      "cell_type": "code",
      "metadata": {
        "id": "XpSVHxv7-Mi3"
      },
      "source": [
        "df_translated = pd.DataFrame()"
      ],
      "execution_count": null,
      "outputs": []
    },
    {
      "cell_type": "code",
      "metadata": {
        "id": "IrlHf5__-dPF"
      },
      "source": [
        "df_translated = covid_arabic.copy(deep = True)"
      ],
      "execution_count": null,
      "outputs": []
    },
    {
      "cell_type": "code",
      "metadata": {
        "colab": {
          "base_uri": "https://localhost:8080/",
          "height": 293
        },
        "id": "dZc22D9Z_KL4",
        "outputId": "09fdb809-5b71-454b-8350-0a14ac0d678e"
      },
      "source": [
        "df_translated.head()"
      ],
      "execution_count": null,
      "outputs": [
        {
          "output_type": "execute_result",
          "data": {
            "text/html": [
              "<div>\n",
              "<style scoped>\n",
              "    .dataframe tbody tr th:only-of-type {\n",
              "        vertical-align: middle;\n",
              "    }\n",
              "\n",
              "    .dataframe tbody tr th {\n",
              "        vertical-align: top;\n",
              "    }\n",
              "\n",
              "    .dataframe thead th {\n",
              "        text-align: right;\n",
              "    }\n",
              "</style>\n",
              "<table border=\"1\" class=\"dataframe\">\n",
              "  <thead>\n",
              "    <tr style=\"text-align: right;\">\n",
              "      <th></th>\n",
              "      <th>ID</th>\n",
              "      <th>Text</th>\n",
              "      <th>Processed</th>\n",
              "      <th>Relevance</th>\n",
              "    </tr>\n",
              "  </thead>\n",
              "  <tbody>\n",
              "    <tr>\n",
              "      <th>0</th>\n",
              "      <td>[1262140646510526472]</td>\n",
              "      <td>['https://t.co/koTgnYkcc6\\nمخطط الخير #شمال_الرياض #العودة_بعد_كورونا  قروب مخططات الخير #استثنا...</td>\n",
              "      <td>مخطط الخير شمال الرياض العودة بعد كورونا قروب مخططات الخير استثناء الممارسين الصحيين</td>\n",
              "      <td>irrelevant</td>\n",
              "    </tr>\n",
              "    <tr>\n",
              "      <th>1</th>\n",
              "      <td>[1262140648658001921]</td>\n",
              "      <td>['RT @HashKSA: #مجتمع_تويتر ينعي #الممرض_خالد_الحسيني -رحمه الله- بعد وفاته بسبب فيروس #كورونا أ...</td>\n",
              "      <td>مجتمع تويتر ينعي الممرض خالد الحسيني رحمه الله بعد وفاته بسبب فيروس كورونا أثناء تأدية واجبه أبط...</td>\n",
              "      <td>relevant</td>\n",
              "    </tr>\n",
              "    <tr>\n",
              "      <th>2</th>\n",
              "      <td>[1262140651346550786]</td>\n",
              "      <td>['RT @mnasor39994: ايه نعم انا قبل ازمة #كورونا مفعل الرسيفر حقي قبله بشهر ويوم جات هٰذي الجائحة...</td>\n",
              "      <td>ايه نعم انا قبل ازمة كورونا مفعل الرسيفر حقي قبله بشهر ويوم جات هٰذي الجائحة حمانا الله وياكم من...</td>\n",
              "      <td>irrelevant</td>\n",
              "    </tr>\n",
              "    <tr>\n",
              "      <th>3</th>\n",
              "      <td>[1262140653435269123]</td>\n",
              "      <td>['RT @TheArabHash: مغردون ينعون أحد أبطال الصحة بمكة المكرمة \\u2067#الممرض_خالد_الحسيني بعد وفات...</td>\n",
              "      <td>مغردون ينعون أحد أبطال الصحة بمكة المكرمة ⁧ الممرض خالد الحسيني بعد وفاته نتيجة إصابته بفيروس ⁧ ...</td>\n",
              "      <td>relevant</td>\n",
              "    </tr>\n",
              "    <tr>\n",
              "      <th>4</th>\n",
              "      <td>[1262140655050121230]</td>\n",
              "      <td>['RT @8XcAIaZZYDt4eeW: شركة تعقيم بالرياض\\nتعقيم منازل\\nتعقيم فلل\\nتعقيم مدارس\\n#تعقيم مكاتب\\n#ت...</td>\n",
              "      <td>شركة تعقيم بالرياض تعقيم منازل تعقيم فلل تعقيم مدارس تعقيم مكاتب تعقيم مستشفيات تعقيم قصور تعقيم...</td>\n",
              "      <td>irrelevant</td>\n",
              "    </tr>\n",
              "  </tbody>\n",
              "</table>\n",
              "</div>"
            ],
            "text/plain": [
              "                      ID  ...   Relevance\n",
              "0  [1262140646510526472]  ...  irrelevant\n",
              "1  [1262140648658001921]  ...    relevant\n",
              "2  [1262140651346550786]  ...  irrelevant\n",
              "3  [1262140653435269123]  ...    relevant\n",
              "4  [1262140655050121230]  ...  irrelevant\n",
              "\n",
              "[5 rows x 4 columns]"
            ]
          },
          "metadata": {},
          "execution_count": 52
        }
      ]
    },
    {
      "cell_type": "code",
      "metadata": {
        "colab": {
          "base_uri": "https://localhost:8080/",
          "height": 293
        },
        "id": "GqK-5A7VBfh0",
        "outputId": "3bd8a117-b33b-426b-d0b0-a6e8ce48c1b3"
      },
      "source": [
        "covid_arabic.head()"
      ],
      "execution_count": null,
      "outputs": [
        {
          "output_type": "execute_result",
          "data": {
            "text/html": [
              "<div>\n",
              "<style scoped>\n",
              "    .dataframe tbody tr th:only-of-type {\n",
              "        vertical-align: middle;\n",
              "    }\n",
              "\n",
              "    .dataframe tbody tr th {\n",
              "        vertical-align: top;\n",
              "    }\n",
              "\n",
              "    .dataframe thead th {\n",
              "        text-align: right;\n",
              "    }\n",
              "</style>\n",
              "<table border=\"1\" class=\"dataframe\">\n",
              "  <thead>\n",
              "    <tr style=\"text-align: right;\">\n",
              "      <th></th>\n",
              "      <th>ID</th>\n",
              "      <th>Text</th>\n",
              "      <th>Processed</th>\n",
              "      <th>Relevance</th>\n",
              "    </tr>\n",
              "  </thead>\n",
              "  <tbody>\n",
              "    <tr>\n",
              "      <th>0</th>\n",
              "      <td>[1262140646510526472]</td>\n",
              "      <td>['https://t.co/koTgnYkcc6\\nمخطط الخير #شمال_الرياض #العودة_بعد_كورونا  قروب مخططات الخير #استثنا...</td>\n",
              "      <td>مخطط الخير شمال الرياض العودة بعد كورونا قروب مخططات الخير استثناء الممارسين الصحيين</td>\n",
              "      <td>irrelevant</td>\n",
              "    </tr>\n",
              "    <tr>\n",
              "      <th>1</th>\n",
              "      <td>[1262140648658001921]</td>\n",
              "      <td>['RT @HashKSA: #مجتمع_تويتر ينعي #الممرض_خالد_الحسيني -رحمه الله- بعد وفاته بسبب فيروس #كورونا أ...</td>\n",
              "      <td>مجتمع تويتر ينعي الممرض خالد الحسيني رحمه الله بعد وفاته بسبب فيروس كورونا أثناء تأدية واجبه أبط...</td>\n",
              "      <td>relevant</td>\n",
              "    </tr>\n",
              "    <tr>\n",
              "      <th>2</th>\n",
              "      <td>[1262140651346550786]</td>\n",
              "      <td>['RT @mnasor39994: ايه نعم انا قبل ازمة #كورونا مفعل الرسيفر حقي قبله بشهر ويوم جات هٰذي الجائحة...</td>\n",
              "      <td>ايه نعم انا قبل ازمة كورونا مفعل الرسيفر حقي قبله بشهر ويوم جات هٰذي الجائحة حمانا الله وياكم من...</td>\n",
              "      <td>irrelevant</td>\n",
              "    </tr>\n",
              "    <tr>\n",
              "      <th>3</th>\n",
              "      <td>[1262140653435269123]</td>\n",
              "      <td>['RT @TheArabHash: مغردون ينعون أحد أبطال الصحة بمكة المكرمة \\u2067#الممرض_خالد_الحسيني بعد وفات...</td>\n",
              "      <td>مغردون ينعون أحد أبطال الصحة بمكة المكرمة ⁧ الممرض خالد الحسيني بعد وفاته نتيجة إصابته بفيروس ⁧ ...</td>\n",
              "      <td>relevant</td>\n",
              "    </tr>\n",
              "    <tr>\n",
              "      <th>4</th>\n",
              "      <td>[1262140655050121230]</td>\n",
              "      <td>['RT @8XcAIaZZYDt4eeW: شركة تعقيم بالرياض\\nتعقيم منازل\\nتعقيم فلل\\nتعقيم مدارس\\n#تعقيم مكاتب\\n#ت...</td>\n",
              "      <td>شركة تعقيم بالرياض تعقيم منازل تعقيم فلل تعقيم مدارس تعقيم مكاتب تعقيم مستشفيات تعقيم قصور تعقيم...</td>\n",
              "      <td>irrelevant</td>\n",
              "    </tr>\n",
              "  </tbody>\n",
              "</table>\n",
              "</div>"
            ],
            "text/plain": [
              "                      ID  ...   Relevance\n",
              "0  [1262140646510526472]  ...  irrelevant\n",
              "1  [1262140648658001921]  ...    relevant\n",
              "2  [1262140651346550786]  ...  irrelevant\n",
              "3  [1262140653435269123]  ...    relevant\n",
              "4  [1262140655050121230]  ...  irrelevant\n",
              "\n",
              "[5 rows x 4 columns]"
            ]
          },
          "metadata": {},
          "execution_count": 53
        }
      ]
    },
    {
      "cell_type": "code",
      "metadata": {
        "id": "OXuHmRsAAdTC"
      },
      "source": [
        "df_translated_small = covid_arabic.iloc[:5,:]"
      ],
      "execution_count": null,
      "outputs": []
    },
    {
      "cell_type": "code",
      "metadata": {
        "id": "664DSfz7958P"
      },
      "source": [
        "tokenizer.src_lang = \"ar\"\n",
        "for i in df_translated_small.index:\n",
        "  arabic_text= df_translated_small.at[i, 'Processed']\n",
        "  encoded_ar = tokenizer(arabic_text, return_tensors= \"pt\")\n",
        "  generated_tokens_eng = model.generate(**encoded_ar, forced_bos_token_id = tokenizer.get_lang_id(\"en\"))\n",
        "  eng_text = tokenizer.batch_decode(generated_tokens_eng, skip_special_tokens= True)\n",
        "  df_translated_small.at[i, 'Processed'] = eng_text"
      ],
      "execution_count": null,
      "outputs": []
    },
    {
      "cell_type": "code",
      "metadata": {
        "colab": {
          "base_uri": "https://localhost:8080/",
          "height": 293
        },
        "id": "LwN9F2UBASmo",
        "outputId": "4d0fe8c4-3108-43d5-927e-3c8e479e4504"
      },
      "source": [
        "df_translated_small.head()"
      ],
      "execution_count": null,
      "outputs": [
        {
          "output_type": "execute_result",
          "data": {
            "text/html": [
              "<div>\n",
              "<style scoped>\n",
              "    .dataframe tbody tr th:only-of-type {\n",
              "        vertical-align: middle;\n",
              "    }\n",
              "\n",
              "    .dataframe tbody tr th {\n",
              "        vertical-align: top;\n",
              "    }\n",
              "\n",
              "    .dataframe thead th {\n",
              "        text-align: right;\n",
              "    }\n",
              "</style>\n",
              "<table border=\"1\" class=\"dataframe\">\n",
              "  <thead>\n",
              "    <tr style=\"text-align: right;\">\n",
              "      <th></th>\n",
              "      <th>ID</th>\n",
              "      <th>Text</th>\n",
              "      <th>Processed</th>\n",
              "      <th>Relevance</th>\n",
              "    </tr>\n",
              "  </thead>\n",
              "  <tbody>\n",
              "    <tr>\n",
              "      <th>0</th>\n",
              "      <td>[1262140646510526472]</td>\n",
              "      <td>['https://t.co/koTgnYkcc6\\nمخطط الخير #شمال_الرياض #العودة_بعد_كورونا  قروب مخططات الخير #استثنا...</td>\n",
              "      <td>[The Northern Riyadh Charity Plan Returns After the Crown Crossing Charity Plan Except Health Pr...</td>\n",
              "      <td>irrelevant</td>\n",
              "    </tr>\n",
              "    <tr>\n",
              "      <th>1</th>\n",
              "      <td>[1262140648658001921]</td>\n",
              "      <td>['RT @HashKSA: #مجتمع_تويتر ينعي #الممرض_خالد_الحسيني -رحمه الله- بعد وفاته بسبب فيروس #كورونا أ...</td>\n",
              "      <td>[Twitter community acknowledges Nurse Khaled Al-Husseini after his death due to coronavirus whil...</td>\n",
              "      <td>relevant</td>\n",
              "    </tr>\n",
              "    <tr>\n",
              "      <th>2</th>\n",
              "      <td>[1262140651346550786]</td>\n",
              "      <td>['RT @mnasor39994: ايه نعم انا قبل ازمة #كورونا مفعل الرسيفر حقي قبله بشهر ويوم جات هٰذي الجائحة...</td>\n",
              "      <td>[I'm going to have a lot of money, I'm going to have a lot of money, I'm going to have a lot of ...</td>\n",
              "      <td>irrelevant</td>\n",
              "    </tr>\n",
              "    <tr>\n",
              "      <th>3</th>\n",
              "      <td>[1262140653435269123]</td>\n",
              "      <td>['RT @TheArabHash: مغردون ينعون أحد أبطال الصحة بمكة المكرمة \\u2067#الممرض_خالد_الحسيني بعد وفات...</td>\n",
              "      <td>[One of the Heroes of Health in Mumbai: Dr. Khaled Al-Hussein after his death as a result of his...</td>\n",
              "      <td>relevant</td>\n",
              "    </tr>\n",
              "    <tr>\n",
              "      <th>4</th>\n",
              "      <td>[1262140655050121230]</td>\n",
              "      <td>['RT @8XcAIaZZYDt4eeW: شركة تعقيم بالرياض\\nتعقيم منازل\\nتعقيم فلل\\nتعقيم مدارس\\n#تعقيم مكاتب\\n#ت...</td>\n",
              "      <td>[Home Health Health Health Health Health Health Health Health Health Health Health Health Health...</td>\n",
              "      <td>irrelevant</td>\n",
              "    </tr>\n",
              "  </tbody>\n",
              "</table>\n",
              "</div>"
            ],
            "text/plain": [
              "                      ID  ...   Relevance\n",
              "0  [1262140646510526472]  ...  irrelevant\n",
              "1  [1262140648658001921]  ...    relevant\n",
              "2  [1262140651346550786]  ...  irrelevant\n",
              "3  [1262140653435269123]  ...    relevant\n",
              "4  [1262140655050121230]  ...  irrelevant\n",
              "\n",
              "[5 rows x 4 columns]"
            ]
          },
          "metadata": {},
          "execution_count": 57
        }
      ]
    },
    {
      "cell_type": "code",
      "metadata": {
        "id": "dGgNMz1RGj_K"
      },
      "source": [
        ""
      ],
      "execution_count": null,
      "outputs": []
    },
    {
      "cell_type": "markdown",
      "metadata": {
        "id": "M95WregPx_WM"
      },
      "source": [
        "#Dataset Concatenation"
      ]
    },
    {
      "cell_type": "code",
      "metadata": {
        "id": "7sAEPJuNyC5B",
        "colab": {
          "base_uri": "https://localhost:8080/"
        },
        "outputId": "39613ec1-3572-4700-aaa4-56866ffa43d3"
      },
      "source": [
        "from google.colab import drive\n",
        "drive.mount('/content/drive')"
      ],
      "execution_count": null,
      "outputs": [
        {
          "output_type": "stream",
          "name": "stdout",
          "text": [
            "Drive already mounted at /content/drive; to attempt to forcibly remount, call drive.mount(\"/content/drive\", force_remount=True).\n"
          ]
        }
      ]
    },
    {
      "cell_type": "code",
      "metadata": {
        "id": "rPPfCzmOyUNN"
      },
      "source": [
        "import pandas as pd\n",
        "import numpy as np"
      ],
      "execution_count": null,
      "outputs": []
    },
    {
      "cell_type": "code",
      "metadata": {
        "id": "IVFndp6rzgv3"
      },
      "source": [
        "base_path = '/content/drive/MyDrive/ChiSquareX_NLP_Tutoring/Multi_Lingual/CrisisNLP_labeled_data_crowdflower'"
      ],
      "execution_count": null,
      "outputs": []
    },
    {
      "cell_type": "code",
      "metadata": {
        "id": "NYmTyLJEzxd9"
      },
      "source": [
        "cd /content/drive/MyDrive/ChiSquareX_NLP_Tutoring/Multi_Lingual/CrisisNLP_labeled_data_crowdflower"
      ],
      "execution_count": null,
      "outputs": []
    },
    {
      "cell_type": "code",
      "metadata": {
        "colab": {
          "base_uri": "https://localhost:8080/",
          "height": 35
        },
        "id": "Jyc_TUEPzyH8",
        "outputId": "bae606df-78a6-4fdb-c7b0-59a6b7fec6ce"
      },
      "source": [
        "pwd"
      ],
      "execution_count": null,
      "outputs": [
        {
          "output_type": "execute_result",
          "data": {
            "application/vnd.google.colaboratory.intrinsic+json": {
              "type": "string"
            },
            "text/plain": [
              "'/content/drive/MyDrive/ChiSquareX_NLP_Tutoring/Multi_Lingual/CrisisNLP_labeled_data_crowdflower'"
            ]
          },
          "metadata": {},
          "execution_count": 6
        }
      ]
    },
    {
      "cell_type": "code",
      "metadata": {
        "id": "WDI68PSQzy-g"
      },
      "source": [
        "df1 = pd.read_csv(base_path+'/2013_Pakistan_eq'+'/final_balanced_data.csv')"
      ],
      "execution_count": null,
      "outputs": []
    },
    {
      "cell_type": "code",
      "metadata": {
        "colab": {
          "base_uri": "https://localhost:8080/",
          "height": 424
        },
        "id": "S9T43mqQ0dV_",
        "outputId": "c323308a-c9ed-43ce-dc8c-abb3184e5f9d"
      },
      "source": [
        "df1"
      ],
      "execution_count": null,
      "outputs": [
        {
          "output_type": "execute_result",
          "data": {
            "text/html": [
              "<div>\n",
              "<style scoped>\n",
              "    .dataframe tbody tr th:only-of-type {\n",
              "        vertical-align: middle;\n",
              "    }\n",
              "\n",
              "    .dataframe tbody tr th {\n",
              "        vertical-align: top;\n",
              "    }\n",
              "\n",
              "    .dataframe thead th {\n",
              "        text-align: right;\n",
              "    }\n",
              "</style>\n",
              "<table border=\"1\" class=\"dataframe\">\n",
              "  <thead>\n",
              "    <tr style=\"text-align: right;\">\n",
              "      <th></th>\n",
              "      <th>Unnamed: 0</th>\n",
              "      <th>tweet_id</th>\n",
              "      <th>tweet_text</th>\n",
              "      <th>label</th>\n",
              "      <th>tweet_punct</th>\n",
              "    </tr>\n",
              "  </thead>\n",
              "  <tbody>\n",
              "    <tr>\n",
              "      <th>0</th>\n",
              "      <td>1818</td>\n",
              "      <td>'384089974577971200'</td>\n",
              "      <td>RT @everyEarthquake: USGS reports a M2.8 #eart...</td>\n",
              "      <td>1</td>\n",
              "      <td>RT everyEarthquake USGS reports a M earthquake...</td>\n",
              "    </tr>\n",
              "    <tr>\n",
              "      <th>1</th>\n",
              "      <td>1007</td>\n",
              "      <td>'383900239314550784'</td>\n",
              "      <td>RT @Aak0: Authorities shut down #Pakistan's fi...</td>\n",
              "      <td>0</td>\n",
              "      <td>RT Aak Authorities shut down Pakistans first g...</td>\n",
              "    </tr>\n",
              "    <tr>\n",
              "      <th>2</th>\n",
              "      <td>395</td>\n",
              "      <td>'384996134705307648'</td>\n",
              "      <td>#Sismo #Earthquake M 2.3, 60km SW of Valdez, A...</td>\n",
              "      <td>1</td>\n",
              "      <td>Sismo Earthquake M  km SW of Valdez Alaska htt...</td>\n",
              "    </tr>\n",
              "    <tr>\n",
              "      <th>3</th>\n",
              "      <td>1774</td>\n",
              "      <td>'384701354398076929'</td>\n",
              "      <td>#Earthquake M 4.9, 18km ESE of Kitaibaraki, Ja...</td>\n",
              "      <td>0</td>\n",
              "      <td>['Tremor M  km ESE of Kitaibaraki Japan Monday...</td>\n",
              "    </tr>\n",
              "    <tr>\n",
              "      <th>4</th>\n",
              "      <td>691</td>\n",
              "      <td>'384173623038058498'</td>\n",
              "      <td>RT +10 \"@haziq_qadri: Happy birthday to our Qu...</td>\n",
              "      <td>0</td>\n",
              "      <td>['RT  haziqqadri Happy birthday to our Quaid s...</td>\n",
              "    </tr>\n",
              "    <tr>\n",
              "      <th>...</th>\n",
              "      <td>...</td>\n",
              "      <td>...</td>\n",
              "      <td>...</td>\n",
              "      <td>...</td>\n",
              "      <td>...</td>\n",
              "    </tr>\n",
              "    <tr>\n",
              "      <th>2812</th>\n",
              "      <td>425</td>\n",
              "      <td>'383961239552294912'</td>\n",
              "      <td>RT @MehrTarar: #BalochistanEarthquake Entire v...</td>\n",
              "      <td>1</td>\n",
              "      <td>RT MehrTarar BalochistanEarthquake Entire vill...</td>\n",
              "    </tr>\n",
              "    <tr>\n",
              "      <th>2813</th>\n",
              "      <td>1647</td>\n",
              "      <td>'383461943757271040'</td>\n",
              "      <td>'Taliban should open their offices 4 peace tal...</td>\n",
              "      <td>0</td>\n",
              "      <td>Taliban should open their offices  peace talks...</td>\n",
              "    </tr>\n",
              "    <tr>\n",
              "      <th>2814</th>\n",
              "      <td>1131</td>\n",
              "      <td>'383937033514676224'</td>\n",
              "      <td>\"You are what you believe. And on this belief,...</td>\n",
              "      <td>0</td>\n",
              "      <td>['You are what you believe Und on this belief ...</td>\n",
              "    </tr>\n",
              "    <tr>\n",
              "      <th>2815</th>\n",
              "      <td>1758</td>\n",
              "      <td>'384336163214864385'</td>\n",
              "      <td>It is due to the #FailedSystem that we ourselv...</td>\n",
              "      <td>0</td>\n",
              "      <td>['It is due to the FailedSystem that we oursel...</td>\n",
              "    </tr>\n",
              "    <tr>\n",
              "      <th>2816</th>\n",
              "      <td>87</td>\n",
              "      <td>'384870330960850944'</td>\n",
              "      <td>1.6 magnitude #earthquake. 3 km from Avocado H...</td>\n",
              "      <td>1</td>\n",
              "      <td>magnitude earthquake  km from Avocado Heights...</td>\n",
              "    </tr>\n",
              "  </tbody>\n",
              "</table>\n",
              "<p>2817 rows × 5 columns</p>\n",
              "</div>"
            ],
            "text/plain": [
              "      Unnamed: 0  ...                                        tweet_punct\n",
              "0           1818  ...  RT everyEarthquake USGS reports a M earthquake...\n",
              "1           1007  ...  RT Aak Authorities shut down Pakistans first g...\n",
              "2            395  ...  Sismo Earthquake M  km SW of Valdez Alaska htt...\n",
              "3           1774  ...  ['Tremor M  km ESE of Kitaibaraki Japan Monday...\n",
              "4            691  ...  ['RT  haziqqadri Happy birthday to our Quaid s...\n",
              "...          ...  ...                                                ...\n",
              "2812         425  ...  RT MehrTarar BalochistanEarthquake Entire vill...\n",
              "2813        1647  ...  Taliban should open their offices  peace talks...\n",
              "2814        1131  ...  ['You are what you believe Und on this belief ...\n",
              "2815        1758  ...  ['It is due to the FailedSystem that we oursel...\n",
              "2816          87  ...   magnitude earthquake  km from Avocado Heights...\n",
              "\n",
              "[2817 rows x 5 columns]"
            ]
          },
          "metadata": {},
          "execution_count": 8
        }
      ]
    },
    {
      "cell_type": "code",
      "metadata": {
        "id": "JhvhA4wO0e5i"
      },
      "source": [
        "df2 = pd.read_csv(base_path+'/2014_California_Earthquake'+'/final_balanced_data.csv')\n",
        "df3 = pd.read_csv(base_path+'/2014_Chile_Earthquake_en'+'/final_balanced_data.csv')\n",
        "df4 = pd.read_csv(base_path+'/2014_Hurricane_Odile_Mexico_en'+'/final_balanced_data.csv')\n",
        "df5 = pd.read_csv(base_path+'/2014_India_floods'+'/final_balanced_data.csv')\n",
        "df6 = pd.read_csv(base_path+'/2014_Middle_East_Respiratory_Syndrome_en'+'/final_balanced_data.csv')\n",
        "df7 = pd.read_csv(base_path+'/2014_Pakistan_floods'+'/final_balanced_data.csv')\n",
        "df8 = pd.read_csv(base_path+'/2014_Philippines_Typhoon_Hagupit_en'+'/final_balanced_data.csv')\n",
        "df9 = pd.read_csv(base_path+'/2015_Nepal_Earthquake_en'+'/final_balanced_data.csv')\n",
        "df10 = pd.read_csv(base_path+'/2015_Cyclone_Pam_en'+'/final_balanced_data.csv')\n",
        "df11 = pd.read_csv(base_path+'/2014_ebola_cf'+'/final_balanced_data.csv')"
      ],
      "execution_count": null,
      "outputs": []
    },
    {
      "cell_type": "code",
      "metadata": {
        "id": "DuPm89w23PIo"
      },
      "source": [
        "df_final = pd.DataFrame()"
      ],
      "execution_count": null,
      "outputs": []
    },
    {
      "cell_type": "code",
      "metadata": {
        "id": "g_OiDwfO3cT4"
      },
      "source": [
        "df_final = df1.append([df2, df3, df4, df5, df6, df7, df8, df9, df10, df11])"
      ],
      "execution_count": null,
      "outputs": []
    },
    {
      "cell_type": "code",
      "metadata": {
        "id": "HK8MuNBl4eIR"
      },
      "source": [
        "pd.to_csv('df_final.csv')"
      ],
      "execution_count": null,
      "outputs": []
    },
    {
      "cell_type": "markdown",
      "metadata": {
        "id": "fHFNSlDH_sED"
      },
      "source": [
        "#Train,Val,Test Splits"
      ]
    },
    {
      "cell_type": "code",
      "metadata": {
        "colab": {
          "base_uri": "https://localhost:8080/"
        },
        "id": "wO-y_pv5_rbB",
        "outputId": "1a9984c4-17b5-454f-8526-d44f108085b6"
      },
      "source": [
        "from google.colab import drive\n",
        "drive.mount('/content/drive')"
      ],
      "execution_count": null,
      "outputs": [
        {
          "output_type": "stream",
          "name": "stdout",
          "text": [
            "Mounted at /content/drive\n"
          ]
        }
      ]
    },
    {
      "cell_type": "code",
      "metadata": {
        "id": "WtfA983Z_4uV"
      },
      "source": [
        "import pandas as pd\n",
        "import numpy as np\n",
        "import seaborn as sns\n",
        "import matplotlib.pyplot as plt\n",
        "from sklearn.feature_extraction.text import CountVectorizer\n",
        "import nltk \n",
        "import string\n",
        "import re\n",
        "%matplotlib inline\n",
        "pd.set_option('display.max_colwidth', 100)"
      ],
      "execution_count": null,
      "outputs": []
    },
    {
      "cell_type": "code",
      "metadata": {
        "id": "3nb-qbgRAeZ7"
      },
      "source": [
        "tweet_df = pd.read_csv('/content/drive/MyDrive/ChiSquareX_NLP_Tutoring/Multi_Lingual/df_final.csv')"
      ],
      "execution_count": null,
      "outputs": []
    },
    {
      "cell_type": "code",
      "metadata": {
        "colab": {
          "base_uri": "https://localhost:8080/"
        },
        "id": "KuKAw77WAog2",
        "outputId": "c68c36ce-595a-4439-f3da-a0ee5ac07878"
      },
      "source": [
        "tweet_df.info()"
      ],
      "execution_count": null,
      "outputs": [
        {
          "output_type": "stream",
          "name": "stdout",
          "text": [
            "<class 'pandas.core.frame.DataFrame'>\n",
            "RangeIndex: 31626 entries, 0 to 31625\n",
            "Data columns (total 6 columns):\n",
            " #   Column        Non-Null Count  Dtype  \n",
            "---  ------        --------------  -----  \n",
            " 0   Unnamed: 0    31626 non-null  int64  \n",
            " 1   Unnamed: 0.1  2817 non-null   float64\n",
            " 2   tweet_id      31626 non-null  object \n",
            " 3   tweet_text    31626 non-null  object \n",
            " 4   label         31626 non-null  int64  \n",
            " 5   tweet_punct   31626 non-null  object \n",
            "dtypes: float64(1), int64(2), object(3)\n",
            "memory usage: 1.4+ MB\n"
          ]
        }
      ]
    },
    {
      "cell_type": "code",
      "metadata": {
        "colab": {
          "base_uri": "https://localhost:8080/",
          "height": 206
        },
        "id": "C96q6Gc4AvyY",
        "outputId": "2b789604-bcd5-4748-c6ac-7c2cc082e8e0"
      },
      "source": [
        "tweet_df.head()"
      ],
      "execution_count": null,
      "outputs": [
        {
          "output_type": "execute_result",
          "data": {
            "text/html": [
              "<div>\n",
              "<style scoped>\n",
              "    .dataframe tbody tr th:only-of-type {\n",
              "        vertical-align: middle;\n",
              "    }\n",
              "\n",
              "    .dataframe tbody tr th {\n",
              "        vertical-align: top;\n",
              "    }\n",
              "\n",
              "    .dataframe thead th {\n",
              "        text-align: right;\n",
              "    }\n",
              "</style>\n",
              "<table border=\"1\" class=\"dataframe\">\n",
              "  <thead>\n",
              "    <tr style=\"text-align: right;\">\n",
              "      <th></th>\n",
              "      <th>Unnamed: 0</th>\n",
              "      <th>Unnamed: 0.1</th>\n",
              "      <th>tweet_id</th>\n",
              "      <th>tweet_text</th>\n",
              "      <th>label</th>\n",
              "      <th>tweet_punct</th>\n",
              "    </tr>\n",
              "  </thead>\n",
              "  <tbody>\n",
              "    <tr>\n",
              "      <th>0</th>\n",
              "      <td>981</td>\n",
              "      <td>NaN</td>\n",
              "      <td>'577163513933639680'</td>\n",
              "      <td>#Vanuatu #peacecorps volunteers are missing their families in #Vanuatu and drawing pictures for ...</td>\n",
              "      <td>0</td>\n",
              "      <td>Vanuatu peacecorps volunteers are missing their families in Vanuatu and drawing pictures for the...</td>\n",
              "    </tr>\n",
              "    <tr>\n",
              "      <th>1</th>\n",
              "      <td>946</td>\n",
              "      <td>NaN</td>\n",
              "      <td>'497770410583150592'</td>\n",
              "      <td>World: Uganda patient with Ebola-like signs tests negative http://t.co/wCQuGvsg1B</td>\n",
              "      <td>1</td>\n",
              "      <td>World Uganda patient with Ebolalike signs tests negative httptcowCQuGvsgB</td>\n",
              "    </tr>\n",
              "    <tr>\n",
              "      <th>2</th>\n",
              "      <td>894</td>\n",
              "      <td>NaN</td>\n",
              "      <td>'512015479763120128'</td>\n",
              "      <td>Foreign http://t.co/iE7jEjs7Yy by Lody Cash #HurricaneODILE #humiliation #healthcare #HelpSaveKe...</td>\n",
              "      <td>0</td>\n",
              "      <td>['Foreigners httptcoiEjEjsYy by Lody Cash HurricaneODILE humiliation healthcare HelpSaveKelechi ...</td>\n",
              "    </tr>\n",
              "    <tr>\n",
              "      <th>3</th>\n",
              "      <td>296</td>\n",
              "      <td>NaN</td>\n",
              "      <td>'512051426676465664'</td>\n",
              "      <td>RT @ErinSaidItWould: Wettest 12hrs in Tucson: Wed 6p-Thu 6am. Thursday morning commute will be a...</td>\n",
              "      <td>0</td>\n",
              "      <td>RT ErinSaidItWould Wettest hrs in Tucson Wed pThu am Thursday morning commute will be a soggy on...</td>\n",
              "    </tr>\n",
              "    <tr>\n",
              "      <th>4</th>\n",
              "      <td>2428</td>\n",
              "      <td>NaN</td>\n",
              "      <td>'504143827457044480'</td>\n",
              "      <td>Top story: How did the Napa earthquake affect sleep? https://t.co/NNoDPhP2Ps, see more http://t....</td>\n",
              "      <td>1</td>\n",
              "      <td>Top story How did the Napa earthquake affect sleep httpstcoNNoDPhPPs see more httptcoMbLLNxzsw</td>\n",
              "    </tr>\n",
              "  </tbody>\n",
              "</table>\n",
              "</div>"
            ],
            "text/plain": [
              "   Unnamed: 0  ...                                                                                          tweet_punct\n",
              "0         981  ...  Vanuatu peacecorps volunteers are missing their families in Vanuatu and drawing pictures for the...\n",
              "1         946  ...                            World Uganda patient with Ebolalike signs tests negative httptcowCQuGvsgB\n",
              "2         894  ...  ['Foreigners httptcoiEjEjsYy by Lody Cash HurricaneODILE humiliation healthcare HelpSaveKelechi ...\n",
              "3         296  ...  RT ErinSaidItWould Wettest hrs in Tucson Wed pThu am Thursday morning commute will be a soggy on...\n",
              "4        2428  ...       Top story How did the Napa earthquake affect sleep httpstcoNNoDPhPPs see more httptcoMbLLNxzsw\n",
              "\n",
              "[5 rows x 6 columns]"
            ]
          },
          "metadata": {},
          "execution_count": 5
        }
      ]
    },
    {
      "cell_type": "code",
      "metadata": {
        "id": "4aeLvrleABY7"
      },
      "source": [
        "all_text = pd.DataFrame(tweet_df[['tweet_punct']])"
      ],
      "execution_count": null,
      "outputs": []
    },
    {
      "cell_type": "code",
      "metadata": {
        "id": "MwKPnBqIARFY"
      },
      "source": [
        "all_labels = pd.DataFrame(tweet_df[['label']])"
      ],
      "execution_count": null,
      "outputs": []
    },
    {
      "cell_type": "code",
      "metadata": {
        "colab": {
          "base_uri": "https://localhost:8080/"
        },
        "id": "UZ9J-JdIBfYk",
        "outputId": "fe77bbf6-ee7b-4ff2-ccf6-41f1bc1b89c8"
      },
      "source": [
        "4000/31626"
      ],
      "execution_count": null,
      "outputs": [
        {
          "output_type": "execute_result",
          "data": {
            "text/plain": [
              "0.1264782141276165"
            ]
          },
          "metadata": {},
          "execution_count": 8
        }
      ]
    },
    {
      "cell_type": "code",
      "metadata": {
        "colab": {
          "base_uri": "https://localhost:8080/",
          "height": 35
        },
        "id": "MEfbX76-CMts",
        "outputId": "8513df61-f565-4fa8-9fe6-ec8a806ae09b"
      },
      "source": [
        "pwd"
      ],
      "execution_count": null,
      "outputs": [
        {
          "output_type": "execute_result",
          "data": {
            "application/vnd.google.colaboratory.intrinsic+json": {
              "type": "string"
            },
            "text/plain": [
              "'/content'"
            ]
          },
          "metadata": {},
          "execution_count": 9
        }
      ]
    },
    {
      "cell_type": "code",
      "metadata": {
        "colab": {
          "base_uri": "https://localhost:8080/"
        },
        "id": "2MJOMX3ZCQxq",
        "outputId": "39825c7c-7ef0-4ecc-c5ce-7d7409644dff"
      },
      "source": [
        "cd /content/drive/MyDrive/ChiSquareX_NLP_Tutoring/Multi_Lingual/"
      ],
      "execution_count": null,
      "outputs": [
        {
          "output_type": "stream",
          "name": "stdout",
          "text": [
            "/content/drive/MyDrive/ChiSquareX_NLP_Tutoring/Multi_Lingual\n"
          ]
        }
      ]
    },
    {
      "cell_type": "code",
      "metadata": {
        "colab": {
          "base_uri": "https://localhost:8080/",
          "height": 35
        },
        "id": "MNXLDExuCSAC",
        "outputId": "2b180ec1-b41f-43ed-9fe2-f55370ede4c6"
      },
      "source": [
        "pwd"
      ],
      "execution_count": null,
      "outputs": [
        {
          "output_type": "execute_result",
          "data": {
            "application/vnd.google.colaboratory.intrinsic+json": {
              "type": "string"
            },
            "text/plain": [
              "'/content/drive/MyDrive/ChiSquareX_NLP_Tutoring/Multi_Lingual'"
            ]
          },
          "metadata": {},
          "execution_count": 11
        }
      ]
    },
    {
      "cell_type": "code",
      "metadata": {
        "id": "r-fUNxKsAV1D"
      },
      "source": [
        "def save(df, train_frac, val_frac, test_frac, string):\n",
        "  length= len(df)\n",
        "  tf=train_frac #0.7\n",
        "  vf=train_frac+val_frac #0.8\n",
        "  train_frac= int(tf*length)\n",
        "  val_frac= int(vf*length)\n",
        "  test_frac= int(length+1)\n",
        "\n",
        "  train= df.iloc[0:train_frac, :]\n",
        "  val= df.iloc[train_frac:val_frac, :]\n",
        "  test=df.iloc[val_frac:, :]\n",
        "\n",
        "  if string== \"text\":\n",
        "    fmt= '%s'\n",
        "    np.savetxt(r'train_text.txt', train.values, fmt=fmt)\n",
        "    np.savetxt(r'val_text.txt', val.values, fmt=fmt)\n",
        "    np.savetxt(r'test_text.txt', test.values, fmt=fmt)\n",
        "  else:\n",
        "    '''\n",
        "    train.to_csv('train_labels.csv')\n",
        "    val.to_csv('val_labels.csv')\n",
        "    test.to_csv('test_labels.csv')\n",
        "    '''\n",
        "    fmt='%s'\n",
        "    np.savetxt(r'train_labels.txt', train.values, fmt=fmt)\n",
        "    np.savetxt(r'val_labels.txt', val.values, fmt=fmt)\n",
        "    np.savetxt(r'test_labels.txt', test.values, fmt=fmt)"
      ],
      "execution_count": null,
      "outputs": []
    },
    {
      "cell_type": "code",
      "metadata": {
        "id": "fhQjYnu4AYv8"
      },
      "source": [
        "save(all_text, 0.8, 0.08, 0.12, \"text\")"
      ],
      "execution_count": null,
      "outputs": []
    },
    {
      "cell_type": "code",
      "metadata": {
        "id": "k_yjJx3pAbKD"
      },
      "source": [
        "save(all_labels, 0.8, 0.08, 0.12, \"labels\")"
      ],
      "execution_count": null,
      "outputs": []
    },
    {
      "cell_type": "code",
      "metadata": {
        "id": "_Sdw1g74CWws"
      },
      "source": [
        ""
      ],
      "execution_count": null,
      "outputs": []
    },
    {
      "cell_type": "markdown",
      "metadata": {
        "id": "6zoxUvFr7opT"
      },
      "source": [
        "#Analysing Balanced Data of 6 Class cases"
      ]
    },
    {
      "cell_type": "code",
      "metadata": {
        "colab": {
          "base_uri": "https://localhost:8080/"
        },
        "id": "kzdHwCSa7te3",
        "outputId": "328474cd-7860-4d11-de28-c53308169b55"
      },
      "source": [
        "from google.colab import drive\n",
        "drive.mount('/content/drive')"
      ],
      "execution_count": null,
      "outputs": [
        {
          "output_type": "stream",
          "name": "stdout",
          "text": [
            "Mounted at /content/drive\n"
          ]
        }
      ]
    },
    {
      "cell_type": "code",
      "metadata": {
        "id": "5hKpNuZQ8Vct"
      },
      "source": [
        "import pandas as pd\n",
        "import numpy as np\n",
        "import seaborn as sns\n",
        "import matplotlib.pyplot as plt\n",
        "from sklearn.feature_extraction.text import CountVectorizer\n",
        "import nltk \n",
        "import string\n",
        "import re\n",
        "%matplotlib inline\n",
        "pd.set_option('display.max_colwidth', 100)"
      ],
      "execution_count": null,
      "outputs": []
    },
    {
      "cell_type": "code",
      "metadata": {
        "colab": {
          "base_uri": "https://localhost:8080/"
        },
        "id": "-Djvq62Z7vQg",
        "outputId": "8ad909e7-97b6-41d2-998b-7f0ae3812960"
      },
      "source": [
        "cd \"/content/drive/MyDrive/ChiSquareX_NLP_Tutoring/Multi_Lingual/\""
      ],
      "execution_count": null,
      "outputs": [
        {
          "output_type": "stream",
          "name": "stdout",
          "text": [
            "/content/drive/MyDrive/ChiSquareX_NLP_Tutoring/Multi_Lingual\n"
          ]
        }
      ]
    },
    {
      "cell_type": "code",
      "metadata": {
        "colab": {
          "base_uri": "https://localhost:8080/"
        },
        "id": "0Ry7Nuj-8Bfa",
        "outputId": "c61f6d77-62e0-4aa3-af80-9d1675a56618"
      },
      "source": [
        "ls"
      ],
      "execution_count": null,
      "outputs": [
        {
          "output_type": "stream",
          "name": "stdout",
          "text": [
            "'CrisisNLP_Data_Handling_final_version_6_classes_with Machine_Translation.ipynb'\n",
            " \u001b[0m\u001b[01;34mCrisisNLP_labeled_data\u001b[0m/\n",
            " \u001b[01;34mCrisisNLP_labeled_data_crowdflower\u001b[0m/\n",
            " df_final.csv\n",
            " MultiLingual_Trial_Notebook.ipynb\n",
            " \u001b[01;34mNew_CrisisNLP_labeled_data_crowdflower\u001b[0m/\n",
            " test_labels.csv\n",
            " test_labels.txt\n",
            " test_text.txt\n",
            " train_labels.csv\n",
            " train_labels.txt\n",
            " train_text.txt\n",
            " val_labels.csv\n",
            " val_labels.txt\n",
            " val_text.txt\n",
            " XLM_T_Extract_embeddings_from_text_file.ipynb\n",
            " XLM_T_Fine_tuning_on_custom_datasets.ipynb\n",
            " XLM_T_Playground.ipynb\n",
            " XLM_T_Run_a_classifier_on_a_text_file.ipynb\n"
          ]
        }
      ]
    },
    {
      "cell_type": "code",
      "metadata": {
        "colab": {
          "base_uri": "https://localhost:8080/"
        },
        "id": "jb1CU3Hg8DHD",
        "outputId": "f06c3687-29ec-425c-fc2d-b538d97e9f87"
      },
      "source": [
        "cd New_CrisisNLP_labeled_data_crowdflower"
      ],
      "execution_count": null,
      "outputs": [
        {
          "output_type": "stream",
          "name": "stdout",
          "text": [
            "/content/drive/MyDrive/ChiSquareX_NLP_Tutoring/Multi_Lingual/New_CrisisNLP_labeled_data_crowdflower\n"
          ]
        }
      ]
    },
    {
      "cell_type": "code",
      "metadata": {
        "colab": {
          "base_uri": "https://localhost:8080/"
        },
        "id": "stA0QGSA8FLO",
        "outputId": "5394ae90-ae33-484b-8ca2-e0f4529ded55"
      },
      "source": [
        "ls"
      ],
      "execution_count": null,
      "outputs": [
        {
          "output_type": "stream",
          "name": "stdout",
          "text": [
            " \u001b[0m\u001b[01;34m2013_Pakistan_eq\u001b[0m/                 \u001b[01;34m2014_Middle_East_Respiratory_Syndrome_en\u001b[0m/\n",
            " \u001b[01;34m2014_California_Earthquake\u001b[0m/       \u001b[01;34m2014_Pakistan_floods\u001b[0m/\n",
            " \u001b[01;34m2014_Chile_Earthquake_cl\u001b[0m/         \u001b[01;34m2014_Philippines_Typhoon_Hagupit_en\u001b[0m/\n",
            " \u001b[01;34m2014_Chile_Earthquake_en\u001b[0m/         \u001b[01;34m2015_Cyclone_Pam_en\u001b[0m/\n",
            " \u001b[01;34m2014_ebola_cf\u001b[0m/                    \u001b[01;34m2015_Nepal_Earthquake_en\u001b[0m/\n",
            " \u001b[01;34m2014_Hurricane_Odile_Mexico_en\u001b[0m/   README.txt\n",
            " \u001b[01;34m2014_India_floods\u001b[0m/               'Terms of use.txt'\n"
          ]
        }
      ]
    },
    {
      "cell_type": "code",
      "metadata": {
        "colab": {
          "base_uri": "https://localhost:8080/"
        },
        "id": "8UKL3gup8GhV",
        "outputId": "5884b75d-8a57-428c-df7e-2714758f9124"
      },
      "source": [
        "cd /content/drive/My Drive/ChiSquareX_NLP_Tutoring/Multi_Lingual/New_CrisisNLP_labeled_data_crowdflower/2015_Cyclone_Pam_en/"
      ],
      "execution_count": null,
      "outputs": [
        {
          "output_type": "stream",
          "name": "stdout",
          "text": [
            "/content/drive/My Drive/ChiSquareX_NLP_Tutoring/Multi_Lingual/New_CrisisNLP_labeled_data_crowdflower/2015_Cyclone_Pam_en\n"
          ]
        }
      ]
    },
    {
      "cell_type": "code",
      "metadata": {
        "colab": {
          "base_uri": "https://localhost:8080/"
        },
        "id": "54pgLHuH8Jkh",
        "outputId": "c2b24081-fc5f-4102-d9ff-b7ad2fa7c56d"
      },
      "source": [
        "ls"
      ],
      "execution_count": null,
      "outputs": [
        {
          "output_type": "stream",
          "name": "stdout",
          "text": [
            "2015_Cyclone_Pam_en_CF_labeled_data.tsv  test_text.txt\n",
            "final_balanced_data_6_classes.csv        train_labels.txt\n",
            "final_data_6_classes.csv                 train_text.txt\n",
            "Irrel_Adv_6_Classes.csv                  val_labels.txt\n",
            "labeling-instructions.txt                val_text.txt\n",
            "test_labels.txt\n"
          ]
        }
      ]
    },
    {
      "cell_type": "code",
      "metadata": {
        "id": "E2q_WIMg8Kbv"
      },
      "source": [
        "df1 = pd.read_csv('final_data_6_classes.csv')"
      ],
      "execution_count": null,
      "outputs": []
    },
    {
      "cell_type": "code",
      "metadata": {
        "colab": {
          "base_uri": "https://localhost:8080/"
        },
        "id": "E7NOexDV8XaI",
        "outputId": "b37b8fe5-07e5-49ec-ecf7-ec90cdb9dab6"
      },
      "source": [
        "df1.info()"
      ],
      "execution_count": null,
      "outputs": [
        {
          "output_type": "stream",
          "name": "stdout",
          "text": [
            "<class 'pandas.core.frame.DataFrame'>\n",
            "RangeIndex: 1954 entries, 0 to 1953\n",
            "Data columns (total 5 columns):\n",
            " #   Column       Non-Null Count  Dtype \n",
            "---  ------       --------------  ----- \n",
            " 0   Unnamed: 0   1954 non-null   int64 \n",
            " 1   tweet_id     1954 non-null   object\n",
            " 2   tweet_text   1954 non-null   object\n",
            " 3   label        1954 non-null   int64 \n",
            " 4   tweet_punct  1954 non-null   object\n",
            "dtypes: int64(2), object(3)\n",
            "memory usage: 76.5+ KB\n"
          ]
        }
      ]
    },
    {
      "cell_type": "code",
      "metadata": {
        "colab": {
          "base_uri": "https://localhost:8080/"
        },
        "id": "HlQisPvT8Yia",
        "outputId": "180eb746-d44a-49aa-9437-211180d3da1e"
      },
      "source": [
        "len(df1[df1.label==0]), len(df1[df1.label==1]), len(df1[df1.label==2]), len(df1[df1.label==3]), len(df1[df1.label==4]), len(df1[df1.label==5])"
      ],
      "execution_count": null,
      "outputs": [
        {
          "output_type": "execute_result",
          "data": {
            "text/plain": [
              "(496, 185, 212, 208, 363, 490)"
            ]
          },
          "metadata": {},
          "execution_count": 61
        }
      ]
    },
    {
      "cell_type": "code",
      "metadata": {
        "id": "WD3JNzCO877c"
      },
      "source": [
        "'''\n",
        "New Final Class Labels:\n",
        "\n",
        "not_related_or_irrelevant == 0\n",
        "sympathy_and_emotional_support + caution_and_advice == 1\n",
        "infrastructure_and_utilities_damage == 2\n",
        "displaced_people_and_evacuations + injured_or_dead_people + missing_trapped_or_found_people == 3\n",
        "donation_needs_or_offers_or_volunteering_services == 4\n",
        "other_useful_information == 5\n",
        "\n",
        "'''"
      ],
      "execution_count": null,
      "outputs": []
    }
  ]
}